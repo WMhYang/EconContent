{
 "cells": [
  {
   "cell_type": "code",
   "execution_count": 128,
   "metadata": {},
   "outputs": [],
   "source": [
    "import dask\n",
    "import pandas as pd\n",
    "import numpy as np\n",
    "import matplotlib as mpl\n",
    "from matplotlib import pyplot as plt\n",
    "from pylab import *\n",
    "import seaborn\n",
    "import jieba\n",
    "import re\n",
    "import string\n",
    "from zhon.hanzi import punctuation, stops, non_stops\n",
    "import gensim\n",
    "from gensim.models.word2vec import Word2Vec, LineSentence\n",
    "import sklearn\n",
    "from sklearn.decomposition import PCA\n",
    "from sklearn.manifold import TSNE\n",
    "import timeit\n",
    "import warnings\n",
    "import zipfile\n",
    "import os\n",
    "import sys\n",
    "import copy\n",
    "warnings.filterwarnings('ignore')"
   ]
  },
  {
   "cell_type": "code",
   "execution_count": 1,
   "metadata": {},
   "outputs": [
    {
     "name": "stdout",
     "output_type": "stream",
     "text": [
      "Who is using the notebook? Minghao_RCC\n"
     ]
    }
   ],
   "source": [
    "# load the corpus for word2vec\n",
    "user = input(\"Who is using the notebook? \")\n",
    "if user == \"Tim\":\n",
    "    corpus_name = \"/Users/timqzhang/Desktop/UChicago/MACSS_Spring_2020/content_local/rmrb/7z\"\n",
    "elif user == \"Linghui\":\n",
    "    corpus_name = \"/Users/linghuiwu/uchicago/courseworks/soci40133/rmrb/7z\"\n",
    "elif user == \"Minghao\":\n",
    "    corpus_name = \"D:/学习资料/研一三学期/Content Analysis/Final_Project/rmrb/7z\"\n",
    "elif user == \"Minghao_RCC\":\n",
    "    corpus_name = \"/home/mhyang/EconContent/data/corpus_by_year/\""
   ]
  },
  {
   "cell_type": "markdown",
   "metadata": {},
   "source": [
    "### Word2Vec with full sample"
   ]
  },
  {
   "cell_type": "code",
   "execution_count": 5,
   "metadata": {},
   "outputs": [
    {
     "name": "stdout",
     "output_type": "stream",
     "text": [
      "Is this the first time to train the model? No\n"
     ]
    }
   ],
   "source": [
    "# a first time indicator \n",
    "# please enter \"No\" because the word2vec model with full sample has been uploaded to git repo\n",
    "first_time = input(\"Is this the first time to train the word2vec model with full sample? \")"
   ]
  },
  {
   "cell_type": "code",
   "execution_count": 6,
   "metadata": {},
   "outputs": [
    {
     "name": "stdout",
     "output_type": "stream",
     "text": [
      "CPU times: user 1.45 s, sys: 608 ms, total: 2.06 s\n",
      "Wall time: 2.56 s\n"
     ]
    }
   ],
   "source": [
    "%%time\n",
    "if first_time == \"Yes\":\n",
    "#     corpus_full = []\n",
    "#     for year in range(1965, 2003):\n",
    "#         with open(corpus_name + \"{}.txt\".format(year), encoding='utf-8') as f:\n",
    "#             for line in f:\n",
    "#                 tokens = line.split(' ')\n",
    "#                 tokens.remove('\\n')\n",
    "#                 corpus_full.append(tokens)\n",
    "#     model_full = Word2Vec(corpus_full, size=200, window=10, min_count=5, workers=8, seed=0)\n",
    "#     model_full.save('../data/rmrb_full_W2V')\n",
    "    print(\"Please rerun the above cell and enter \\\"No\\\".\")\n",
    "else:\n",
    "    try:\n",
    "        model_full = Word2Vec.load('../models/Word2Vec&Doc2Vec/rmrb_full_W2V')\n",
    "    except FileNotFoundError:\n",
    "        print(\"Please download the .npy files from box because they are larger than 100M.\")"
   ]
  },
  {
   "cell_type": "code",
   "execution_count": 7,
   "metadata": {},
   "outputs": [
    {
     "data": {
      "text/plain": [
       "[('国民经济', 0.7047548890113831),\n",
       " ('经济社会', 0.6835517287254333),\n",
       " ('在经济上', 0.584583044052124),\n",
       " ('城乡经济', 0.5507814884185791),\n",
       " ('工业生产', 0.5420782566070557),\n",
       " ('商品流通', 0.5362972021102905),\n",
       " ('对外贸易', 0.5362279415130615),\n",
       " ('经济繁荣', 0.5219799280166626),\n",
       " ('工业', 0.5194350481033325),\n",
       " ('宏观经济', 0.5095250606536865),\n",
       " ('产业', 0.5007330775260925),\n",
       " ('商品生产', 0.49550092220306396),\n",
       " ('商品经济', 0.4891799986362457),\n",
       " ('政治经济', 0.48831894993782043),\n",
       " ('物资流通', 0.4858139753341675),\n",
       " ('生产力', 0.48249131441116333),\n",
       " ('出口贸易', 0.4787532389163971),\n",
       " ('国家', 0.4786701202392578),\n",
       " ('经贸', 0.475691556930542),\n",
       " ('平衡', 0.47392386198043823),\n",
       " ('企业', 0.4730418622493744),\n",
       " ('发展', 0.4718932807445526),\n",
       " ('稳定', 0.46824193000793457),\n",
       " ('赖际', 0.46810856461524963),\n",
       " ('沿海经济', 0.4664963185787201),\n",
       " ('集体经济', 0.4660484790802002),\n",
       " ('生产', 0.46557676792144775),\n",
       " ('旅游业', 0.4646378755569458),\n",
       " ('加工工业', 0.464486300945282),\n",
       " ('国际贸易', 0.4625011384487152)]"
      ]
     },
     "execution_count": 7,
     "metadata": {},
     "output_type": "execute_result"
    }
   ],
   "source": [
    "# most similar words to \"经济\"\n",
    "model_full.most_similar(\"经济\", topn=30)"
   ]
  },
  {
   "cell_type": "code",
   "execution_count": 8,
   "metadata": {},
   "outputs": [
    {
     "data": {
      "text/plain": [
       "[('在政治上', 0.7189272046089172),\n",
       " ('政治素质', 0.49460527300834656),\n",
       " ('党的建设', 0.4752221703529358),\n",
       " ('崇美', 0.4627997875213623),\n",
       " ('党建', 0.4455682337284088),\n",
       " ('道德修养', 0.44051045179367065),\n",
       " ('教育', 0.4352807402610779),\n",
       " ('作风纪律', 0.4329605996608734),\n",
       " ('社会主义', 0.43256697058677673),\n",
       " ('德党', 0.42983633279800415),\n",
       " ('政治路线', 0.4284876585006714),\n",
       " ('党的领导', 0.42812931537628174),\n",
       " ('政治宣传', 0.4278131127357483),\n",
       " ('政治性', 0.4265213906764984),\n",
       " ('必须', 0.4184496998786926),\n",
       " ('专政', 0.4180828332901001),\n",
       " ('军事', 0.4180217981338501),\n",
       " ('社会', 0.4163997769355774),\n",
       " ('道德', 0.41571980714797974),\n",
       " ('阶级斗争', 0.413579523563385),\n",
       " ('革命性', 0.41300487518310547),\n",
       " ('加诺兄', 0.41279923915863037),\n",
       " ('上筑牢', 0.4124164283275604),\n",
       " ('理论', 0.4100203514099121),\n",
       " ('资产阶级', 0.40842607617378235),\n",
       " ('民主', 0.4040853679180145),\n",
       " ('政治工作者', 0.4038689136505127),\n",
       " ('强调', 0.4020741581916809),\n",
       " ('意识形态', 0.401529461145401),\n",
       " ('巴迪亚', 0.3998579978942871)]"
      ]
     },
     "execution_count": 8,
     "metadata": {},
     "output_type": "execute_result"
    }
   ],
   "source": [
    "# most similar words to \"政治\"\n",
    "model_full.most_similar(\"政治\", topn=30)"
   ]
  },
  {
   "cell_type": "code",
   "execution_count": 9,
   "metadata": {},
   "outputs": [
    {
     "data": {
      "text/plain": [
       "[('社会', 0.5568037033081055),\n",
       " ('社会主义', 0.5322310924530029),\n",
       " ('政治经济', 0.5294690132141113),\n",
       " ('国民经济', 0.5292337536811829),\n",
       " ('巴迪亚', 0.5210733413696289),\n",
       " ('经济社会', 0.518622100353241),\n",
       " ('必须', 0.5129322409629822),\n",
       " ('改革', 0.507105827331543),\n",
       " ('西元彻', 0.5062365531921387),\n",
       " ('在政治上', 0.4994303584098816),\n",
       " ('关系', 0.4970846176147461),\n",
       " ('德党', 0.49647772312164307),\n",
       " ('文化', 0.4950624108314514),\n",
       " ('各项', 0.49228447675704956),\n",
       " ('发展', 0.4885441064834595),\n",
       " ('政策', 0.4873436689376831),\n",
       " ('方面', 0.4856113791465759),\n",
       " ('自身', 0.48548656702041626),\n",
       " ('船旗国', 0.4851929843425751),\n",
       " ('通政', 0.4812116026878357)]"
      ]
     },
     "execution_count": 9,
     "metadata": {},
     "output_type": "execute_result"
    }
   ],
   "source": [
    "# most similar words to \"政治\" + \"经济\"\n",
    "model_full.most_similar(positive=[u\"政治\", u\"经济\"], topn=20)"
   ]
  },
  {
   "cell_type": "code",
   "execution_count": 10,
   "metadata": {},
   "outputs": [
    {
     "data": {
      "text/plain": [
       "[('国营企业', 0.7253013253211975),\n",
       " ('骨干企业', 0.6966310143470764),\n",
       " ('集体企业', 0.6965148448944092),\n",
       " ('小企业', 0.6924573183059692),\n",
       " ('工商企业', 0.6889418363571167),\n",
       " ('国有企业', 0.6807361841201782),\n",
       " ('小型企业', 0.6621137857437134),\n",
       " ('乡镇企业', 0.6548891663551331),\n",
       " ('行业', 0.652941107749939),\n",
       " ('经营', 0.6449532508850098),\n",
       " ('外贸企业', 0.6357970237731934),\n",
       " ('亏损企业', 0.6312141418457031),\n",
       " ('三资企业', 0.5996057391166687),\n",
       " ('产品', 0.5948319435119629),\n",
       " ('中小企业', 0.5900083780288696),\n",
       " ('资产', 0.587431013584137),\n",
       " ('工厂', 0.5856354236602783),\n",
       " ('化工企业', 0.5763827562332153),\n",
       " ('全民企业', 0.5759526491165161),\n",
       " ('单位', 0.572801411151886)]"
      ]
     },
     "execution_count": 10,
     "metadata": {},
     "output_type": "execute_result"
    }
   ],
   "source": [
    "# most similar words to \"企业\"\n",
    "model_full.most_similar(\"企业\", topn=20)"
   ]
  },
  {
   "cell_type": "code",
   "execution_count": 11,
   "metadata": {},
   "outputs": [
    {
     "data": {
      "text/plain": [
       "[('墙脚', 0.5380445122718811),\n",
       " ('公有', 0.535496711730957),\n",
       " ('初级阶段', 0.4975186884403229),\n",
       " ('私有制', 0.49537062644958496),\n",
       " ('私有化', 0.46867311000823975),\n",
       " ('国营经济', 0.4633598327636719),\n",
       " ('单干', 0.4611584544181824),\n",
       " ('两极分化', 0.4496586322784424),\n",
       " ('所有制', 0.44949597120285034),\n",
       " ('个体经济', 0.4468238949775696)]"
      ]
     },
     "execution_count": 11,
     "metadata": {},
     "output_type": "execute_result"
    }
   ],
   "source": [
    "# 公有制 + 资本主义 - 社会主义\n",
    "model_full.most_similar(positive=[u'公有制', u'资本主义'], negative=[u'社会主义'])"
   ]
  },
  {
   "cell_type": "code",
   "execution_count": 12,
   "metadata": {},
   "outputs": [
    {
     "data": {
      "text/plain": [
       "[('市场经济', 0.5006380677223206),\n",
       " ('统购包销', 0.4762028455734253),\n",
       " ('小农经济', 0.4687221646308899),\n",
       " ('墙脚', 0.4580497741699219),\n",
       " ('统得', 0.4492679536342621),\n",
       " ('商品经济', 0.44538071751594543),\n",
       " ('初级阶段', 0.440067321062088),\n",
       " ('短缺经济', 0.42808371782302856),\n",
       " ('空想', 0.42348188161849976),\n",
       " ('计划体制', 0.41563528776168823)]"
      ]
     },
     "execution_count": 12,
     "metadata": {},
     "output_type": "execute_result"
    }
   ],
   "source": [
    "# 公有制 + 资本主义 - 社会主义\n",
    "model_full.most_similar(positive=[u'计划经济', u'资本主义'], negative=[u'社会主义'])"
   ]
  },
  {
   "cell_type": "markdown",
   "metadata": {},
   "source": [
    "### Projection with economics and politics subsample"
   ]
  },
  {
   "cell_type": "code",
   "execution_count": 61,
   "metadata": {},
   "outputs": [
    {
     "name": "stdout",
     "output_type": "stream",
     "text": [
      "Is this the first time to train the word2vec model with economics and politics sample? No\n"
     ]
    }
   ],
   "source": [
    "# a first time indicator \n",
    "# please enter \"No\" because the word2vec model with subsample has been uploaded to git repo\n",
    "first_time = input(\"Is this the first time to train the word2vec model with economics and politics sample? \")"
   ]
  },
  {
   "cell_type": "code",
   "execution_count": 63,
   "metadata": {},
   "outputs": [
    {
     "name": "stdout",
     "output_type": "stream",
     "text": [
      "CPU times: user 626 ms, sys: 213 ms, total: 839 ms\n",
      "Wall time: 1.3 s\n"
     ]
    }
   ],
   "source": [
    "%%time\n",
    "# train the word2vec model with economics and politics subsample\n",
    "if first_time == 'Yes':\n",
    "#     corpus_sub = []\n",
    "#     for year in range(1965, 2003):\n",
    "#         with open(corpus_name + \"{}.txt\".format(year), encoding='utf-8') as f:\n",
    "#             for line in f:\n",
    "#                 tokens = line.split(' ')\n",
    "#                 tokens.remove('\\n')\n",
    "#                 corpus_sub.append(tokens)\n",
    "#     model_sub = Word2Vec(corpus_sub, size=200, window=10, min_count=5, workers=8, seed=0)\n",
    "#     model_sub.save('../models/Word2Vec&Doc2Vec/rmrb_sub_W2V')\n",
    "    print(\"Please rerun the above cell and enter \\\"No\\\".\")\n",
    "else:\n",
    "    try:\n",
    "        model_sub = Word2Vec.load('../models/Word2Vec&Doc2Vec/rmrb_sub_W2V')\n",
    "    except FileNotFoundError:\n",
    "        print(\"Please download the .npy files from box because they are larger than 100M.\")"
   ]
  },
  {
   "cell_type": "code",
   "execution_count": 64,
   "metadata": {},
   "outputs": [],
   "source": [
    "# Prepare for visualization\n",
    "VisNumWords = 50\n",
    "VisTargetWords = model_sub.wv.index2word[:VisNumWords]\n",
    "\n",
    "VisWordsSubMatrix = []\n",
    "for word in VisTargetWords:\n",
    "    VisWordsSubMatrix.append(model_sub[word])\n",
    "VisWordsSubMatrix = np.array(VisWordsSubMatrix)"
   ]
  },
  {
   "cell_type": "code",
   "execution_count": 65,
   "metadata": {},
   "outputs": [
    {
     "data": {
      "image/png": "[encoded data removed]",
      "text/plain": [
       "<Figure size 1080x648 with 1 Axes>"
      ]
     },
     "metadata": {},
     "output_type": "display_data"
    }
   ],
   "source": [
    "# Visualization with T-SNE \n",
    "VisPCAWords = PCA(n_components = 50).fit(VisWordsSubMatrix)\n",
    "VisReducedPCA = VisPCAWords.transform(VisWordsSubMatrix)\n",
    "VisTSNEWords = TSNE(n_components = 2).fit_transform(VisReducedPCA)\n",
    "\n",
    "mpl.rcParams['font.sans-serif'] = ['SimHei']\n",
    "\n",
    "fig = plt.figure(figsize = (15, 9))\n",
    "ax = fig.add_subplot(111)\n",
    "ax.set_frame_on(False)\n",
    "plt.scatter(VisTSNEWords[:, 0], VisTSNEWords[:, 1], alpha = 0)#Making the points invisible \n",
    "for i, word in enumerate(VisTargetWords):\n",
    "    ax.annotate(word, (VisTSNEWords[:, 0][i], VisTSNEWords[:, 1][i]), size =  20 * (VisNumWords - i) / VisNumWords)\n",
    "plt.xticks(())\n",
    "plt.yticks(())\n",
    "plt.show()"
   ]
  },
  {
   "cell_type": "code",
   "execution_count": 66,
   "metadata": {},
   "outputs": [
    {
     "data": {
      "text/plain": [
       "[('计划体制', 0.6442259550094604),\n",
       " ('计划调节', 0.6439828872680664),\n",
       " ('市场调节', 0.6180932521820068),\n",
       " ('短缺经济', 0.5950658917427063),\n",
       " ('转轨', 0.5811647176742554),\n",
       " ('高度集中', 0.5631114840507507),\n",
       " ('经济体制', 0.5481372475624084),\n",
       " ('体制', 0.5398797988891602),\n",
       " ('市场机制', 0.5385992527008057),\n",
       " ('统得', 0.5231367349624634),\n",
       " ('统购包销', 0.5207663774490356),\n",
       " ('价值规律', 0.5160901546478271),\n",
       " ('市场经济', 0.5151220560073853),\n",
       " ('公有制', 0.5126941204071045),\n",
       " ('自然经济', 0.5121173858642578),\n",
       " ('指令性', 0.5049662590026855),\n",
       " ('小农经济', 0.5004916191101074),\n",
       " ('僵化', 0.49541807174682617),\n",
       " ('双轨制', 0.495257169008255),\n",
       " ('商品经济', 0.4913255572319031)]"
      ]
     },
     "execution_count": 66,
     "metadata": {},
     "output_type": "execute_result"
    }
   ],
   "source": [
    "# most similar words to \"计划经济\"\n",
    "model_full.most_similar(\"计划经济\", topn=20)"
   ]
  },
  {
   "cell_type": "code",
   "execution_count": 67,
   "metadata": {},
   "outputs": [
    {
     "data": {
      "text/plain": [
       "[('商品经济', 0.8256054520606995),\n",
       " ('经济体制', 0.5783637166023254),\n",
       " ('商品生产', 0.5539597272872925),\n",
       " ('市场机制', 0.5441486239433289),\n",
       " ('初级阶段', 0.5326134562492371),\n",
       " ('计划经济', 0.5151219367980957),\n",
       " ('自我完善', 0.5099714994430542),\n",
       " ('义利观', 0.4840741753578186),\n",
       " ('市场调节', 0.48258620500564575),\n",
       " ('法制', 0.48011767864227295),\n",
       " ('市场', 0.4618592858314514),\n",
       " ('搞活经济', 0.4542299509048462),\n",
       " ('分配原则', 0.4508650302886963),\n",
       " ('价值规律', 0.4496119022369385),\n",
       " ('商品流通', 0.4416325092315674),\n",
       " ('论库', 0.4387979209423065),\n",
       " ('法治', 0.43433648347854614),\n",
       " ('社会存在', 0.4284587800502777),\n",
       " ('公有制', 0.4279572665691376),\n",
       " ('经济基础', 0.41887450218200684)]"
      ]
     },
     "execution_count": 67,
     "metadata": {},
     "output_type": "execute_result"
    }
   ],
   "source": [
    "# most similar words to \"市场经济\"\n",
    "model_full.most_similar(\"市场经济\", topn=20)"
   ]
  },
  {
   "cell_type": "code",
   "execution_count": 68,
   "metadata": {},
   "outputs": [],
   "source": [
    "# words to create dimensions\n",
    "ProjTargetWords = ['计划经济', '短缺经济', '计划', '计划调节', '计划体制', '市场经济', '商品经济', '市场', '市场调节', '市场机制']"
   ]
  },
  {
   "cell_type": "code",
   "execution_count": 69,
   "metadata": {},
   "outputs": [],
   "source": [
    "# words to be mapped: industries (come from 《国民经济行业分类》)\n",
    "ProjTargetWords += ['农业', '采矿业', '制造业', '能源工业', '建筑业', '零售业', \n",
    "                    '交通运输业', '餐饮业', '金融业', '房地产业']"
   ]
  },
  {
   "cell_type": "code",
   "execution_count": 70,
   "metadata": {},
   "outputs": [
    {
     "data": {
      "text/plain": [
       "[('国营企业', 0.7253013253211975),\n",
       " ('骨干企业', 0.6966310143470764),\n",
       " ('集体企业', 0.6965148448944092),\n",
       " ('小企业', 0.6924573183059692),\n",
       " ('工商企业', 0.6889418363571167),\n",
       " ('国有企业', 0.6807361841201782),\n",
       " ('小型企业', 0.6621137857437134),\n",
       " ('乡镇企业', 0.6548891663551331),\n",
       " ('行业', 0.652941107749939),\n",
       " ('经营', 0.6449532508850098),\n",
       " ('外贸企业', 0.6357970237731934),\n",
       " ('亏损企业', 0.6312141418457031),\n",
       " ('三资企业', 0.5996057391166687),\n",
       " ('产品', 0.5948319435119629),\n",
       " ('中小企业', 0.5900083780288696),\n",
       " ('资产', 0.587431013584137),\n",
       " ('工厂', 0.5856354236602783),\n",
       " ('化工企业', 0.5763827562332153),\n",
       " ('全民企业', 0.5759526491165161),\n",
       " ('单位', 0.572801411151886),\n",
       " ('国企', 0.5710006952285767),\n",
       " ('外资企业', 0.5680456161499023),\n",
       " ('大中企业', 0.5668426156044006),\n",
       " ('国有资产', 0.5625597238540649),\n",
       " ('企业经营者', 0.5600638389587402),\n",
       " ('上市公司', 0.5492286682128906),\n",
       " ('私营企业', 0.548046350479126),\n",
       " ('大厂', 0.5462716221809387),\n",
       " ('经营者', 0.5420036315917969),\n",
       " ('民营企业', 0.5411615371704102),\n",
       " ('子公司', 0.5393684506416321),\n",
       " ('医药企业', 0.5352437496185303),\n",
       " ('工业', 0.535004198551178),\n",
       " ('产业', 0.5341747403144836),\n",
       " ('国有', 0.5322416424751282),\n",
       " ('产品销售', 0.5320726633071899),\n",
       " ('各厂', 0.5308046936988831),\n",
       " ('经济实体', 0.5305493474006653),\n",
       " ('原材料', 0.5299824476242065),\n",
       " ('国有资本', 0.5211448669433594)]"
      ]
     },
     "execution_count": 70,
     "metadata": {},
     "output_type": "execute_result"
    }
   ],
   "source": [
    "# most similar words to \"企业\"\n",
    "model_full.most_similar(\"企业\", topn=40)"
   ]
  },
  {
   "cell_type": "code",
   "execution_count": 71,
   "metadata": {},
   "outputs": [],
   "source": [
    "# words to be mapped: firms \n",
    "ProjTargetWords += ['国营企业', '集体企业', '国有企业', '乡镇企业', \n",
    "                    '三资企业', '外资企业', '私营企业', '民营企业']"
   ]
  },
  {
   "cell_type": "code",
   "execution_count": 72,
   "metadata": {},
   "outputs": [],
   "source": [
    "# words submatrix\n",
    "ProjWordsSubMatrix = []\n",
    "for word in ProjTargetWords:\n",
    "    ProjWordsSubMatrix.append(model_sub[word])\n",
    "ProjWordsSubMatrix = np.array(ProjWordsSubMatrix)"
   ]
  },
  {
   "cell_type": "code",
   "execution_count": 73,
   "metadata": {},
   "outputs": [
    {
     "data": {
      "image/png": "[encoded data removed]",
      "text/plain": [
       "<Figure size 1080x648 with 1 Axes>"
      ]
     },
     "metadata": {},
     "output_type": "display_data"
    }
   ],
   "source": [
    "# Visualization\n",
    "ProjPCATargetWords = PCA(n_components = 20).fit(ProjWordsSubMatrix)\n",
    "ProjReducedPCA = ProjPCATargetWords.transform(ProjWordsSubMatrix)\n",
    "ProjTSNETargetWords = TSNE(n_components = 2).fit_transform(ProjReducedPCA)\n",
    "\n",
    "mpl.rcParams['font.sans-serif'] = ['SimHei']\n",
    "\n",
    "fig = plt.figure(figsize=(15, 9))\n",
    "ax = fig.add_subplot(111)\n",
    "ax.set_frame_on(False)\n",
    "plt.scatter(ProjTSNETargetWords[:, 0], ProjTSNETargetWords[:, 1], alpha = 0) #Making the points invisible\n",
    "for i, word in enumerate(ProjTargetWords):\n",
    "    ax.annotate(word, (ProjTSNETargetWords[:, 0][i], ProjTSNETargetWords[:, 1][i]), \n",
    "                size=50 * (len(ProjTargetWords) - i) / len(ProjTargetWords))\n",
    "plt.xticks(())\n",
    "plt.yticks(())\n",
    "plt.show()"
   ]
  },
  {
   "cell_type": "code",
   "execution_count": 74,
   "metadata": {},
   "outputs": [],
   "source": [
    "# necessary functions\n",
    "def normalize(vector):\n",
    "    normalized_vector = vector / np.linalg.norm(vector)\n",
    "    return normalized_vector\n",
    "\n",
    "def dimension(model, positives, negatives):\n",
    "    diff = (np.array([normalize(model[x]) for x in positives]).sum(axis=0) - \n",
    "            np.array([normalize(model[y]) for y in negatives]).sum(axis=0))\n",
    "    return diff"
   ]
  },
  {
   "cell_type": "code",
   "execution_count": 75,
   "metadata": {},
   "outputs": [],
   "source": [
    "# Create dimensions\n",
    "plan_mkt = dimension(model_sub,\n",
    "                     ['计划经济', '短缺经济', '计划', '计划调节', '计划体制'],\n",
    "                     ['市场经济', '商品经济', '市场', '市场调节', '市场机制'])"
   ]
  },
  {
   "cell_type": "code",
   "execution_count": 76,
   "metadata": {},
   "outputs": [],
   "source": [
    "# Create domains\n",
    "Industries = ['农业', '采矿业', '制造业', '能源工业', '建筑业', '零售业', \n",
    "              '交通运输业', '餐饮业', '金融业', '房地产业']\n",
    "\n",
    "Firms = ['国营企业', '集体企业', '国有企业', '乡镇企业', \n",
    "         '三资企业', '外资企业', '私营企业', '民营企业']"
   ]
  },
  {
   "cell_type": "code",
   "execution_count": 77,
   "metadata": {},
   "outputs": [],
   "source": [
    "def makeDF(model, word_list):\n",
    "    p_m = []\n",
    "    for word in word_list:\n",
    "        p_m.append(sklearn.metrics.pairwise.cosine_similarity(model[word].reshape(1,-1), plan_mkt.reshape(1,-1))[0][0])\n",
    "    df = pd.DataFrame({'Regime': p_m}, index = word_list)\n",
    "    return df"
   ]
  },
  {
   "cell_type": "code",
   "execution_count": 78,
   "metadata": {},
   "outputs": [],
   "source": [
    "# Get the projections\n",
    "Inddf = makeDF(model_sub, Industries)\n",
    "Firmdf = makeDF(model_sub, Firms)"
   ]
  },
  {
   "cell_type": "code",
   "execution_count": 79,
   "metadata": {},
   "outputs": [],
   "source": [
    "# Functions for plotting\n",
    "def Coloring(Series):\n",
    "    x = Series.values\n",
    "    y = x-x.min()\n",
    "    z = y/y.max()\n",
    "    c = list(plt.cm.rainbow(z))\n",
    "    return c\n",
    "\n",
    "def PlotDimension(ax,df, dim):\n",
    "    ax.set_frame_on(False)\n",
    "    ax.set_title(dim, fontsize = 15, x=0.11, y=1.1)\n",
    "    colors = Coloring(df[dim])\n",
    "    for i, word in enumerate(df.index):\n",
    "        ax.annotate(word, (0, df[dim][i]), color = colors[i], alpha = 0.6, fontsize = 12)\n",
    "    MaxY = df[dim].max()\n",
    "    MinY = df[dim].min()\n",
    "    plt.ylim(MinY,MaxY)\n",
    "    plt.yticks(())\n",
    "    plt.xticks(())"
   ]
  },
  {
   "cell_type": "code",
   "execution_count": 80,
   "metadata": {},
   "outputs": [
    {
     "data": {
      "image/png": "[encoded data removed]",
      "text/plain": [
       "<Figure size 576x288 with 2 Axes>"
      ]
     },
     "metadata": {},
     "output_type": "display_data"
    }
   ],
   "source": [
    "fig = plt.figure(figsize = (8,4))\n",
    "ax1 = fig.add_subplot(121)\n",
    "PlotDimension(ax1, Inddf, 'Regime')\n",
    "ax2 = fig.add_subplot(122)\n",
    "PlotDimension(ax2, Firmdf, 'Regime')\n",
    "plt.show()"
   ]
  },
  {
   "cell_type": "markdown",
   "metadata": {},
   "source": [
    "### Dynamic word2vec with economics and politics subsample (5-year period)"
   ]
  },
  {
   "cell_type": "code",
   "execution_count": 81,
   "metadata": {},
   "outputs": [
    {
     "name": "stdout",
     "output_type": "stream",
     "text": [
      "Is this the first time to train the word2vec models in different periods? No\n"
     ]
    }
   ],
   "source": [
    "# a first time indicator \n",
    "# please enter \"No\" because the word2vec models in different periods have been uploaded to git repo\n",
    "first_time = input(\"Is this the first time to train the word2vec models in different periods? \")"
   ]
  },
  {
   "cell_type": "code",
   "execution_count": 148,
   "metadata": {},
   "outputs": [
    {
     "name": "stdout",
     "output_type": "stream",
     "text": [
      "CPU times: user 1.43 s, sys: 200 ms, total: 1.63 s\n",
      "Wall time: 1.67 s\n"
     ]
    }
   ],
   "source": [
    "%%time\n",
    "# train word2vec models in different time periods\n",
    "if first_time == 'Yes':\n",
    "#     for start_year in range(1965, 2003, 5):\n",
    "#         corpus = []\n",
    "#         if start_year ==2000:\n",
    "#             for step in range(3):\n",
    "#                 with open(corpus_name + \"{}.txt\".format(start_year + step), encoding='utf-8') as f:\n",
    "#                     for line in f:\n",
    "#                         tokens = line.split(' ')\n",
    "#                         tokens.remove('\\n')\n",
    "#                         corpus.append(tokens)\n",
    "#         else:\n",
    "#             for step in range(5):\n",
    "#                 with open(corpus_name + \"{}.txt\".format(start_year + step), encoding='utf-8') as f:\n",
    "#                     for line in f:\n",
    "#                         tokens = line.split(' ')\n",
    "#                         tokens.remove('\\n')\n",
    "#                         corpus.append(tokens)\n",
    "#         model = Word2Vec(corpus, size=200, window=10, min_count=5, workers=8, seed=0)\n",
    "#         model.save('../models/Word2Vec&Doc2Vec/rmrb_{}-{}_W2V'.format(start_year, start_year + 4))\n",
    "        print(\"Please rerun the above cell and enter \\\"No\\\".\")\n",
    "else:\n",
    "    try:\n",
    "        model_6569 = Word2Vec.load('../models/Word2Vec&Doc2Vec/rmrb_1965-1969_W2V')\n",
    "        model_7074 = Word2Vec.load('../models/Word2Vec&Doc2Vec/rmrb_1970-1974_W2V')\n",
    "        model_7579 = Word2Vec.load('../models/Word2Vec&Doc2Vec/rmrb_1975-1979_W2V')\n",
    "        model_8084 = Word2Vec.load('../models/Word2Vec&Doc2Vec/rmrb_1980-1984_W2V')\n",
    "        model_8589 = Word2Vec.load('../models/Word2Vec&Doc2Vec/rmrb_1985-1989_W2V')\n",
    "        model_9094 = Word2Vec.load('../models/Word2Vec&Doc2Vec/rmrb_1990-1994_W2V')\n",
    "        model_9599 = Word2Vec.load('../models/Word2Vec&Doc2Vec/rmrb_1995-1999_W2V')\n",
    "        model_0002 = Word2Vec.load('../models/Word2Vec&Doc2Vec/rmrb_2000-2004_W2V')\n",
    "        embedding_raw_dict_5year = {'65-69': model_6569,\n",
    "                                    '70-74': model_7074,\n",
    "                                    '75-79': model_7579,\n",
    "                                    '80-84': model_8084,\n",
    "                                    '85-89': model_8589,\n",
    "                                    '90-94': model_9094,\n",
    "                                    '95-99': model_9599,\n",
    "                                    '00-02': model_0002}\n",
    "    except FileNotFoundError:\n",
    "        print(\"Please download the .npy files from box because they are larger than 100M.\")"
   ]
  },
  {
   "cell_type": "code",
   "execution_count": 112,
   "metadata": {},
   "outputs": [],
   "source": [
    "# functions from week 6 notebook\n",
    "def calc_syn0norm(model):\n",
    "    \"\"\"since syn0norm is now depricated\"\"\"\n",
    "    return (model.wv.syn0 / np.sqrt((model.wv.syn0 ** 2).sum(-1))[..., np.newaxis]).astype(np.float32)\n",
    "\n",
    "def smart_procrustes_align_gensim(base_embed, other_embed, words=None):\n",
    "    \"\"\"Procrustes align two gensim word2vec models (to allow for comparison between same word across models).\n",
    "    Code ported from HistWords <https://github.com/williamleif/histwords> by William Hamilton <wleif@stanford.edu>.\n",
    "    (With help from William. Thank you!)\n",
    "    First, intersect the vocabularies (see `intersection_align_gensim` documentation).\n",
    "    Then do the alignment on the other_embed model.\n",
    "    Replace the other_embed model's syn0 and syn0norm numpy matrices with the aligned version.\n",
    "    Return other_embed.\n",
    "    If `words` is set, intersect the two models' vocabulary with the vocabulary in words \n",
    "    (see `intersection_align_gensim` documentation).\n",
    "    \"\"\"\n",
    "    base_embed = copy.copy(base_embed)\n",
    "    other_embed = copy.copy(other_embed)\n",
    "    # make sure vocabulary and indices are aligned\n",
    "    in_base_embed, in_other_embed = intersection_align_gensim(base_embed, other_embed, words=words)\n",
    "\n",
    "    # get the embedding matrices\n",
    "    base_vecs = calc_syn0norm(in_base_embed)\n",
    "    other_vecs = calc_syn0norm(in_other_embed)\n",
    "\n",
    "    # just a matrix dot product with numpy\n",
    "    m = other_vecs.T.dot(base_vecs) \n",
    "    # SVD method from numpy\n",
    "    u, _, v = np.linalg.svd(m)\n",
    "    # another matrix operation\n",
    "    ortho = u.dot(v) \n",
    "    # Replace original array with modified one\n",
    "    # i.e. multiplying the embedding matrix (syn0norm)by \"ortho\"\n",
    "    other_embed.wv.syn0norm = other_embed.wv.syn0 = (calc_syn0norm(other_embed)).dot(ortho)\n",
    "    return other_embed\n",
    "    \n",
    "def intersection_align_gensim(m1,m2, words=None):\n",
    "    \"\"\"\n",
    "    Intersect two gensim word2vec models, m1 and m2.\n",
    "    Only the shared vocabulary between them is kept.\n",
    "    If 'words' is set (as list or set), then the vocabulary is intersected with this list as well.\n",
    "    Indices are re-organized from 0..N in order of descending frequency (=sum of counts from both m1 and m2).\n",
    "    These indices correspond to the new syn0 and syn0norm objects in both gensim models:\n",
    "        -- so that Row 0 of m1.syn0 will be for the same word as Row 0 of m2.syn0\n",
    "        -- you can find the index of any word on the .index2word list: model.index2word.index(word) => 2\n",
    "    The .vocab dictionary is also updated for each model, preserving the count but updating the index.\n",
    "    \"\"\"\n",
    "\n",
    "    # Get the vocab for each model\n",
    "    vocab_m1 = set(m1.wv.vocab.keys())\n",
    "    vocab_m2 = set(m2.wv.vocab.keys())\n",
    "\n",
    "    # Find the common vocabulary\n",
    "    common_vocab = vocab_m1&vocab_m2\n",
    "    if words: common_vocab&=set(words)\n",
    "\n",
    "    # If no alignment necessary because vocab is identical...\n",
    "    if not vocab_m1-common_vocab and not vocab_m2-common_vocab:\n",
    "        return (m1,m2)\n",
    "\n",
    "    # Otherwise sort by frequency (summed for both)\n",
    "    common_vocab = list(common_vocab)\n",
    "    common_vocab.sort(key=lambda w: m1.wv.vocab[w].count + m2.wv.vocab[w].count,reverse=True)\n",
    "\n",
    "    # Then for each model...\n",
    "    for m in [m1,m2]:\n",
    "        # Replace old syn0norm array with new one (with common vocab)\n",
    "        indices = [m.wv.vocab[w].index for w in common_vocab]\n",
    "        old_arr = calc_syn0norm(m)\n",
    "        new_arr = np.array([old_arr[index] for index in indices])\n",
    "        m.wv.syn0norm = m.wv.syn0 = new_arr\n",
    "\n",
    "        # Replace old vocab dictionary with new one (with common vocab)\n",
    "        # and old index2word with new one\n",
    "        m.index2word = common_vocab\n",
    "        old_vocab = m.wv.vocab\n",
    "        new_vocab = {}\n",
    "        for new_index,word in enumerate(common_vocab):\n",
    "            old_vocab_obj=old_vocab[word]\n",
    "            new_vocab[word] = gensim.models.word2vec.Vocab(index=new_index, count=old_vocab_obj.count)\n",
    "        m.wv.vocab = new_vocab\n",
    "\n",
    "    return (m1,m2)"
   ]
  },
  {
   "cell_type": "code",
   "execution_count": 131,
   "metadata": {},
   "outputs": [],
   "source": [
    "# define a function to compare different models\n",
    "def compareModels(embeddings_raw):\n",
    "    \"\"\"If you are using time as your category sorting is important\"\"\"\n",
    "    cats = embeddings_raw.keys()\n",
    "    #These are much quicker\n",
    "    embeddings_aligned = {}\n",
    "    for catOuter in cats:\n",
    "        embeddings_aligned[catOuter] = [embeddings_raw[catOuter]]\n",
    "        for catInner in cats:\n",
    "            embeddings_aligned[catOuter].append(smart_procrustes_align_gensim(embeddings_aligned[catOuter][-1], \n",
    "                                                                              embeddings_raw[catInner]))\n",
    "    return embeddings_aligned"
   ]
  },
  {
   "cell_type": "code",
   "execution_count": 132,
   "metadata": {},
   "outputs": [],
   "source": [
    "# define a function to calculate divergence\n",
    "def getDivergenceDF(word, embeddingsDict):\n",
    "    cats = embeddingsDict.keys()\n",
    "    dists = {}\n",
    "    print(word)\n",
    "    for cat in cats:\n",
    "        dists[cat] = []\n",
    "        for embed in embeddingsDict[cat][1:]:\n",
    "            dists[cat].append(np.abs(1 - sklearn.metrics.pairwise.cosine_similarity(np.expand_dims(embeddingsDict[cat][0][word], axis=0),\n",
    "                                                                             np.expand_dims(embed[word], axis = 0))[0,0]))\n",
    "    return pd.DataFrame(dists, index=cats)"
   ]
  },
  {
   "cell_type": "code",
   "execution_count": 133,
   "metadata": {},
   "outputs": [],
   "source": [
    "# define functions to find the most divergent words\n",
    "def findDiverence(word, embeddingsDict):\n",
    "    cats = sorted(set(embeddingsDict.keys()))\n",
    "    \n",
    "    dists = []\n",
    "    for embed in embeddingsDict[cats[0]][1:]:\n",
    "        dists.append(1 - sklearn.metrics.pairwise.cosine_similarity(np.expand_dims(embeddingsDict[cats[0]][0][word], axis = 0), np.expand_dims(embed[word], axis = 0))[0,0])\n",
    "    return sum(dists)\n",
    "\n",
    "def findMostDivergent(embeddingsDict):\n",
    "    words = []\n",
    "    for embeds in embeddingsDict.values():\n",
    "        for embed in embeds:\n",
    "            words += list(embed.wv.vocab.keys())\n",
    "    words = set(words)\n",
    "    print(\"Found {} words to compare\".format(len(words)))\n",
    "    return sorted([(w, findDiverence(w, embeddingsDict)) for w in words], key = lambda x: x[1], reverse=True)"
   ]
  },
  {
   "cell_type": "code",
   "execution_count": 149,
   "metadata": {},
   "outputs": [],
   "source": [
    "embedding_compared_dict_5year = compareModels(Embedding_raw_dict_5year)"
   ]
  },
  {
   "cell_type": "code",
   "execution_count": 154,
   "metadata": {},
   "outputs": [
    {
     "name": "stdout",
     "output_type": "stream",
     "text": [
      "经济\n"
     ]
    },
    {
     "data": {
      "image/png": "[encoded data removed]",
      "text/plain": [
       "<Figure size 720x504 with 2 Axes>"
      ]
     },
     "metadata": {
      "needs_background": "light"
     },
     "output_type": "display_data"
    }
   ],
   "source": [
    "TargetWord = '经济'\n",
    "\n",
    "pltDF = getDivergenceDF(TargetWord, embedding_compared_dict_5year)\n",
    "fig, ax = plt.subplots(figsize = (10, 7))\n",
    "seaborn.heatmap(pltDF, ax = ax, annot = False) #set annot True for a lot more information\n",
    "ax.set_xlabel(\"Starting period\")\n",
    "ax.set_ylabel(\"Final period\")\n",
    "ax.set_title(\"Linguistic change for economic words: 5-year periods\")\n",
    "plt.show()"
   ]
  },
  {
   "cell_type": "code",
   "execution_count": 155,
   "metadata": {},
   "outputs": [
    {
     "name": "stdout",
     "output_type": "stream",
     "text": [
      "政治\n"
     ]
    },
    {
     "data": {
      "image/png": "[encoded data removed]",
      "text/plain": [
       "<Figure size 720x504 with 2 Axes>"
      ]
     },
     "metadata": {
      "needs_background": "light"
     },
     "output_type": "display_data"
    }
   ],
   "source": [
    "TargetWord = '政治'\n",
    "\n",
    "pltDF = getDivergenceDF(TargetWord, embedding_compared_dict_5year)\n",
    "fig, ax = plt.subplots(figsize = (10, 7))\n",
    "seaborn.heatmap(pltDF, ax = ax, annot = False) #set annot True for a lot more information\n",
    "ax.set_xlabel(\"Starting year\")\n",
    "ax.set_ylabel(\"Final year\")\n",
    "ax.set_title(\"Linguistic change for political words: 5-year periods\".format(targetWord))\n",
    "plt.show()"
   ]
  },
  {
   "cell_type": "markdown",
   "metadata": {},
   "source": [
    "### Dynamic word2vec with economics and politics subsample (1-year period)"
   ]
  },
  {
   "cell_type": "code",
   "execution_count": 140,
   "metadata": {},
   "outputs": [
    {
     "name": "stdout",
     "output_type": "stream",
     "text": [
      "Is this the first time to train the word2vec models in different years? No\n"
     ]
    }
   ],
   "source": [
    "# a first time indicator \n",
    "# please enter \"No\" because the word2vec models in different periods have been uploaded to git repo\n",
    "first_time = input(\"Is this the first time to train the word2vec models in different years? \")"
   ]
  },
  {
   "cell_type": "code",
   "execution_count": 152,
   "metadata": {},
   "outputs": [
    {
     "name": "stdout",
     "output_type": "stream",
     "text": [
      "CPU times: user 2.78 s, sys: 293 ms, total: 3.07 s\n",
      "Wall time: 6.41 s\n"
     ]
    }
   ],
   "source": [
    "%%time\n",
    "# train word2vec models in different years\n",
    "if first_time == \"Yes\":\n",
    "    for year in range(1965, 2003):\n",
    "        corpus = []\n",
    "        with open(corpus_name + \"{}.txt\".format(year), encoding='utf-8') as f:\n",
    "            for line in f:\n",
    "                tokens = line.split(' ')\n",
    "                tokens.remove('\\n')\n",
    "                corpus.append(tokens)\n",
    "        model = Word2Vec(corpus, size=200, window=10, min_count=5, workers=8, seed=0)\n",
    "        model.save('../models/Word2Vec&Doc2Vec/rmrb_{}_W2V'.format(year))\n",
    "    print(\"Please rerun the above cell and enter \\\"No\\\".\")\n",
    "else:\n",
    "    try:\n",
    "        embedding_raw_dict_1year = {}\n",
    "        for year in range(1965, 2003):\n",
    "            embedding_raw_dict_1year[year] = Word2Vec.load('../models/Word2Vec&Doc2Vec/rmrb_{}_W2V'.format(year))\n",
    "    except FileNotFoundError:\n",
    "        print(\"Please download the .npy files from box because they are larger than 100M.\")"
   ]
  },
  {
   "cell_type": "code",
   "execution_count": 153,
   "metadata": {},
   "outputs": [],
   "source": [
    "embedding_compared_dict_1year = compareModels(embedding_raw_dict_1year)"
   ]
  },
  {
   "cell_type": "code",
   "execution_count": 156,
   "metadata": {},
   "outputs": [
    {
     "name": "stdout",
     "output_type": "stream",
     "text": [
      "经济\n"
     ]
    },
    {
     "data": {
      "image/png": "[encoded data removed]",
      "text/plain": [
       "<Figure size 720x504 with 2 Axes>"
      ]
     },
     "metadata": {
      "needs_background": "light"
     },
     "output_type": "display_data"
    }
   ],
   "source": [
    "TargetWord = '经济'\n",
    "\n",
    "pltDF = getDivergenceDF(TargetWord, embedding_compared_dict_1year)\n",
    "fig, ax = plt.subplots(figsize = (10, 7))\n",
    "seaborn.heatmap(pltDF, ax = ax, annot = False) #set annot True for a lot more information\n",
    "ax.set_xlabel(\"Starting year\")\n",
    "ax.set_ylabel(\"Final year\")\n",
    "ax.set_title(\"Yearly linguistic change for economic words\")\n",
    "plt.show()"
   ]
  },
  {
   "cell_type": "code",
   "execution_count": 157,
   "metadata": {},
   "outputs": [
    {
     "name": "stdout",
     "output_type": "stream",
     "text": [
      "政治\n"
     ]
    },
    {
     "data": {
      "image/png": "[encoded data removed]",
      "text/plain": [
       "<Figure size 720x504 with 2 Axes>"
      ]
     },
     "metadata": {
      "needs_background": "light"
     },
     "output_type": "display_data"
    }
   ],
   "source": [
    "TargetWord = '政治'\n",
    "\n",
    "pltDF = getDivergenceDF(TargetWord, embedding_compared_dict_1year)\n",
    "fig, ax = plt.subplots(figsize = (10, 7))\n",
    "seaborn.heatmap(pltDF, ax = ax, annot = False) #set annot True for a lot more information\n",
    "ax.set_xlabel(\"Starting year\")\n",
    "ax.set_ylabel(\"Final year\")\n",
    "ax.set_title(\"Yearly linguistic change for political words\")\n",
    "plt.show()"
   ]
  },
  {
   "cell_type": "code",
   "execution_count": null,
   "metadata": {},
   "outputs": [],
   "source": []
  }
 ],
 "metadata": {
  "kernelspec": {
   "display_name": "Python 3",
   "language": "python",
   "name": "python3"
  },
  "language_info": {
   "codemirror_mode": {
    "name": "ipython",
    "version": 3
   },
   "file_extension": ".py",
   "mimetype": "text/x-python",
   "name": "python",
   "nbconvert_exporter": "python",
   "pygments_lexer": "ipython3",
   "version": "3.6.9"
  }
 },
 "nbformat": 4,
 "nbformat_minor": 2
}
