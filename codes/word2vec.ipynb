{
 "cells": [
  {
   "cell_type": "code",
   "execution_count": 24,
   "metadata": {},
   "outputs": [],
   "source": [
    "import dask\n",
    "import pandas as pd\n",
    "import numpy as np\n",
    "import matplotlib as mpl\n",
    "from matplotlib import pyplot as plt\n",
    "from pylab import *\n",
    "import jieba\n",
    "import re\n",
    "import string\n",
    "from zhon.hanzi import punctuation, stops, non_stops\n",
    "import gensim\n",
    "from gensim.models.word2vec import Word2Vec, LineSentence\n",
    "import sklearn\n",
    "from sklearn.decomposition import PCA\n",
    "from sklearn.manifold import TSNE\n",
    "import timeit\n",
    "import warnings\n",
    "import zipfile\n",
    "import os\n",
    "import sys\n",
    "warnings.filterwarnings('ignore')"
   ]
  },
  {
   "cell_type": "code",
   "execution_count": 2,
   "metadata": {},
   "outputs": [
    {
     "name": "stdout",
     "output_type": "stream",
     "text": [
      "Who is using the notebook? Minghao_RCC\n"
     ]
    }
   ],
   "source": [
    "# load the corpus for word2vec\n",
    "user = input(\"Who is using the notebook? \")\n",
    "if user == \"Tim\":\n",
    "    corpus_name = \"/Users/timqzhang/Desktop/UChicago/MACSS_Spring_2020/content_local/rmrb/7z\"\n",
    "elif user == \"Linghui\":\n",
    "    corpus_name = \"/Users/linghuiwu/uchicago/courseworks/soci40133/rmrb/7z\"\n",
    "elif user == \"Minghao\":\n",
    "    corpus_name = \"D:/学习资料/研一三学期/Content Analysis/Final_Project/rmrb/7z\"\n",
    "elif user == \"Minghao_RCC\":\n",
    "    corpus_name = \"/home/mhyang/EconContent/corpus_by_year/\""
   ]
  },
  {
   "cell_type": "markdown",
   "metadata": {},
   "source": [
    "### Word2Vec with full sample"
   ]
  },
  {
   "cell_type": "code",
   "execution_count": 3,
   "metadata": {},
   "outputs": [
    {
     "name": "stdout",
     "output_type": "stream",
     "text": [
      "Is this the first time to train the model? No\n"
     ]
    }
   ],
   "source": [
    "# a first time indicator \n",
    "# please enter \"No\" because the word2vec model with full sample has been uploaded to git repo\n",
    "first_time = input(\"Is this the first time to train the model? \")"
   ]
  },
  {
   "cell_type": "code",
   "execution_count": 8,
   "metadata": {},
   "outputs": [
    {
     "name": "stdout",
     "output_type": "stream",
     "text": [
      "Wall time: 2.22 s\n"
     ]
    }
   ],
   "source": [
    "%%time\n",
    "if first_time == \"Yes\":\n",
    "#     corpus_full = []\n",
    "#     for year in range(1965, 2003):\n",
    "#         with open(corpus_name + \"{}.txt\".format(year), encoding='utf-8') as f:\n",
    "#             for line in f:\n",
    "#                 tokens = line.split(' ')\n",
    "#                 tokens.remove('\\n')\n",
    "#                 corpus_full.append(tokens)\n",
    "#     model = Word2Vec(corpus_full, size=200, window=10, min_count=5, workers=8, seed=0)\n",
    "#     model.save('../data/rmrb_full_W2V')\n",
    "    print(\"Please rerun the above cell and enter \\\"No\\\".\")\n",
    "else:\n",
    "    try:\n",
    "        model = Word2Vec.load('../data/rmrb_full_W2V')\n",
    "    except FileNotFoundError:\n",
    "        print(\"Please download the .npy files from box because they are larger than 100M.\")"
   ]
  },
  {
   "cell_type": "code",
   "execution_count": 9,
   "metadata": {},
   "outputs": [
    {
     "data": {
      "text/plain": [
       "[('国民经济', 0.7047548890113831),\n",
       " ('经济社会', 0.6835517287254333),\n",
       " ('在经济上', 0.584583044052124),\n",
       " ('城乡经济', 0.5507814884185791),\n",
       " ('工业生产', 0.5420782566070557),\n",
       " ('商品流通', 0.5362972021102905),\n",
       " ('对外贸易', 0.5362279415130615),\n",
       " ('经济繁荣', 0.5219799280166626),\n",
       " ('工业', 0.5194350481033325),\n",
       " ('宏观经济', 0.5095250606536865),\n",
       " ('产业', 0.5007330775260925),\n",
       " ('商品生产', 0.49550092220306396),\n",
       " ('商品经济', 0.4891799986362457),\n",
       " ('政治经济', 0.48831894993782043),\n",
       " ('物资流通', 0.4858139753341675),\n",
       " ('生产力', 0.48249131441116333),\n",
       " ('出口贸易', 0.4787532389163971),\n",
       " ('国家', 0.4786701202392578),\n",
       " ('经贸', 0.475691556930542),\n",
       " ('平衡', 0.47392386198043823),\n",
       " ('企业', 0.4730418622493744),\n",
       " ('发展', 0.4718932807445526),\n",
       " ('稳定', 0.46824193000793457),\n",
       " ('赖际', 0.46810856461524963),\n",
       " ('沿海经济', 0.4664963185787201),\n",
       " ('集体经济', 0.4660484790802002),\n",
       " ('生产', 0.46557676792144775),\n",
       " ('旅游业', 0.4646378755569458),\n",
       " ('加工工业', 0.464486300945282),\n",
       " ('国际贸易', 0.4625011384487152)]"
      ]
     },
     "execution_count": 9,
     "metadata": {},
     "output_type": "execute_result"
    }
   ],
   "source": [
    "# most similar words to \"经济\"\n",
    "model.most_similar(\"经济\", topn=30)"
   ]
  },
  {
   "cell_type": "code",
   "execution_count": 10,
   "metadata": {},
   "outputs": [
    {
     "data": {
      "text/plain": [
       "[('在政治上', 0.7189272046089172),\n",
       " ('政治素质', 0.49460527300834656),\n",
       " ('党的建设', 0.4752221703529358),\n",
       " ('崇美', 0.4627997875213623),\n",
       " ('党建', 0.4455682337284088),\n",
       " ('道德修养', 0.44051045179367065),\n",
       " ('教育', 0.4352807402610779),\n",
       " ('作风纪律', 0.4329605996608734),\n",
       " ('社会主义', 0.43256697058677673),\n",
       " ('德党', 0.42983633279800415),\n",
       " ('政治路线', 0.4284876585006714),\n",
       " ('党的领导', 0.42812931537628174),\n",
       " ('政治宣传', 0.4278131127357483),\n",
       " ('政治性', 0.4265213906764984),\n",
       " ('必须', 0.4184496998786926),\n",
       " ('专政', 0.4180828332901001),\n",
       " ('军事', 0.4180217981338501),\n",
       " ('社会', 0.4163997769355774),\n",
       " ('道德', 0.41571980714797974),\n",
       " ('阶级斗争', 0.413579523563385),\n",
       " ('革命性', 0.41300487518310547),\n",
       " ('加诺兄', 0.41279923915863037),\n",
       " ('上筑牢', 0.4124164283275604),\n",
       " ('理论', 0.4100203514099121),\n",
       " ('资产阶级', 0.40842607617378235),\n",
       " ('民主', 0.4040853679180145),\n",
       " ('政治工作者', 0.4038689136505127),\n",
       " ('强调', 0.4020741581916809),\n",
       " ('意识形态', 0.401529461145401),\n",
       " ('巴迪亚', 0.3998579978942871)]"
      ]
     },
     "execution_count": 10,
     "metadata": {},
     "output_type": "execute_result"
    }
   ],
   "source": [
    "# most similar words to \"政治\"\n",
    "model.most_similar(\"政治\", topn=30)"
   ]
  },
  {
   "cell_type": "code",
   "execution_count": 11,
   "metadata": {},
   "outputs": [
    {
     "data": {
      "text/plain": [
       "[('社会', 0.5568037033081055),\n",
       " ('社会主义', 0.5322310924530029),\n",
       " ('政治经济', 0.5294690132141113),\n",
       " ('国民经济', 0.5292337536811829),\n",
       " ('巴迪亚', 0.5210733413696289),\n",
       " ('经济社会', 0.518622100353241),\n",
       " ('必须', 0.5129322409629822),\n",
       " ('改革', 0.507105827331543),\n",
       " ('西元彻', 0.5062365531921387),\n",
       " ('在政治上', 0.4994303584098816),\n",
       " ('关系', 0.4970846176147461),\n",
       " ('德党', 0.49647772312164307),\n",
       " ('文化', 0.4950624108314514),\n",
       " ('各项', 0.49228447675704956),\n",
       " ('发展', 0.4885441064834595),\n",
       " ('政策', 0.4873436689376831),\n",
       " ('方面', 0.4856113791465759),\n",
       " ('自身', 0.48548656702041626),\n",
       " ('船旗国', 0.4851929843425751),\n",
       " ('通政', 0.4812116026878357)]"
      ]
     },
     "execution_count": 11,
     "metadata": {},
     "output_type": "execute_result"
    }
   ],
   "source": [
    "# most similar words to \"政治\" + \"经济\"\n",
    "model.most_similar(positive=[u\"政治\", u\"经济\"], topn=20)"
   ]
  },
  {
   "cell_type": "code",
   "execution_count": 12,
   "metadata": {},
   "outputs": [
    {
     "data": {
      "text/plain": [
       "[('国营企业', 0.7253013253211975),\n",
       " ('骨干企业', 0.6966310143470764),\n",
       " ('集体企业', 0.6965148448944092),\n",
       " ('小企业', 0.6924573183059692),\n",
       " ('工商企业', 0.6889418363571167),\n",
       " ('国有企业', 0.6807361841201782),\n",
       " ('小型企业', 0.6621137857437134),\n",
       " ('乡镇企业', 0.6548891663551331),\n",
       " ('行业', 0.652941107749939),\n",
       " ('经营', 0.6449532508850098),\n",
       " ('外贸企业', 0.6357970237731934),\n",
       " ('亏损企业', 0.6312141418457031),\n",
       " ('三资企业', 0.5996057391166687),\n",
       " ('产品', 0.5948319435119629),\n",
       " ('中小企业', 0.5900083780288696),\n",
       " ('资产', 0.587431013584137),\n",
       " ('工厂', 0.5856354236602783),\n",
       " ('化工企业', 0.5763827562332153),\n",
       " ('全民企业', 0.5759526491165161),\n",
       " ('单位', 0.572801411151886)]"
      ]
     },
     "execution_count": 12,
     "metadata": {},
     "output_type": "execute_result"
    }
   ],
   "source": [
    "# most similar words to \"企业\"\n",
    "model.most_similar(\"企业\", topn=20)"
   ]
  },
  {
   "cell_type": "code",
   "execution_count": 13,
   "metadata": {},
   "outputs": [
    {
     "data": {
      "text/plain": [
       "[('墙脚', 0.5380445122718811),\n",
       " ('公有', 0.535496711730957),\n",
       " ('初级阶段', 0.4975186884403229),\n",
       " ('私有制', 0.49537062644958496),\n",
       " ('私有化', 0.46867311000823975),\n",
       " ('国营经济', 0.4633598327636719),\n",
       " ('单干', 0.4611584544181824),\n",
       " ('两极分化', 0.4496586322784424),\n",
       " ('所有制', 0.44949597120285034),\n",
       " ('个体经济', 0.4468238949775696)]"
      ]
     },
     "execution_count": 13,
     "metadata": {},
     "output_type": "execute_result"
    }
   ],
   "source": [
    "# 公有制 + 资本主义 - 社会主义\n",
    "model.most_similar(positive=[u'公有制', u'资本主义'], negative=[u'社会主义'])"
   ]
  },
  {
   "cell_type": "code",
   "execution_count": 14,
   "metadata": {},
   "outputs": [
    {
     "data": {
      "text/plain": [
       "[('市场经济', 0.5006380677223206),\n",
       " ('统购包销', 0.4762028455734253),\n",
       " ('小农经济', 0.4687221646308899),\n",
       " ('墙脚', 0.4580497741699219),\n",
       " ('统得', 0.4492679536342621),\n",
       " ('商品经济', 0.44538071751594543),\n",
       " ('初级阶段', 0.440067321062088),\n",
       " ('短缺经济', 0.42808371782302856),\n",
       " ('空想', 0.42348188161849976),\n",
       " ('计划体制', 0.41563528776168823)]"
      ]
     },
     "execution_count": 14,
     "metadata": {},
     "output_type": "execute_result"
    }
   ],
   "source": [
    "# 公有制 + 资本主义 - 社会主义\n",
    "model.most_similar(positive=[u'计划经济', u'资本主义'], negative=[u'社会主义'])"
   ]
  },
  {
   "cell_type": "markdown",
   "metadata": {},
   "source": [
    "### Projection with economics and politics subsample"
   ]
  },
  {
   "cell_type": "code",
   "execution_count": 15,
   "metadata": {},
   "outputs": [
    {
     "data": {
      "text/plain": [
       "[('计划体制', 0.6442259550094604),\n",
       " ('计划调节', 0.6439828872680664),\n",
       " ('市场调节', 0.6180932521820068),\n",
       " ('短缺经济', 0.5950658917427063),\n",
       " ('转轨', 0.5811647176742554),\n",
       " ('高度集中', 0.5631114840507507),\n",
       " ('经济体制', 0.5481372475624084),\n",
       " ('体制', 0.5398797988891602),\n",
       " ('市场机制', 0.5385992527008057),\n",
       " ('统得', 0.5231367349624634)]"
      ]
     },
     "execution_count": 15,
     "metadata": {},
     "output_type": "execute_result"
    }
   ],
   "source": [
    "# most similar words to \"计划经济\"\n",
    "model.most_similar(\"计划经济\")"
   ]
  },
  {
   "cell_type": "code",
   "execution_count": 16,
   "metadata": {},
   "outputs": [
    {
     "data": {
      "text/plain": [
       "[('商品经济', 0.8256054520606995),\n",
       " ('经济体制', 0.5783637166023254),\n",
       " ('商品生产', 0.5539597272872925),\n",
       " ('市场机制', 0.5441486239433289),\n",
       " ('初级阶段', 0.5326134562492371),\n",
       " ('计划经济', 0.5151219367980957),\n",
       " ('自我完善', 0.5099714994430542),\n",
       " ('义利观', 0.4840741753578186),\n",
       " ('市场调节', 0.48258620500564575),\n",
       " ('法制', 0.48011767864227295)]"
      ]
     },
     "execution_count": 16,
     "metadata": {},
     "output_type": "execute_result"
    }
   ],
   "source": [
    "# most similar words to \"市场经济\"\n",
    "model.most_similar(\"市场经济\")"
   ]
  },
  {
   "cell_type": "code",
   "execution_count": 17,
   "metadata": {},
   "outputs": [],
   "source": [
    "# words to create dimensions\n",
    "TargetWords = ['计划经济', '短缺经济', '计划', '计划调节', '计划体制', '市场经济', '商品经济', '市场', '市场调节', '市场机制']"
   ]
  },
  {
   "cell_type": "code",
   "execution_count": 18,
   "metadata": {},
   "outputs": [],
   "source": [
    "# words to be mapped: industries (come from 《国民经济行业分类》)\n",
    "TargetWords += ['农业', '采矿业', '制造业', '能源工业', '建筑业', '零售业', '交通运输业', \n",
    "                '餐饮业', '金融业', '房地产业', '新闻业']"
   ]
  },
  {
   "cell_type": "code",
   "execution_count": 19,
   "metadata": {},
   "outputs": [
    {
     "data": {
      "text/plain": [
       "[('国营企业', 0.7253013253211975),\n",
       " ('骨干企业', 0.6966310143470764),\n",
       " ('集体企业', 0.6965148448944092),\n",
       " ('小企业', 0.6924573183059692),\n",
       " ('工商企业', 0.6889418363571167),\n",
       " ('国有企业', 0.6807361841201782),\n",
       " ('小型企业', 0.6621137857437134),\n",
       " ('乡镇企业', 0.6548891663551331),\n",
       " ('行业', 0.652941107749939),\n",
       " ('经营', 0.6449532508850098),\n",
       " ('外贸企业', 0.6357970237731934),\n",
       " ('亏损企业', 0.6312141418457031),\n",
       " ('三资企业', 0.5996057391166687),\n",
       " ('产品', 0.5948319435119629),\n",
       " ('中小企业', 0.5900083780288696),\n",
       " ('资产', 0.587431013584137),\n",
       " ('工厂', 0.5856354236602783),\n",
       " ('化工企业', 0.5763827562332153),\n",
       " ('全民企业', 0.5759526491165161),\n",
       " ('单位', 0.572801411151886),\n",
       " ('国企', 0.5710006952285767),\n",
       " ('外资企业', 0.5680456161499023),\n",
       " ('大中企业', 0.5668426156044006),\n",
       " ('国有资产', 0.5625597238540649),\n",
       " ('企业经营者', 0.5600638389587402),\n",
       " ('上市公司', 0.5492286682128906),\n",
       " ('私营企业', 0.548046350479126),\n",
       " ('大厂', 0.5462716221809387),\n",
       " ('经营者', 0.5420036315917969),\n",
       " ('民营企业', 0.5411615371704102),\n",
       " ('子公司', 0.5393684506416321),\n",
       " ('医药企业', 0.5352437496185303),\n",
       " ('工业', 0.535004198551178),\n",
       " ('产业', 0.5341747403144836),\n",
       " ('国有', 0.5322416424751282),\n",
       " ('产品销售', 0.5320726633071899),\n",
       " ('各厂', 0.5308046936988831),\n",
       " ('经济实体', 0.5305493474006653),\n",
       " ('原材料', 0.5299824476242065),\n",
       " ('国有资本', 0.5211448669433594)]"
      ]
     },
     "execution_count": 19,
     "metadata": {},
     "output_type": "execute_result"
    }
   ],
   "source": [
    "# most similar words to \"企业\"\n",
    "model.most_similar(\"企业\", topn=40)"
   ]
  },
  {
   "cell_type": "code",
   "execution_count": 20,
   "metadata": {},
   "outputs": [],
   "source": [
    "# words to be mapped: firms \n",
    "TargetWords += ['国营企业', '集体企业', '国有企业', '乡镇企业', \n",
    "                '三资企业', '外资企业', '私营企业', '民营企业']"
   ]
  },
  {
   "cell_type": "code",
   "execution_count": 21,
   "metadata": {},
   "outputs": [],
   "source": [
    "# words submatrix\n",
    "WordsSubMatrix = []\n",
    "for word in TargetWords:\n",
    "    WordsSubMatrix.append(model[word])\n",
    "WordsSubMatrix = np.array(WordsSubMatrix)"
   ]
  },
  {
   "cell_type": "code",
   "execution_count": 27,
   "metadata": {},
   "outputs": [
    {
     "data": {
      "image/png": "[encoded data removed]",
      "text/plain": [
       "<Figure size 1080x648 with 1 Axes>"
      ]
     },
     "metadata": {},
     "output_type": "display_data"
    }
   ],
   "source": [
    "# Visualization\n",
    "PCATargetWords = PCA(n_components = 20).fit(WordsSubMatrix)\n",
    "ReducedPCA_data = PCATargetWords.transform(WordsSubMatrix)\n",
    "TSNETargetWords = TSNE(n_components = 2).fit_transform(ReducedPCA_data)\n",
    "\n",
    "mpl.rcParams['font.sans-serif'] = ['SimHei']\n",
    "\n",
    "fig = plt.figure(figsize=(15, 9))\n",
    "ax = fig.add_subplot(111)\n",
    "ax.set_frame_on(False)\n",
    "plt.scatter(TSNETargetWords[:, 0], TSNETargetWords[:, 1], alpha = 0) #Making the points invisible\n",
    "for i, word in enumerate(TargetWords):\n",
    "    ax.annotate(word, (TSNETargetWords[:, 0][i], TSNETargetWords[:, 1][i]), \n",
    "                size=50 * (len(TargetWords) - i) / len(TargetWords))\n",
    "plt.xticks(())\n",
    "plt.yticks(())\n",
    "plt.show()"
   ]
  },
  {
   "cell_type": "code",
   "execution_count": 43,
   "metadata": {},
   "outputs": [],
   "source": [
    "# necessary functions\n",
    "def normalize(vector):\n",
    "    normalized_vector = vector / np.linalg.norm(vector)\n",
    "    return normalized_vector\n",
    "\n",
    "def dimension(model, positives, negatives):\n",
    "    diff = (np.array([normalize(model[x]) for x in positives]).sum(axis=0) - \n",
    "            np.array([normalize(model[y]) for y in negatives]).sum(axis=0))\n",
    "    return diff"
   ]
  },
  {
   "cell_type": "code",
   "execution_count": 44,
   "metadata": {},
   "outputs": [],
   "source": [
    "# Create dimensions\n",
    "plan_mkt = dimension(model,\n",
    "                     ['计划经济', '短缺经济', '计划', '计划调节', '计划体制'],\n",
    "                     ['市场经济', '商品经济', '市场', '市场调节', '市场机制'])"
   ]
  },
  {
   "cell_type": "code",
   "execution_count": 46,
   "metadata": {},
   "outputs": [],
   "source": [
    "# Create domains\n",
    "Industries = ['农业', '采矿业', '制造业', '能源工业', '建筑业', '零售业', \n",
    "              '交通运输业', '餐饮业', '金融业', '房地产业', '新闻业']\n",
    "\n",
    "Firms = ['国营企业', '集体企业', '国有企业', '乡镇企业', \n",
    "         '三资企业', '外资企业', '私营企业', '民营企业']"
   ]
  },
  {
   "cell_type": "code",
   "execution_count": 58,
   "metadata": {},
   "outputs": [],
   "source": [
    "def makeDF(model, word_list):\n",
    "    p_m = []\n",
    "    for word in word_list:\n",
    "        p_m.append(sklearn.metrics.pairwise.cosine_similarity(model[word].reshape(1,-1), plan_mkt.reshape(1,-1))[0][0])\n",
    "    df = pd.DataFrame({'Regime': p_m}, index = word_list)\n",
    "    return df"
   ]
  },
  {
   "cell_type": "code",
   "execution_count": 59,
   "metadata": {},
   "outputs": [],
   "source": [
    "# Get the projections\n",
    "Inddf = makeDF(model, Industries)\n",
    "Firmdf = makeDF(model, Firms)"
   ]
  },
  {
   "cell_type": "code",
   "execution_count": 84,
   "metadata": {},
   "outputs": [],
   "source": [
    "# Functions for plotting\n",
    "def Coloring(Series):\n",
    "    x = Series.values\n",
    "    y = x-x.min()\n",
    "    z = y/y.max()\n",
    "    c = list(plt.cm.rainbow(z))\n",
    "    return c\n",
    "\n",
    "def PlotDimension(ax,df, dim):\n",
    "    ax.set_frame_on(False)\n",
    "    ax.set_title(dim, fontsize = 15, x=0.11, y=1.1)\n",
    "    colors = Coloring(df[dim])\n",
    "    for i, word in enumerate(df.index):\n",
    "        ax.annotate(word, (0, df[dim][i]), color = colors[i], alpha = 0.6, fontsize = 12)\n",
    "    MaxY = df[dim].max()\n",
    "    MinY = df[dim].min()\n",
    "    plt.ylim(MinY,MaxY)\n",
    "    plt.yticks(())\n",
    "    plt.xticks(())"
   ]
  },
  {
   "cell_type": "code",
   "execution_count": 85,
   "metadata": {},
   "outputs": [
    {
     "data": {
      "image/png": "[encoded data removed]",
      "text/plain": [
       "<Figure size 576x288 with 2 Axes>"
      ]
     },
     "metadata": {},
     "output_type": "display_data"
    }
   ],
   "source": [
    "fig = plt.figure(figsize = (8,4))\n",
    "ax1 = fig.add_subplot(121)\n",
    "PlotDimension(ax1, Inddf, 'Regime')\n",
    "ax2 = fig.add_subplot(122)\n",
    "PlotDimension(ax2, Firmdf, 'Regime')\n",
    "plt.show()"
   ]
  },
  {
   "cell_type": "code",
   "execution_count": null,
   "metadata": {},
   "outputs": [],
   "source": []
  }
 ],
 "metadata": {
  "kernelspec": {
   "display_name": "Python 3",
   "language": "python",
   "name": "python3"
  },
  "language_info": {
   "codemirror_mode": {
    "name": "ipython",
    "version": 3
   },
   "file_extension": ".py",
   "mimetype": "text/x-python",
   "name": "python",
   "nbconvert_exporter": "python",
   "pygments_lexer": "ipython3",
   "version": "3.7.7"
  }
 },
 "nbformat": 4,
 "nbformat_minor": 2
}
