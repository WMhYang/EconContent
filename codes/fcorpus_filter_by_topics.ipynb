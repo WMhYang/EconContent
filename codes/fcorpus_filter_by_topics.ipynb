{
 "cells": [
  {
   "cell_type": "markdown",
   "metadata": {},
   "source": [
    "## Project for rmrb - Part #[3]\n",
    "\n",
    "### Corpus final filtering by Word2Vec and Doc2Vec"
   ]
  },
  {
   "cell_type": "code",
   "execution_count": 2,
   "metadata": {},
   "outputs": [],
   "source": [
    "#All these packages need to be installed from pip\n",
    "import gensim#For word2vec, etc\n",
    "import requests #For downloading our datasets\n",
    "import lucem_illud_2020\n",
    "\n",
    "import numpy as np #For arrays\n",
    "import pandas #Gives us DataFrames\n",
    "import matplotlib.pyplot as plt #For graphics\n",
    "import seaborn #Makes the graphics look nicer\n",
    "import sklearn.metrics.pairwise #For cosine similarity\n",
    "import sklearn.manifold #For T-SNE\n",
    "import sklearn.decomposition #For PCA\n",
    "\n",
    "#This 'magic' command makes the plots work better\n",
    "#in the notebook, don't use it outside of a notebook.\n",
    "#Also you can ignore the warning\n",
    "%matplotlib inline\n",
    "\n",
    "import os #For looking through files\n",
    "import os.path #For managing file paths"
   ]
  },
  {
   "cell_type": "code",
   "execution_count": 3,
   "metadata": {},
   "outputs": [],
   "source": [
    "import dask\n",
    "import pandas as pd\n",
    "import numpy as np\n",
    "from matplotlib import pyplot as plt\n",
    "import jieba\n",
    "import re\n",
    "import string\n",
    "from zhon.hanzi import punctuation, stops, non_stops\n",
    "import gensim\n",
    "from gensim.models.word2vec import Word2Vec, LineSentence\n",
    "import linecache\n",
    "import timeit\n",
    "import warnings\n",
    "import zipfile\n",
    "import os\n",
    "import sys\n",
    "warnings.filterwarnings('ignore')"
   ]
  },
  {
   "cell_type": "markdown",
   "metadata": {},
   "source": [
    "## raw corpus loading"
   ]
  },
  {
   "cell_type": "code",
   "execution_count": 3,
   "metadata": {},
   "outputs": [],
   "source": [
    "news_df_sort=pd.read_csv('rmrb_tokened.csv')"
   ]
  },
  {
   "cell_type": "code",
   "execution_count": 4,
   "metadata": {},
   "outputs": [],
   "source": [
    "news_df_sort=news_df_sort.drop(['Unnamed: 0'], axis=1)"
   ]
  },
  {
   "cell_type": "code",
   "execution_count": 5,
   "metadata": {},
   "outputs": [],
   "source": [
    "corpus=news_df_sort.copy()"
   ]
  },
  {
   "cell_type": "code",
   "execution_count": 6,
   "metadata": {},
   "outputs": [],
   "source": [
    "# transfer string back to list\n",
    "\n",
    "tokenized_sent_str=news_df_sort['tokenized_sent'].values"
   ]
  },
  {
   "cell_type": "code",
   "execution_count": 7,
   "metadata": {},
   "outputs": [],
   "source": [
    "token_sent_clean=[]\n",
    "for doc in tokenized_sent_str:\n",
    "    #print(doc)\n",
    "    token_sent_clean.append([[y.strip().strip(string.punctuation) for y in x.split(',') if len(y)>0] \n",
    "                             for x in doc.lstrip('[').rstrip(']').split(']') if len(x)>0])"
   ]
  },
  {
   "cell_type": "code",
   "execution_count": 8,
   "metadata": {},
   "outputs": [],
   "source": [
    "corpus=corpus.drop(['tokenized_sent'],axis=1)\n",
    "corpus.insert(9, 'tokenized_sent',token_sent_clean,True)"
   ]
  },
  {
   "cell_type": "code",
   "execution_count": 9,
   "metadata": {},
   "outputs": [],
   "source": [
    "tokenized_para_str=news_df_sort['token_para'].values"
   ]
  },
  {
   "cell_type": "code",
   "execution_count": 10,
   "metadata": {},
   "outputs": [],
   "source": [
    "token_para_clean=[]\n",
    "for doc in tokenized_para_str:\n",
    "    #print(doc)\n",
    "    token_para_clean.append([x.strip().strip(\"'\") \n",
    "                             for x in doc.lstrip('[').rstrip(']').split(',') if len(x)>0])"
   ]
  },
  {
   "cell_type": "code",
   "execution_count": 11,
   "metadata": {},
   "outputs": [],
   "source": [
    "corpus=corpus.drop(['token_para'],axis=1)\n",
    "corpus.insert(9, 'token_para',token_para_clean,True)"
   ]
  },
  {
   "cell_type": "code",
   "execution_count": 12,
   "metadata": {},
   "outputs": [
    {
     "data": {
      "text/html": [
       "<div>\n",
       "<style scoped>\n",
       "    .dataframe tbody tr th:only-of-type {\n",
       "        vertical-align: middle;\n",
       "    }\n",
       "\n",
       "    .dataframe tbody tr th {\n",
       "        vertical-align: top;\n",
       "    }\n",
       "\n",
       "    .dataframe thead th {\n",
       "        text-align: right;\n",
       "    }\n",
       "</style>\n",
       "<table border=\"1\" class=\"dataframe\">\n",
       "  <thead>\n",
       "    <tr style=\"text-align: right;\">\n",
       "      <th></th>\n",
       "      <th>year</th>\n",
       "      <th>month</th>\n",
       "      <th>date</th>\n",
       "      <th>issue</th>\n",
       "      <th>column</th>\n",
       "      <th>title</th>\n",
       "      <th>author</th>\n",
       "      <th>text</th>\n",
       "      <th>tokenized_sent</th>\n",
       "      <th>token_para</th>\n",
       "    </tr>\n",
       "  </thead>\n",
       "  <tbody>\n",
       "    <tr>\n",
       "      <th>0</th>\n",
       "      <td>1960</td>\n",
       "      <td>1</td>\n",
       "      <td>1960-01-01</td>\n",
       "      <td>1</td>\n",
       "      <td>社论</td>\n",
       "      <td>展望六十年代</td>\n",
       "      <td>NaN</td>\n",
       "      <td>的最后一年，1959年，过去了；六十年代（1960—1969）的第一年，1960年，开始了。...</td>\n",
       "      <td>[[最后, 一年, 1959, 过去, 六十年代, 19601969, 第一年, 1960,...</td>\n",
       "      <td>[最后 一年 1959 过去 六十年代 19601969 第一年 1960 开始, 十年 不...</td>\n",
       "    </tr>\n",
       "    <tr>\n",
       "      <th>1</th>\n",
       "      <td>1960</td>\n",
       "      <td>1</td>\n",
       "      <td>1960-01-01</td>\n",
       "      <td>2</td>\n",
       "      <td>NaN</td>\n",
       "      <td>克拉玛依建设者冒雪夺油</td>\n",
       "      <td>NaN</td>\n",
       "      <td>在白雪茫茫的克拉玛依油区，气温已经下降到零下三十多度。但是，不论在井架下、油井旁，或是在大...</td>\n",
       "      <td>[[白雪, 茫茫, 克拉玛依, 油区, 气温, 已经, 下降, 零下, 三十多], [但是,...</td>\n",
       "      <td>[白雪 茫茫 克拉玛依 油区 气温 已经 下降 零下 三十多, 但是 不论 井架 油井 或是...</td>\n",
       "    </tr>\n",
       "    <tr>\n",
       "      <th>2</th>\n",
       "      <td>1960</td>\n",
       "      <td>1</td>\n",
       "      <td>1960-01-01</td>\n",
       "      <td>2</td>\n",
       "      <td>NaN</td>\n",
       "      <td>鞍钢健儿举行技术大检阅</td>\n",
       "      <td>NaN</td>\n",
       "      <td>英雄立大志　定叫新年胜旧年钢铁、煤炭、机械、石油、纺织、基建、交通职工越战越强据新华社鞍山3...</td>\n",
       "      <td>[[英雄, 大志, 新年, 旧年], [钢铁, 煤炭, 机械, 石油, 纺织, 基建, 交通...</td>\n",
       "      <td>[英雄 大志 新年 旧年, 钢铁 煤炭 机械 石油 纺织 基建 交通 职工 越战 越强, 新...</td>\n",
       "    </tr>\n",
       "    <tr>\n",
       "      <th>3</th>\n",
       "      <td>1960</td>\n",
       "      <td>1</td>\n",
       "      <td>1960-01-01</td>\n",
       "      <td>2</td>\n",
       "      <td>NaN</td>\n",
       "      <td>红旗采煤队新年红旗飘</td>\n",
       "      <td>NaN</td>\n",
       "      <td>29日深夜零点，当乌亮的煤块从井下随着皮带运输机滚滚流向地面时，工人们发出了一片喝采声。太...</td>\n",
       "      <td>[[29, 深夜, 零点, 乌亮, 煤块, 井下, 随着, 皮带, 运输机, 滚滚, 流向,...</td>\n",
       "      <td>[29 深夜 零点 乌亮 煤块 井下 随着 皮带 运输机 滚滚 流向 地面 工人 发出 一片...</td>\n",
       "    </tr>\n",
       "    <tr>\n",
       "      <th>4</th>\n",
       "      <td>1960</td>\n",
       "      <td>1</td>\n",
       "      <td>1960-01-01</td>\n",
       "      <td>2</td>\n",
       "      <td>NaN</td>\n",
       "      <td>三门峡彻夜灯火辉煌 叫大坝今年全部拦洪</td>\n",
       "      <td>NaN</td>\n",
       "      <td>寒夜降临三门峡。但是，在三门峡工地，黑夜仍同白昼一样，到处是忙碌着的人群。聚光灯和电焊火花...</td>\n",
       "      <td>[[寒夜, 降临, 三门峡], [但是, 三门峡, 工地, 黑夜, 仍同, 白昼, 一样, ...</td>\n",
       "      <td>[寒夜 降临 三门峡, 但是 三门峡 工地 黑夜 仍同 白昼 一样 到处 忙碌 人群, 聚光...</td>\n",
       "    </tr>\n",
       "  </tbody>\n",
       "</table>\n",
       "</div>"
      ],
      "text/plain": [
       "   year  month        date issue column                title author  \\\n",
       "0  1960      1  1960-01-01     1     社论               展望六十年代    NaN   \n",
       "1  1960      1  1960-01-01     2    NaN          克拉玛依建设者冒雪夺油    NaN   \n",
       "2  1960      1  1960-01-01     2    NaN          鞍钢健儿举行技术大检阅    NaN   \n",
       "3  1960      1  1960-01-01     2    NaN           红旗采煤队新年红旗飘    NaN   \n",
       "4  1960      1  1960-01-01     2    NaN  三门峡彻夜灯火辉煌 叫大坝今年全部拦洪    NaN   \n",
       "\n",
       "                                                text  \\\n",
       "0  的最后一年，1959年，过去了；六十年代（1960—1969）的第一年，1960年，开始了。...   \n",
       "1  　在白雪茫茫的克拉玛依油区，气温已经下降到零下三十多度。但是，不论在井架下、油井旁，或是在大...   \n",
       "2  英雄立大志　定叫新年胜旧年钢铁、煤炭、机械、石油、纺织、基建、交通职工越战越强据新华社鞍山3...   \n",
       "3  　29日深夜零点，当乌亮的煤块从井下随着皮带运输机滚滚流向地面时，工人们发出了一片喝采声。太...   \n",
       "4  　寒夜降临三门峡。但是，在三门峡工地，黑夜仍同白昼一样，到处是忙碌着的人群。聚光灯和电焊火花...   \n",
       "\n",
       "                                      tokenized_sent  \\\n",
       "0  [[最后, 一年, 1959, 过去, 六十年代, 19601969, 第一年, 1960,...   \n",
       "1  [[白雪, 茫茫, 克拉玛依, 油区, 气温, 已经, 下降, 零下, 三十多], [但是,...   \n",
       "2  [[英雄, 大志, 新年, 旧年], [钢铁, 煤炭, 机械, 石油, 纺织, 基建, 交通...   \n",
       "3  [[29, 深夜, 零点, 乌亮, 煤块, 井下, 随着, 皮带, 运输机, 滚滚, 流向,...   \n",
       "4  [[寒夜, 降临, 三门峡], [但是, 三门峡, 工地, 黑夜, 仍同, 白昼, 一样, ...   \n",
       "\n",
       "                                          token_para  \n",
       "0  [最后 一年 1959 过去 六十年代 19601969 第一年 1960 开始, 十年 不...  \n",
       "1  [白雪 茫茫 克拉玛依 油区 气温 已经 下降 零下 三十多, 但是 不论 井架 油井 或是...  \n",
       "2  [英雄 大志 新年 旧年, 钢铁 煤炭 机械 石油 纺织 基建 交通 职工 越战 越强, 新...  \n",
       "3  [29 深夜 零点 乌亮 煤块 井下 随着 皮带 运输机 滚滚 流向 地面 工人 发出 一片...  \n",
       "4  [寒夜 降临 三门峡, 但是 三门峡 工地 黑夜 仍同 白昼 一样 到处 忙碌 人群, 聚光...  "
      ]
     },
     "execution_count": 12,
     "metadata": {},
     "output_type": "execute_result"
    }
   ],
   "source": [
    "corpus.head()"
   ]
  },
  {
   "cell_type": "code",
   "execution_count": 13,
   "metadata": {},
   "outputs": [],
   "source": [
    "# get the time from 1965 to 2002\n",
    "\n",
    "year1=[int(x) for x in range(1965,2003)]\n",
    "\n",
    "sample_all=corpus[:0]\n",
    "for year in year1:\n",
    "    sample_all=sample_all.append(corpus[corpus['year']==year])"
   ]
  },
  {
   "cell_type": "code",
   "execution_count": 14,
   "metadata": {},
   "outputs": [
    {
     "data": {
      "text/html": [
       "<div>\n",
       "<style scoped>\n",
       "    .dataframe tbody tr th:only-of-type {\n",
       "        vertical-align: middle;\n",
       "    }\n",
       "\n",
       "    .dataframe tbody tr th {\n",
       "        vertical-align: top;\n",
       "    }\n",
       "\n",
       "    .dataframe thead th {\n",
       "        text-align: right;\n",
       "    }\n",
       "</style>\n",
       "<table border=\"1\" class=\"dataframe\">\n",
       "  <thead>\n",
       "    <tr style=\"text-align: right;\">\n",
       "      <th></th>\n",
       "      <th>year</th>\n",
       "      <th>month</th>\n",
       "      <th>date</th>\n",
       "      <th>issue</th>\n",
       "      <th>column</th>\n",
       "      <th>title</th>\n",
       "      <th>author</th>\n",
       "      <th>text</th>\n",
       "      <th>tokenized_sent</th>\n",
       "      <th>token_para</th>\n",
       "    </tr>\n",
       "  </thead>\n",
       "  <tbody>\n",
       "    <tr>\n",
       "      <th>64321</th>\n",
       "      <td>1965</td>\n",
       "      <td>1</td>\n",
       "      <td>1965-01-01</td>\n",
       "      <td>1</td>\n",
       "      <td>NaN</td>\n",
       "      <td>刘少奇主席召集最高国务会议</td>\n",
       "      <td>NaN</td>\n",
       "      <td>刘主席就当前国际国内形势和工作中的一些重要问题作了讲话会议对周恩来总理在人大会议上作的“政府...</td>\n",
       "      <td>[[主席, 当前, 国际, 国内形势, 工作, 一些, 重要, 问题, 讲话], [会议, ...</td>\n",
       "      <td>[主席 当前 国际 国内形势 工作 一些 重要 问题 讲话, 会议 周恩来 总理 人大 会议...</td>\n",
       "    </tr>\n",
       "    <tr>\n",
       "      <th>64322</th>\n",
       "      <td>1965</td>\n",
       "      <td>1</td>\n",
       "      <td>1965-01-01</td>\n",
       "      <td>1</td>\n",
       "      <td>NaN</td>\n",
       "      <td>毛主席刘主席等领导人同五万军民联欢迎接新年</td>\n",
       "      <td>NaN</td>\n",
       "      <td>首都举行盛大的拥军优属、拥政爱民新年联欢晚会人大代表政协委员也同军民联欢，全场洋溢着团结欢乐...</td>\n",
       "      <td>[[首都, 举行, 盛大, 拥军优属, 拥政爱民, 新年, 联欢晚会], [人大代表, 政协...</td>\n",
       "      <td>[首都 举行 盛大 拥军优属 拥政爱民 新年 联欢晚会, 人大代表 政协委员 军民联欢 全场...</td>\n",
       "    </tr>\n",
       "    <tr>\n",
       "      <th>64323</th>\n",
       "      <td>1965</td>\n",
       "      <td>1</td>\n",
       "      <td>1965-01-01</td>\n",
       "      <td>2</td>\n",
       "      <td>NaN</td>\n",
       "      <td>政协四届首次会议继续举行大会</td>\n",
       "      <td>NaN</td>\n",
       "      <td>政协第三届全国委员会副主席、西藏自治区筹备委员会副主任委员帕巴拉·格列朗杰用大量事实，揭发和...</td>\n",
       "      <td>[[政协, 第三届, 全国, 委员会, 主席, 西藏自治区筹备委员会, 主任委员, 帕巴拉,...</td>\n",
       "      <td>[政协 第三届 全国 委员会 主席 西藏自治区筹备委员会 主任委员 帕巴拉 格列朗 杰用 大...</td>\n",
       "    </tr>\n",
       "    <tr>\n",
       "      <th>64324</th>\n",
       "      <td>1965</td>\n",
       "      <td>1</td>\n",
       "      <td>1965-01-01</td>\n",
       "      <td>2</td>\n",
       "      <td>NaN</td>\n",
       "      <td>三届人大首次会议继续举行大会</td>\n",
       "      <td>NaN</td>\n",
       "      <td>四十位代表作了发言或书面发言同意政府工作报告西藏代表阿沛·阿旺晋美揭露了达赖集团的叛国罪行，...</td>\n",
       "      <td>[[四十位, 代表作, 发言, 书面发言, 同意, 政府, 工作, 报告], [西藏, 代表...</td>\n",
       "      <td>[四十位 代表作 发言 书面发言 同意 政府 工作 报告, 西藏 代表 阿沛 阿旺晋美 揭露...</td>\n",
       "    </tr>\n",
       "    <tr>\n",
       "      <th>64325</th>\n",
       "      <td>1965</td>\n",
       "      <td>1</td>\n",
       "      <td>1965-01-01</td>\n",
       "      <td>2</td>\n",
       "      <td>NaN</td>\n",
       "      <td>三届人大首次会议 举行主席团扩大会议讨论国家领导人等候选人名单问题 三届人大首次会议的各代表...</td>\n",
       "      <td>NaN</td>\n",
       "      <td>第三届全国人民代表大会第一次会议，三十日举行主席团扩大会议，讨论了即将在第三届全国人民代表...</td>\n",
       "      <td>[[第三届, 全国人民代表大会, 第一次, 会议, 三十日, 举行, 主席团, 扩大, 会议...</td>\n",
       "      <td>[第三届 全国人民代表大会 第一次 会议 三十日 举行 主席团 扩大 会议 讨论 即将 第三...</td>\n",
       "    </tr>\n",
       "    <tr>\n",
       "      <th>...</th>\n",
       "      <td>...</td>\n",
       "      <td>...</td>\n",
       "      <td>...</td>\n",
       "      <td>...</td>\n",
       "      <td>...</td>\n",
       "      <td>...</td>\n",
       "      <td>...</td>\n",
       "      <td>...</td>\n",
       "      <td>...</td>\n",
       "      <td>...</td>\n",
       "    </tr>\n",
       "    <tr>\n",
       "      <th>561532</th>\n",
       "      <td>2002</td>\n",
       "      <td>12</td>\n",
       "      <td>2002-12-31</td>\n",
       "      <td>4_要闻</td>\n",
       "      <td>认真贯彻中办通知精神做好人民日报发行工作</td>\n",
       "      <td>宿迁全面完成发行计划</td>\n",
       "      <td>龚永泉顾兆农</td>\n",
       "      <td>本报南京12月30日电记者龚永泉、顾兆农报道：12月23日，江苏省宿迁市率先在全省全面完成2...</td>\n",
       "      <td>[[本报, 南京, 12, 30, 日电, 记者, 龚永泉, 顾兆农, 报道, 12, 23...</td>\n",
       "      <td>[本报 南京 12 30 日电 记者 龚永泉 顾兆农 报道 12 23 江苏省 宿迁市 率先...</td>\n",
       "    </tr>\n",
       "    <tr>\n",
       "      <th>561533</th>\n",
       "      <td>2002</td>\n",
       "      <td>12</td>\n",
       "      <td>2002-12-31</td>\n",
       "      <td>4_要闻</td>\n",
       "      <td>NaN</td>\n",
       "      <td>为解决制造假账、违规开支、私设小金库、乱集资摊派等财政管理中长期存在的问题——安顺：会计集中...</td>\n",
       "      <td>孙海涛</td>\n",
       "      <td>贵州省安顺市去年7月在全省率先改革旧的财政管理体制，在全市实行市、县、乡3级会计集中核算。该...</td>\n",
       "      <td>[[贵州省, 安顺市, 去年, 全省, 率先, 改革, 财政管理, 体制, 全市, 实行, ...</td>\n",
       "      <td>[贵州省 安顺市 去年 全省 率先 改革 财政管理 体制 全市 实行 市县 会计 集中 核算...</td>\n",
       "    </tr>\n",
       "    <tr>\n",
       "      <th>561534</th>\n",
       "      <td>2002</td>\n",
       "      <td>12</td>\n",
       "      <td>2002-12-31</td>\n",
       "      <td>4_要闻</td>\n",
       "      <td>NaN</td>\n",
       "      <td>陈良宇会见德国总理</td>\n",
       "      <td>周解蓉吴宇</td>\n",
       "      <td>上海市市长陈良宇30日晚在这里会见了德意志联邦共和国总理格哈德·施罗德。施罗德一行是于30日...</td>\n",
       "      <td>[[上海市, 市长, 陈良宇, 30, 日晚, 这里, 会见, 德意志联邦共和国, 总理, ...</td>\n",
       "      <td>[上海市 市长 陈良宇 30 日晚 这里 会见 德意志联邦共和国 总理 格哈德 施罗德, 施...</td>\n",
       "    </tr>\n",
       "    <tr>\n",
       "      <th>561535</th>\n",
       "      <td>2002</td>\n",
       "      <td>12</td>\n",
       "      <td>2002-12-31</td>\n",
       "      <td>4_要闻</td>\n",
       "      <td>扶贫济困送温暖</td>\n",
       "      <td>山东向灾民发放救灾款</td>\n",
       "      <td>何勇</td>\n",
       "      <td>山东省大力开展农村救灾工作，到目前，全省共投放救灾款1.8亿元，救济灾民600多万人。今年以...</td>\n",
       "      <td>[[山东省, 大力开展, 农村, 救灾, 工作, 目前, 全省, 投放, 救灾款], [亿元...</td>\n",
       "      <td>[山东省 大力开展 农村 救灾 工作 目前 全省 投放 救灾款, 亿元 救济灾民 600 多...</td>\n",
       "    </tr>\n",
       "    <tr>\n",
       "      <th>561536</th>\n",
       "      <td>2002</td>\n",
       "      <td>12</td>\n",
       "      <td>2002-12-31</td>\n",
       "      <td>4_要闻</td>\n",
       "      <td>扶贫济困送温暖</td>\n",
       "      <td>潜江地税扶持下岗职工再就业</td>\n",
       "      <td>聂传俊杜若原</td>\n",
       "      <td>日前，湖北省潜江市又有一批下岗职工领到再就业卡，他们在进入社区服务时说：是地税部门的税收优惠...</td>\n",
       "      <td>[[日前, 湖北省, 潜江市, 一批, 下岗职工, 领到, 就业, 他们, 进入, 社区服务...</td>\n",
       "      <td>[日前 湖北省 潜江市 一批 下岗职工 领到 就业 他们 进入 社区服务 时说 地税 部门 ...</td>\n",
       "    </tr>\n",
       "  </tbody>\n",
       "</table>\n",
       "<p>497216 rows × 10 columns</p>\n",
       "</div>"
      ],
      "text/plain": [
       "        year  month        date issue                column  \\\n",
       "64321   1965      1  1965-01-01     1                   NaN   \n",
       "64322   1965      1  1965-01-01     1                   NaN   \n",
       "64323   1965      1  1965-01-01     2                   NaN   \n",
       "64324   1965      1  1965-01-01     2                   NaN   \n",
       "64325   1965      1  1965-01-01     2                   NaN   \n",
       "...      ...    ...         ...   ...                   ...   \n",
       "561532  2002     12  2002-12-31  4_要闻  认真贯彻中办通知精神做好人民日报发行工作   \n",
       "561533  2002     12  2002-12-31  4_要闻                   NaN   \n",
       "561534  2002     12  2002-12-31  4_要闻                   NaN   \n",
       "561535  2002     12  2002-12-31  4_要闻               扶贫济困送温暖   \n",
       "561536  2002     12  2002-12-31  4_要闻               扶贫济困送温暖   \n",
       "\n",
       "                                                    title  author  \\\n",
       "64321                                       刘少奇主席召集最高国务会议     NaN   \n",
       "64322                               毛主席刘主席等领导人同五万军民联欢迎接新年     NaN   \n",
       "64323                                      政协四届首次会议继续举行大会     NaN   \n",
       "64324                                      三届人大首次会议继续举行大会     NaN   \n",
       "64325   三届人大首次会议 举行主席团扩大会议讨论国家领导人等候选人名单问题 三届人大首次会议的各代表...     NaN   \n",
       "...                                                   ...     ...   \n",
       "561532                                         宿迁全面完成发行计划  龚永泉顾兆农   \n",
       "561533  为解决制造假账、违规开支、私设小金库、乱集资摊派等财政管理中长期存在的问题——安顺：会计集中...     孙海涛   \n",
       "561534                                          陈良宇会见德国总理   周解蓉吴宇   \n",
       "561535                                         山东向灾民发放救灾款      何勇   \n",
       "561536                                      潜江地税扶持下岗职工再就业  聂传俊杜若原   \n",
       "\n",
       "                                                     text  \\\n",
       "64321   刘主席就当前国际国内形势和工作中的一些重要问题作了讲话会议对周恩来总理在人大会议上作的“政府...   \n",
       "64322   首都举行盛大的拥军优属、拥政爱民新年联欢晚会人大代表政协委员也同军民联欢，全场洋溢着团结欢乐...   \n",
       "64323   政协第三届全国委员会副主席、西藏自治区筹备委员会副主任委员帕巴拉·格列朗杰用大量事实，揭发和...   \n",
       "64324   四十位代表作了发言或书面发言同意政府工作报告西藏代表阿沛·阿旺晋美揭露了达赖集团的叛国罪行，...   \n",
       "64325   　第三届全国人民代表大会第一次会议，三十日举行主席团扩大会议，讨论了即将在第三届全国人民代表...   \n",
       "...                                                   ...   \n",
       "561532  本报南京12月30日电记者龚永泉、顾兆农报道：12月23日，江苏省宿迁市率先在全省全面完成2...   \n",
       "561533  贵州省安顺市去年7月在全省率先改革旧的财政管理体制，在全市实行市、县、乡3级会计集中核算。该...   \n",
       "561534  上海市市长陈良宇30日晚在这里会见了德意志联邦共和国总理格哈德·施罗德。施罗德一行是于30日...   \n",
       "561535  山东省大力开展农村救灾工作，到目前，全省共投放救灾款1.8亿元，救济灾民600多万人。今年以...   \n",
       "561536  日前，湖北省潜江市又有一批下岗职工领到再就业卡，他们在进入社区服务时说：是地税部门的税收优惠...   \n",
       "\n",
       "                                           tokenized_sent  \\\n",
       "64321   [[主席, 当前, 国际, 国内形势, 工作, 一些, 重要, 问题, 讲话], [会议, ...   \n",
       "64322   [[首都, 举行, 盛大, 拥军优属, 拥政爱民, 新年, 联欢晚会], [人大代表, 政协...   \n",
       "64323   [[政协, 第三届, 全国, 委员会, 主席, 西藏自治区筹备委员会, 主任委员, 帕巴拉,...   \n",
       "64324   [[四十位, 代表作, 发言, 书面发言, 同意, 政府, 工作, 报告], [西藏, 代表...   \n",
       "64325   [[第三届, 全国人民代表大会, 第一次, 会议, 三十日, 举行, 主席团, 扩大, 会议...   \n",
       "...                                                   ...   \n",
       "561532  [[本报, 南京, 12, 30, 日电, 记者, 龚永泉, 顾兆农, 报道, 12, 23...   \n",
       "561533  [[贵州省, 安顺市, 去年, 全省, 率先, 改革, 财政管理, 体制, 全市, 实行, ...   \n",
       "561534  [[上海市, 市长, 陈良宇, 30, 日晚, 这里, 会见, 德意志联邦共和国, 总理, ...   \n",
       "561535  [[山东省, 大力开展, 农村, 救灾, 工作, 目前, 全省, 投放, 救灾款], [亿元...   \n",
       "561536  [[日前, 湖北省, 潜江市, 一批, 下岗职工, 领到, 就业, 他们, 进入, 社区服务...   \n",
       "\n",
       "                                               token_para  \n",
       "64321   [主席 当前 国际 国内形势 工作 一些 重要 问题 讲话, 会议 周恩来 总理 人大 会议...  \n",
       "64322   [首都 举行 盛大 拥军优属 拥政爱民 新年 联欢晚会, 人大代表 政协委员 军民联欢 全场...  \n",
       "64323   [政协 第三届 全国 委员会 主席 西藏自治区筹备委员会 主任委员 帕巴拉 格列朗 杰用 大...  \n",
       "64324   [四十位 代表作 发言 书面发言 同意 政府 工作 报告, 西藏 代表 阿沛 阿旺晋美 揭露...  \n",
       "64325   [第三届 全国人民代表大会 第一次 会议 三十日 举行 主席团 扩大 会议 讨论 即将 第三...  \n",
       "...                                                   ...  \n",
       "561532  [本报 南京 12 30 日电 记者 龚永泉 顾兆农 报道 12 23 江苏省 宿迁市 率先...  \n",
       "561533  [贵州省 安顺市 去年 全省 率先 改革 财政管理 体制 全市 实行 市县 会计 集中 核算...  \n",
       "561534  [上海市 市长 陈良宇 30 日晚 这里 会见 德意志联邦共和国 总理 格哈德 施罗德, 施...  \n",
       "561535  [山东省 大力开展 农村 救灾 工作 目前 全省 投放 救灾款, 亿元 救济灾民 600 多...  \n",
       "561536  [日前 湖北省 潜江市 一批 下岗职工 领到 就业 他们 进入 社区服务 时说 地税 部门 ...  \n",
       "\n",
       "[497216 rows x 10 columns]"
      ]
     },
     "execution_count": 14,
     "metadata": {},
     "output_type": "execute_result"
    }
   ],
   "source": [
    "sample_all"
   ]
  },
  {
   "cell_type": "markdown",
   "metadata": {},
   "source": [
    "## add `date_title` column"
   ]
  },
  {
   "cell_type": "code",
   "execution_count": 145,
   "metadata": {},
   "outputs": [
    {
     "name": "stdout",
     "output_type": "stream",
     "text": [
      "True\n"
     ]
    }
   ],
   "source": [
    "## as some news have same titles, add the date_title column\n",
    "\n",
    "date_col=sample_all['date'].values\n",
    "title_col=sample_all['title'].values\n",
    "\n",
    "print(len(date_col)==len(title_col))"
   ]
  },
  {
   "cell_type": "code",
   "execution_count": 152,
   "metadata": {},
   "outputs": [],
   "source": [
    "date_title=[]\n",
    "\n",
    "for i in range(len(date_col)):\n",
    "    date_title.append(str(date_col[i])+str(title_col[i]))"
   ]
  },
  {
   "cell_type": "code",
   "execution_count": 154,
   "metadata": {},
   "outputs": [
    {
     "data": {
      "text/plain": [
       "497216"
      ]
     },
     "execution_count": 154,
     "metadata": {},
     "output_type": "execute_result"
    }
   ],
   "source": [
    "len(date_title)"
   ]
  },
  {
   "cell_type": "code",
   "execution_count": 155,
   "metadata": {},
   "outputs": [],
   "source": [
    "sample_all2=sample_all.copy()"
   ]
  },
  {
   "cell_type": "code",
   "execution_count": 156,
   "metadata": {},
   "outputs": [],
   "source": [
    "sample_all2.insert(5, 'date_title',date_title, True)"
   ]
  },
  {
   "cell_type": "code",
   "execution_count": 157,
   "metadata": {},
   "outputs": [
    {
     "data": {
      "text/html": [
       "<div>\n",
       "<style scoped>\n",
       "    .dataframe tbody tr th:only-of-type {\n",
       "        vertical-align: middle;\n",
       "    }\n",
       "\n",
       "    .dataframe tbody tr th {\n",
       "        vertical-align: top;\n",
       "    }\n",
       "\n",
       "    .dataframe thead th {\n",
       "        text-align: right;\n",
       "    }\n",
       "</style>\n",
       "<table border=\"1\" class=\"dataframe\">\n",
       "  <thead>\n",
       "    <tr style=\"text-align: right;\">\n",
       "      <th></th>\n",
       "      <th>year</th>\n",
       "      <th>month</th>\n",
       "      <th>date</th>\n",
       "      <th>issue</th>\n",
       "      <th>column</th>\n",
       "      <th>date_title</th>\n",
       "      <th>title</th>\n",
       "      <th>author</th>\n",
       "      <th>text</th>\n",
       "      <th>tokenized_sent</th>\n",
       "      <th>token_para</th>\n",
       "    </tr>\n",
       "  </thead>\n",
       "  <tbody>\n",
       "    <tr>\n",
       "      <th>64321</th>\n",
       "      <td>1965</td>\n",
       "      <td>1</td>\n",
       "      <td>1965-01-01</td>\n",
       "      <td>1</td>\n",
       "      <td>NaN</td>\n",
       "      <td>1965-01-01刘少奇主席召集最高国务会议</td>\n",
       "      <td>刘少奇主席召集最高国务会议</td>\n",
       "      <td>NaN</td>\n",
       "      <td>刘主席就当前国际国内形势和工作中的一些重要问题作了讲话会议对周恩来总理在人大会议上作的“政府...</td>\n",
       "      <td>[[主席, 当前, 国际, 国内形势, 工作, 一些, 重要, 问题, 讲话], [会议, ...</td>\n",
       "      <td>[主席 当前 国际 国内形势 工作 一些 重要 问题 讲话, 会议 周恩来 总理 人大 会议...</td>\n",
       "    </tr>\n",
       "    <tr>\n",
       "      <th>64322</th>\n",
       "      <td>1965</td>\n",
       "      <td>1</td>\n",
       "      <td>1965-01-01</td>\n",
       "      <td>1</td>\n",
       "      <td>NaN</td>\n",
       "      <td>1965-01-01毛主席刘主席等领导人同五万军民联欢迎接新年</td>\n",
       "      <td>毛主席刘主席等领导人同五万军民联欢迎接新年</td>\n",
       "      <td>NaN</td>\n",
       "      <td>首都举行盛大的拥军优属、拥政爱民新年联欢晚会人大代表政协委员也同军民联欢，全场洋溢着团结欢乐...</td>\n",
       "      <td>[[首都, 举行, 盛大, 拥军优属, 拥政爱民, 新年, 联欢晚会], [人大代表, 政协...</td>\n",
       "      <td>[首都 举行 盛大 拥军优属 拥政爱民 新年 联欢晚会, 人大代表 政协委员 军民联欢 全场...</td>\n",
       "    </tr>\n",
       "    <tr>\n",
       "      <th>64323</th>\n",
       "      <td>1965</td>\n",
       "      <td>1</td>\n",
       "      <td>1965-01-01</td>\n",
       "      <td>2</td>\n",
       "      <td>NaN</td>\n",
       "      <td>1965-01-01政协四届首次会议继续举行大会</td>\n",
       "      <td>政协四届首次会议继续举行大会</td>\n",
       "      <td>NaN</td>\n",
       "      <td>政协第三届全国委员会副主席、西藏自治区筹备委员会副主任委员帕巴拉·格列朗杰用大量事实，揭发和...</td>\n",
       "      <td>[[政协, 第三届, 全国, 委员会, 主席, 西藏自治区筹备委员会, 主任委员, 帕巴拉,...</td>\n",
       "      <td>[政协 第三届 全国 委员会 主席 西藏自治区筹备委员会 主任委员 帕巴拉 格列朗 杰用 大...</td>\n",
       "    </tr>\n",
       "    <tr>\n",
       "      <th>64324</th>\n",
       "      <td>1965</td>\n",
       "      <td>1</td>\n",
       "      <td>1965-01-01</td>\n",
       "      <td>2</td>\n",
       "      <td>NaN</td>\n",
       "      <td>1965-01-01三届人大首次会议继续举行大会</td>\n",
       "      <td>三届人大首次会议继续举行大会</td>\n",
       "      <td>NaN</td>\n",
       "      <td>四十位代表作了发言或书面发言同意政府工作报告西藏代表阿沛·阿旺晋美揭露了达赖集团的叛国罪行，...</td>\n",
       "      <td>[[四十位, 代表作, 发言, 书面发言, 同意, 政府, 工作, 报告], [西藏, 代表...</td>\n",
       "      <td>[四十位 代表作 发言 书面发言 同意 政府 工作 报告, 西藏 代表 阿沛 阿旺晋美 揭露...</td>\n",
       "    </tr>\n",
       "    <tr>\n",
       "      <th>64325</th>\n",
       "      <td>1965</td>\n",
       "      <td>1</td>\n",
       "      <td>1965-01-01</td>\n",
       "      <td>2</td>\n",
       "      <td>NaN</td>\n",
       "      <td>1965-01-01三届人大首次会议 举行主席团扩大会议讨论国家领导人等候选人名单问题 三届...</td>\n",
       "      <td>三届人大首次会议 举行主席团扩大会议讨论国家领导人等候选人名单问题 三届人大首次会议的各代表...</td>\n",
       "      <td>NaN</td>\n",
       "      <td>第三届全国人民代表大会第一次会议，三十日举行主席团扩大会议，讨论了即将在第三届全国人民代表...</td>\n",
       "      <td>[[第三届, 全国人民代表大会, 第一次, 会议, 三十日, 举行, 主席团, 扩大, 会议...</td>\n",
       "      <td>[第三届 全国人民代表大会 第一次 会议 三十日 举行 主席团 扩大 会议 讨论 即将 第三...</td>\n",
       "    </tr>\n",
       "  </tbody>\n",
       "</table>\n",
       "</div>"
      ],
      "text/plain": [
       "       year  month        date issue column                                         date_title                                              title author                                               text                                     tokenized_sent                                         token_para\n",
       "64321  1965      1  1965-01-01     1    NaN                            1965-01-01刘少奇主席召集最高国务会议                                      刘少奇主席召集最高国务会议    NaN  刘主席就当前国际国内形势和工作中的一些重要问题作了讲话会议对周恩来总理在人大会议上作的“政府...  [[主席, 当前, 国际, 国内形势, 工作, 一些, 重要, 问题, 讲话], [会议, ...  [主席 当前 国际 国内形势 工作 一些 重要 问题 讲话, 会议 周恩来 总理 人大 会议...\n",
       "64322  1965      1  1965-01-01     1    NaN                    1965-01-01毛主席刘主席等领导人同五万军民联欢迎接新年                              毛主席刘主席等领导人同五万军民联欢迎接新年    NaN  首都举行盛大的拥军优属、拥政爱民新年联欢晚会人大代表政协委员也同军民联欢，全场洋溢着团结欢乐...  [[首都, 举行, 盛大, 拥军优属, 拥政爱民, 新年, 联欢晚会], [人大代表, 政协...  [首都 举行 盛大 拥军优属 拥政爱民 新年 联欢晚会, 人大代表 政协委员 军民联欢 全场...\n",
       "64323  1965      1  1965-01-01     2    NaN                           1965-01-01政协四届首次会议继续举行大会                                     政协四届首次会议继续举行大会    NaN  政协第三届全国委员会副主席、西藏自治区筹备委员会副主任委员帕巴拉·格列朗杰用大量事实，揭发和...  [[政协, 第三届, 全国, 委员会, 主席, 西藏自治区筹备委员会, 主任委员, 帕巴拉,...  [政协 第三届 全国 委员会 主席 西藏自治区筹备委员会 主任委员 帕巴拉 格列朗 杰用 大...\n",
       "64324  1965      1  1965-01-01     2    NaN                           1965-01-01三届人大首次会议继续举行大会                                     三届人大首次会议继续举行大会    NaN  四十位代表作了发言或书面发言同意政府工作报告西藏代表阿沛·阿旺晋美揭露了达赖集团的叛国罪行，...  [[四十位, 代表作, 发言, 书面发言, 同意, 政府, 工作, 报告], [西藏, 代表...  [四十位 代表作 发言 书面发言 同意 政府 工作 报告, 西藏 代表 阿沛 阿旺晋美 揭露...\n",
       "64325  1965      1  1965-01-01     2    NaN  1965-01-01三届人大首次会议 举行主席团扩大会议讨论国家领导人等候选人名单问题 三届...  三届人大首次会议 举行主席团扩大会议讨论国家领导人等候选人名单问题 三届人大首次会议的各代表...    NaN  　第三届全国人民代表大会第一次会议，三十日举行主席团扩大会议，讨论了即将在第三届全国人民代表...  [[第三届, 全国人民代表大会, 第一次, 会议, 三十日, 举行, 主席团, 扩大, 会议...  [第三届 全国人民代表大会 第一次 会议 三十日 举行 主席团 扩大 会议 讨论 即将 第三..."
      ]
     },
     "execution_count": 157,
     "metadata": {},
     "output_type": "execute_result"
    }
   ],
   "source": [
    "sample_all2.head()"
   ]
  },
  {
   "cell_type": "code",
   "execution_count": 178,
   "metadata": {},
   "outputs": [
    {
     "data": {
      "text/plain": [
       "497216"
      ]
     },
     "execution_count": 178,
     "metadata": {},
     "output_type": "execute_result"
    }
   ],
   "source": [
    "len(sample_all2)"
   ]
  },
  {
   "cell_type": "markdown",
   "metadata": {},
   "source": [
    "## train D2V"
   ]
  },
  {
   "cell_type": "code",
   "execution_count": 179,
   "metadata": {},
   "outputs": [],
   "source": [
    "samplef=sample_all2[::]"
   ]
  },
  {
   "cell_type": "code",
   "execution_count": 180,
   "metadata": {},
   "outputs": [
    {
     "data": {
      "text/plain": [
       "497216"
      ]
     },
     "execution_count": 180,
     "metadata": {},
     "output_type": "execute_result"
    }
   ],
   "source": [
    "len(samplef)"
   ]
  },
  {
   "cell_type": "code",
   "execution_count": 181,
   "metadata": {},
   "outputs": [
    {
     "name": "stdout",
     "output_type": "stream",
     "text": [
      "CPU times: user 1min 24s, sys: 36.8 s, total: 2min\n",
      "Wall time: 2min 37s\n"
     ]
    }
   ],
   "source": [
    "%%time\n",
    "\n",
    "taggedDocs = []\n",
    "for index, row in samplef.iterrows():\n",
    "    docKeywords=[]\n",
    "    #Just doing a simple keyword assignment\n",
    "    docKeywords.append(row['date_title']) # unique\n",
    "    #break\n",
    "    taggedDocs.append(gensim.models.doc2vec.LabeledSentence(words = [y for x in row['tokenized_sent'] for y in x], tags = docKeywords))\n",
    "samplef['tagged'] = taggedDocs"
   ]
  },
  {
   "cell_type": "code",
   "execution_count": 182,
   "metadata": {},
   "outputs": [
    {
     "name": "stdout",
     "output_type": "stream",
     "text": [
      "CPU times: user 34min 16s, sys: 3min 41s, total: 37min 57s\n",
      "Wall time: 17min 50s\n"
     ]
    }
   ],
   "source": [
    "%%time\n",
    "\n",
    "start=timeit.default_timer()\n",
    "\n",
    "rmD2V = gensim.models.doc2vec.Doc2Vec(samplef['tagged'], size = 100, seed=10, workers=16) #Limiting to 100 dimensions"
   ]
  },
  {
   "cell_type": "code",
   "execution_count": 189,
   "metadata": {},
   "outputs": [
    {
     "data": {
      "text/plain": [
       "array([ 0.1390343 , -0.04184093,  0.20951532,  0.08464912, -0.02633805,\n",
       "       -0.3240081 , -0.08124724, -0.18342079,  0.18068203,  0.01235944,\n",
       "        0.21951292,  0.04588672,  0.4114881 , -0.38541275,  0.4054298 ,\n",
       "       -0.1226418 , -0.00150532,  0.0074193 ,  0.12879644,  0.29127347,\n",
       "       -0.09779221, -0.1276845 ,  0.15429698,  0.3276099 ,  0.07633323,\n",
       "       -0.11210741,  0.08943482, -0.15572542, -0.14702825,  0.05651556,\n",
       "        0.15699483, -0.20961007,  0.02354704,  0.24540584, -0.19799396,\n",
       "        0.10389581,  0.12611862,  0.13575055,  0.2294488 ,  0.07824612,\n",
       "       -0.15885654,  0.07462155,  0.13403511,  0.24623802, -0.21551512,\n",
       "        0.10353684,  0.11034467,  0.04615293, -0.09779307,  0.04260863,\n",
       "        0.13664238,  0.13452247,  0.05553785, -0.3185732 ,  0.0717543 ,\n",
       "        0.23060913, -0.42409918, -0.13239972, -0.17354128,  0.00685339,\n",
       "        0.11220478, -0.07598538,  0.00786897, -0.09047474, -0.10854724,\n",
       "       -0.08250108,  0.160467  ,  0.25674373, -0.05683688, -0.10003345,\n",
       "       -0.22615393, -0.02822406, -0.37544465,  0.4692972 ,  0.2393731 ,\n",
       "        0.2145525 , -0.3706288 , -0.01881174, -0.09844526,  0.19066599,\n",
       "        0.14295834, -0.13361655,  0.15529996, -0.39445212, -0.1168506 ,\n",
       "       -0.3661307 ,  0.1477467 , -0.21677057,  0.13408935,  0.06993748,\n",
       "       -0.07981411, -0.14941616, -0.464906  ,  0.37460563, -0.15821207,\n",
       "        0.16121691,  0.03249271,  0.042336  , -0.12501068, -0.07772198],\n",
       "      dtype=float32)"
      ]
     },
     "execution_count": 189,
     "metadata": {},
     "output_type": "execute_result"
    }
   ],
   "source": [
    "rmD2V.docvecs[19]"
   ]
  },
  {
   "cell_type": "code",
   "execution_count": 190,
   "metadata": {},
   "outputs": [
    {
     "data": {
      "text/plain": [
       "array([-0.2886183 ,  0.82047886,  1.5868014 ,  0.9601841 ,  0.68216187,\n",
       "        1.3617811 ,  3.1735983 , -0.8263085 ,  0.27197364,  1.0266342 ,\n",
       "       -0.3462706 , -0.9655181 , -2.8298173 ,  0.90870476,  0.99788415,\n",
       "       -1.1183252 ,  1.8899156 ,  0.92084295,  0.9723655 , -2.9304955 ,\n",
       "        1.7666119 ,  0.47797465, -0.6381282 ,  0.7529383 , -1.295348  ,\n",
       "       -4.1088753 ,  0.61286974,  0.7788254 , -1.8349595 , -0.6028864 ,\n",
       "        0.07394097,  0.94317484, -0.5407687 ,  0.16959631, -1.5808766 ,\n",
       "        1.1400219 , -0.0648832 , -2.1679869 , -0.3616697 , -0.7454695 ,\n",
       "        0.4145047 , -0.14465374,  0.9014171 ,  3.1625247 , -3.0370965 ,\n",
       "       -0.5514436 , -0.51505303,  1.9184579 , -3.2404754 , -2.29703   ,\n",
       "       -0.04783804,  0.35031527,  2.8489053 ,  1.7328421 , -1.284171  ,\n",
       "        0.9532832 , -1.3551726 , -0.09934222,  0.07061705,  1.6481503 ,\n",
       "        0.4637063 ,  2.4076352 , -0.6880851 , -0.9293533 , -3.218049  ,\n",
       "        2.6491942 ,  1.3527428 ,  2.0499802 ,  1.4535805 ,  3.0713751 ,\n",
       "        0.86458385,  3.868709  , -0.97151303, -1.8298289 ,  0.54164463,\n",
       "        1.0137929 , -0.06796459,  2.8790724 , -0.02897634, -0.47924468,\n",
       "        0.8888618 ,  2.0508103 , -1.9344275 ,  1.4824688 ,  0.85892886,\n",
       "        0.14675744, -1.7848411 ,  0.6861489 , -0.82716364, -3.5013833 ,\n",
       "        0.8895526 , -1.2280072 , -0.48332587, -0.6315287 , -0.46204942,\n",
       "        1.1616387 ,  0.7155405 , -0.26607677,  0.27696058,  1.115974  ],\n",
       "      dtype=float32)"
      ]
     },
     "execution_count": 190,
     "metadata": {},
     "output_type": "execute_result"
    }
   ],
   "source": [
    "rmD2V['经济']"
   ]
  },
  {
   "cell_type": "code",
   "execution_count": 191,
   "metadata": {},
   "outputs": [],
   "source": [
    "rmD2V.save('rmD2V')"
   ]
  },
  {
   "cell_type": "code",
   "execution_count": 192,
   "metadata": {},
   "outputs": [
    {
     "data": {
      "text/plain": [
       "[('1995-11-20在亚太经合组织领导人非正式会议上江泽民主席发表讲话', 0.42300668358802795),\n",
       " ('1973-05-16发展农业的根本问题在路线', 0.4209457337856293),\n",
       " ('1985-01-16赵紫阳视察上海时发表重要意见 从最大经济中心出发改造振兴上海', 0.41295674443244934),\n",
       " ('1974-03-30在尼雷尔总统举行的宴会上 尼雷尔总统的讲话', 0.40929681062698364),\n",
       " ('1985-03-01在全国农村工作会议上的讲话（摘要） （一九八四年十二月十四日）', 0.406877726316452),\n",
       " ('1975-11-08陈永贵副总理会见菲律宾农村发展代表团', 0.40426450967788696),\n",
       " ('1982-03-30关于当前经济工作的几个问题——一九八二年三月四日在全国工业交通工作会议上的讲话', 0.4002656042575836),\n",
       " ('2001-08-27本期关注：开发区未来走向百分之二以后的思考——国家级开发区寻求新定位', 0.39579886198043823),\n",
       " ('1993-04-29国际竞争力排名已定 我国居转轨大国之首', 0.3946337401866913),\n",
       " ('2000-10-28中芬专家在京进行信息社会专题研讨交流', 0.3917716145515442)]"
      ]
     },
     "execution_count": 192,
     "metadata": {},
     "output_type": "execute_result"
    }
   ],
   "source": [
    "rmD2V.docvecs.most_similar([rmD2V['经济']], topn=10)"
   ]
  },
  {
   "cell_type": "markdown",
   "metadata": {},
   "source": [
    "## filter corpus by topics"
   ]
  },
  {
   "cell_type": "code",
   "execution_count": 193,
   "metadata": {},
   "outputs": [],
   "source": [
    "# retrieve the most similar words around \"经济\"（economy) and \"政治\"（politics）from W2V\n",
    "\n",
    "econ_key = [\"国民经济\", \"经济社会\", \"城乡经济\", \"工业生产\", \"商品流通\", \"对外贸易\", \n",
    "            \"工业\", \"宏观经济\", \"产业\", \"商品生产\", \"商品经济\", \"政治经济\", \"物资流通\",\n",
    "            \"生产力\", \"出口贸易\", \"经贸\", \"企业\", \"沿海经济\", \"集体经济\", \"生产\", \n",
    "            \"旅游业\", \"加工工业\", \"国际贸易\"]\n",
    "\n",
    "poli_key = [\"政治素质\", \"党的建设\", \"崇美\", \"党建\", \"道德修养\", \"作风纪律\", \n",
    "            \"社会主义\", \"政治路线\", \"党的领导\", \"政治宣传\", \"政治性\", \"专政\", \n",
    "            \"军事\", \"社会\", \"道德\", \"阶级斗争\", \"革命性\", \"理论\", \"资产阶级\",\n",
    "            \"民主\", \"意识形态\", \"政治工作者\"]"
   ]
  },
  {
   "cell_type": "code",
   "execution_count": 194,
   "metadata": {
    "scrolled": false
   },
   "outputs": [
    {
     "name": "stdout",
     "output_type": "stream",
     "text": [
      "国民经济 \n",
      " ('1979-03-16按比例才有真正的高速度', 0.5540570616722107) \n",
      " ('2002-07-04“气”贯神州八千里——西气东输工程展望', 0.23510125279426575) \n",
      "\n",
      "\n",
      "经济社会 \n",
      " ('1993-07-01文化战略委员会在京成立', 0.46132028102874756) \n",
      " ('1987-12-23引外地智力 解本市难题 佛山又开技术招标会', 0.22220861911773682) \n",
      "\n",
      "\n",
      "城乡经济 \n",
      " ('1987-12-21扩大横向联合 完善市场体系 强化中心城市作用 淄博市以改革总揽城市经济全局', 0.5503528118133545) \n",
      " ('1984-06-25我将建三个敦煌吐鲁番研究资料中心', 0.25652050971984863) \n",
      "\n",
      "\n",
      "工业生产 \n",
      " ('1979-12-03轻工业要有个较大幅度的增长', 0.4887544512748718) \n",
      " ('1979-06-14发展商业和服务业', 0.2321767508983612) \n",
      "\n",
      "\n",
      "商品流通 \n",
      " ('1980-09-20现行的商业体制一定要改革', 0.6307114362716675) \n",
      " ('1975-07-09照毛主席的思想办农业', 0.28484907746315) \n",
      "\n",
      "\n",
      "对外贸易 \n",
      " ('1993-12-30岁末话逆差——访外经贸部部长吴仪', 0.5747067928314209) \n",
      " ('1991-09-19意大利总理访问上海杭州', 0.2860095500946045) \n",
      "\n",
      "\n",
      "工业 \n",
      " ('1977-12-08充分利用和积极发展上海工业 为实现四个现代化作出更大贡献', 0.4920507073402405) \n",
      " ('1995-10-20积极推进经济增长方式的转变——论“第二条方针”', 0.20617598295211792) \n",
      "\n",
      "\n",
      "宏观经济 \n",
      " ('1985-09-26关于制定“七五”计划建议的说明——一九八五年九月十八日在党的全国代表会议上', 0.5730364322662354) \n",
      " ('1993-07-06江泽民同各省区市党委政研室主任座谈指出没有调查就没有决策权深入基层听取群众呼声，了解群众在想什么，盼什么，欢迎什么，反对什么，这样在工作指导上才有可能真正做到急群众所急，想群众所想，真正切合实际', 0.29616034030914307) \n",
      "\n",
      "\n",
      "产业 \n",
      " ('1988-02-05抓住机会走向世界——部分理论工作者谈沿海经济外向发展的新战略', 0.524695634841919) \n",
      " ('1987-07-17经济体制综合改革试点成效显著 九城市实行计划单列大步前进 四年来经济发展明显加快财力扩大中心城市作用增强', 0.24651426076889038) \n",
      "\n",
      "\n",
      "商品生产 \n",
      " ('1987-10-03已到急起直追时——广西发展农村商品经济评述', 0.5494067668914795) \n",
      " ('1982-11-07联系思想学文件 肃清“左”的影响 渭南地委扩大会开得生动活泼解决问题', 0.2563568651676178) \n",
      "\n",
      "\n",
      "商品经济 \n",
      " ('1984-01-05在新形势面前——全国农村工作会议侧记', 0.4957819879055023) \n",
      " ('1976-02-20坝上大有前途——张家口坝上地区以阶级斗争为纲，认真学大寨，夺取新胜利', 0.2178373634815216) \n",
      "\n",
      "\n",
      "政治经济 \n",
      " ('1984-10-28屈武会见挪威文化人士访华团', 0.5321184396743774) \n",
      " ('1984-08-14热烈欢迎赤道几内亚总统奥比昂 李主席主持隆重仪式并举行宴会', 0.24805448949337006) \n",
      "\n",
      "\n",
      "物资流通 \n",
      " ('1980-09-20现行的商业体制一定要改革', 0.6500455737113953) \n",
      " ('1984-12-05经贸部嘉奖一批先进单位和个人 李鹏薄一波出席会议并讲话', 0.3331603705883026) \n",
      "\n",
      "\n",
      "生产力 \n",
      " ('1986-01-19加强科技支援 发展乡镇经济——在全国地方科技工作经验交流会上的讲话（一九八六年一月十六日）', 0.5037593841552734) \n",
      " ('1991-10-10继承孙中山遗志 促进祖国统一——纪念辛亥革命八十周年', 0.22991423308849335) \n",
      "\n",
      "\n",
      "出口贸易 \n",
      " ('1982-12-31从全局看对外经济贸易', 0.6368481516838074) \n",
      " ('1965-10-13美元——纸老虎的象征', 0.323339581489563) \n",
      "\n",
      "\n",
      "经贸 \n",
      " ('1995-02-27港府布政署一项统计显示香港与内地官员之间事务性接触增多', 0.5027998685836792) \n",
      " ('1996-03-07政协８位副主席同委员一起讨论李鹏总理报告反映社情民意发挥积极作用', 0.24282227456569672) \n",
      "\n",
      "\n",
      "企业 \n",
      " ('1988-08-11把乡镇企业的经营机制引入全民所有制企业——关于进一步深入全民所有制企业经营机制改革的若干意见', 0.4339792728424072) \n",
      " ('1988-04-04机关干部去向选择发生变化 不恋仕途 热衷实业 电子部干部提出去新部工作的不到20％', 0.1935943067073822) \n",
      "\n",
      "\n",
      "沿海经济 \n",
      " ('1985-01-18中央对外开放决策符合实际大得人心 谷牧向六届人大常委会第九次会议报告经济特区建设和沿海十四个城市进一步开放工作情况', 0.626981794834137) \n",
      " ('1984-02-12四川省委提出整党中重点检查和解决的问题 围绕总目标总任务 明确治蜀思想方针', 0.2717752754688263) \n",
      "\n",
      "\n",
      "集体经济 \n",
      " ('1966-11-16依靠贫下中农就无往不胜', 0.6179919242858887) \n",
      " ('1973-11-20学习马列的课堂 路线教育的阵地——记北京郊区崔窑大队的政治夜校', 0.28683310747146606) \n",
      "\n",
      "\n",
      "生产 \n",
      " ('1987-03-14安全型花炮问世', 0.41922903060913086) \n",
      " ('2000-08-31清除“卖难买难”瓶颈——开拓农村市场促进消费增长（中）', 0.1901366412639618) \n",
      "\n",
      "\n",
      "旅游业 \n",
      " ('1991-02-24我国旅游业重新崛起 吴学谦要求各地将旅游业纳入发展计划', 0.5982615351676941) \n",
      " ('1999-10-28强管理重保护美环境保安全 武夷山让游客高兴而来尽兴而归', 0.24105140566825867) \n",
      "\n",
      "\n",
      "加工工业 \n",
      " ('1976-01-25辽宁轻工业正在蓬勃发展', 0.6881794929504395) \n",
      " ('1966-03-02新产品推广中的一个障碍', 0.33828699588775635) \n",
      "\n",
      "\n",
      "国际贸易 \n",
      " ('1997-04-24中国，离世贸组织还有多远？', 0.5706642866134644) \n",
      " ('1977-12-25北欧国家的义愤', 0.30818769335746765) \n",
      "\n",
      "\n",
      "政治素质 \n",
      " ('1986-02-20职工教育要更有效地为经济建设服务', 0.5282020568847656) \n",
      " ('1992-10-19坚持伟大理论 夺取更大胜利——热烈祝贺党的十四大胜利闭幕', 0.2615815997123718) \n",
      "\n",
      "\n",
      "党的建设 \n",
      " ('1988-03-31在改革开放的新形势下加强和改进机关党的建设', 0.592348575592041) \n",
      " ('1991-01-16在记协第四届理事会上的讲话', 0.28152400255203247) \n",
      "\n",
      "\n",
      "崇美 \n",
      " ('1971-03-31毛主席语录', 0.4720110595226288) \n",
      " ('1987-02-16总后大砍文山会海 今年原定召开的104个会议压缩为20个', 0.08875086903572083) \n",
      "\n",
      "\n",
      "党建 \n",
      " ('2002-06-19强化“核心” 推动“中心”——浙江省加强改善党的领导推动经济社会发展的调查', 0.6191741228103638) \n",
      " ('1966-02-23日共出版宫本显治文集', 0.2634298801422119) \n",
      "\n",
      "\n",
      "道德修养 \n",
      " ('1987-01-24增强献身国防的事业心和责任感 某集团军系统进行军人道德教育', 0.6239306926727295) \n",
      " ('1977-09-14他们为培养一代新人在辛勤劳动——访天津市东方红中学', 0.32803118228912354) \n",
      "\n",
      "\n",
      "作风纪律 \n",
      " ('1990-12-27干部关心爱护战士 战士尊重支持干部 全军开展尊干爱兵活动效果显著', 0.5545817613601685) \n",
      " ('1988-08-02坦克战术模拟提高训练水平', 0.28343260288238525) \n",
      "\n",
      "\n",
      "社会主义 \n",
      " ('1992-12-03颂党的十四大兼颂宪法颁布十周年', 0.5099499225616455) \n",
      " ('1988-02-17瓦尔德海姆再次表示将留任', 0.23418492078781128) \n",
      "\n",
      "\n",
      "政治路线 \n",
      " ('1983-10-13中共中央关于整党的决定', 0.43066835403442383) \n",
      " ('2001-04-27最高人民检察院强化检察队伍建设 全国检察人员将实行基本素质考试', 0.18151558935642242) \n",
      "\n",
      "\n",
      "党的领导 \n",
      " ('1980-09-15在第五届全国人民代表大会第三次会议上的讲话（一九八○年九月七日）', 0.5170149207115173) \n",
      " ('1981-07-24正确实行党的民主集中制（之一） 关于党的最高权力机关', 0.24400360882282257) \n",
      "\n",
      "\n",
      "政治宣传 \n",
      " ('1985-10-17邮电部成立邮票图稿评审委员会', 0.5317463874816895) \n",
      " ('1972-10-09南京部队某部举办政工干部教导队 认真学习我军政治工作经验', 0.2837134897708893) \n",
      "\n",
      "\n",
      "政治性 \n",
      " ('1974-01-14应当重视这场讨论', 0.5207574963569641) \n",
      " ('1997-11-16国典', 0.27775588631629944) \n",
      "\n",
      "\n",
      "专政 \n",
      " ('1970-04-22斯大林：《论列宁主义基础》', 0.4791046679019928) \n",
      " ('1995-04-22经中央军委主席江泽民批准《军队基层建设纲要》颁发执行', 0.21966779232025146) \n",
      "\n",
      "\n",
      "军事 \n",
      " ('1993-08-03我军参谋工作的卓越领导者——沉痛悼念李达同志', 0.539108395576477) \n",
      " ('2001-04-14日本民间团体举行记者招待会 谴责右翼教科书将日引向孤立', 0.24205204844474792) \n",
      "\n",
      "\n",
      "社会 \n",
      " ('1983-09-14奋发自强开创妇女运动新局面——在中国妇女第五次全国代表大会上的工作报告 一九八三年九月二日', 0.472024142742157) \n",
      " ('1997-11-19五十六个民族心连心的窗口《民族团结》喜迎创刊四十周年', 0.17287050187587738) \n",
      "\n",
      "\n",
      "道德 \n",
      " ('1981-02-28大兴文明礼貌之风', 0.6698431968688965) \n",
      " ('1992-12-30画家李俊琪获殊荣', 0.2580414116382599) \n",
      "\n",
      "\n",
      "阶级斗争 \n",
      " ('1978-02-04毛主席关于抓纲的思想不容篡改', 0.49342232942581177) \n",
      " ('1995-07-11以史为鉴固我长城——访国务委员兼国防部长迟浩田上将', 0.23071874678134918) \n",
      "\n",
      "\n",
      "革命性 \n",
      " ('1990-06-29为维护党的工人阶级先锋队性质而斗争', 0.47537076473236084) \n",
      " ('1983-12-24余秋里在总政党委扩大会议上要求各级领导既要态度坚定又要头脑清醒 严格掌握政策界限 正确进行清除精神污染工作', 0.26027166843414307) \n",
      "\n",
      "\n",
      "理论 \n",
      " ('1994-12-24在学习邓选和建设有中国特色社会主义理论研讨会上的总结讲话（一九九四年十二月十七日）', 0.5914914608001709) \n",
      " ('2000-07-02抢占时代制高点', 0.25130364298820496) \n",
      "\n",
      "\n",
      "资产阶级 \n",
      " ('1990-02-22关于反对资产阶级自由化', 0.5406948924064636) \n",
      " ('1977-04-12共产党员要提高遵守党的纪律的自觉性', 0.23225952684879303) \n",
      "\n",
      "\n",
      "民主 \n",
      " ('1987-12-18发扬社会主义民主的新形式——论社会协商对话制度', 0.5220822095870972) \n",
      " ('1980-11-25解放思想 发挥优势 办好广东特区 广东省委召开地市委书记会议，传达中央领导同志的意见，任仲夷同志强调加强团结，放开手脚把经济搞活', 0.22352828085422516) \n",
      "\n",
      "\n",
      "意识形态 \n",
      " ('1973-08-06重视上层建筑领域的革命', 0.4753499925136566) \n",
      " ('1990-11-17袁木接受苏联记者采访谈我国十年改革开放 既坚持改革开放又坚持社会主义方向', 0.20649868249893188) \n",
      "\n",
      "\n",
      "政治工作者 \n",
      " ('1998-11-29刘少奇经济思想研讨会在津召开', 0.49931812286376953) \n",
      " ('1982-09-15四川省委认真学习讨论十二大文件，一致认为 十二大为我们树立了三个榜样 理论与实际相结合的榜样；新老干部合作和交替的榜样；团结的榜样', 0.23950877785682678) \n",
      "\n",
      "\n"
     ]
    }
   ],
   "source": [
    "title_filter,title_econ,title_poli=set(),set(),set()\n",
    "\n",
    "simi_econ,simi_poli={},{}\n",
    "ntop=4000\n",
    "\n",
    "for word in econ_key:\n",
    "    title_econ = title_econ | set([x[0] for x in rmD2V.docvecs.most_similar([rmD2V[word]], topn=ntop)])\n",
    "    \n",
    "    print(word,'\\n',rmD2V.docvecs.most_similar([rmD2V[word]], topn=ntop)[0],'\\n',\n",
    "          rmD2V.docvecs.most_similar([rmD2V[word]], topn=ntop)[-1],'\\n\\n',)\n",
    "    \n",
    "    simi_econ[word]=[x[1] for x in rmD2V.docvecs.most_similar([rmD2V[word]], topn=ntop)]\n",
    "\n",
    "for word in poli_key:\n",
    "    title_poli = title_poli | set([x[0] for x in rmD2V.docvecs.most_similar([rmD2V[word]], topn=ntop)])\n",
    "    \n",
    "    print(word,'\\n',rmD2V.docvecs.most_similar([rmD2V[word]], topn=ntop)[0],'\\n',\n",
    "          rmD2V.docvecs.most_similar([rmD2V[word]], topn=ntop)[-1],'\\n\\n')\n",
    "    \n",
    "    simi_poli[word]=[x[1] for x in rmD2V.docvecs.most_similar([rmD2V[word]], topn=ntop)]\n",
    "\n",
    "\n",
    "title_filter=title_econ & title_poli"
   ]
  },
  {
   "cell_type": "code",
   "execution_count": 195,
   "metadata": {},
   "outputs": [
    {
     "name": "stdout",
     "output_type": "stream",
     "text": [
      "economic news#: 41176\n",
      "politic news#: 42253\n",
      "final filtered news#: 9691\n"
     ]
    }
   ],
   "source": [
    "print('economic news#: {}\\npolitic news#: {}\\nfinal filtered news#: {}'\n",
    "      .format(len(title_econ),len(title_poli),len(title_filter)))"
   ]
  },
  {
   "cell_type": "code",
   "execution_count": 196,
   "metadata": {},
   "outputs": [
    {
     "data": {
      "image/png": "[encoded data removed]",
      "text/plain": [
       "<Figure size 720x576 with 1 Axes>"
      ]
     },
     "metadata": {
      "needs_background": "light"
     },
     "output_type": "display_data"
    }
   ],
   "source": [
    "# graph the similarity score\n",
    "\n",
    "plt.figure(figsize=(10,8))\n",
    "ax=plt.gca()\n",
    "for value in simi_econ.values():\n",
    "    ax.plot(value)\n",
    "for value in simi_poli.values():\n",
    "    ax.plot(value)"
   ]
  },
  {
   "cell_type": "code",
   "execution_count": 198,
   "metadata": {
    "scrolled": false
   },
   "outputs": [
    {
     "name": "stdout",
     "output_type": "stream",
     "text": [
      "1984-10-27放权 联合 增强企业活力——常州市经济体制改革迈出新步伐\n",
      "1985-03-31人大代表、武汉市长吴官正认为 城市经济体制改革要说“北京话”\n",
      "1986-03-11首次全国城市经济体制改革工作会议部署今年任务 贯彻巩固消化补充改善方针推进城市改革 加强和改善宏观控制，发展横向经济联系，为明年改革迈出重要一步作好准备\n",
      "1987-12-19赵紫阳谈明年经济体制改革任务 重点是完善和发展企业经营机制，搞活企业，多出效益、商品、人才、经验。外贸将层层推行包干制\n",
      "1984-05-21《城市经济体制改革试点工作座谈会纪要》提出当前改革重点 简政放权搞活企业和流通 沙市常州重庆试点初获成效，有条件的省、区可选定中等城市试点\n",
      "1993-12-05江泽民在全国经济工作会议闭幕时发表重要讲话强调抓住机遇加快改革开放和现代化建设步伐本世纪末初步建立社会主义市场经济体制李鹏主持会议 乔石朱镕基刘华清胡锦涛等出席\n",
      "1993-01-29加快教育改革适应社会主义市场经济体制中国人民大学大幅调整学科\n",
      "1993-11-17中共中央关于建立社会主义市场经济体制若干问题的决定（中国共产党第十四届中央委员会第三次全体会议１９９３年１１月１４日通过）\n",
      "1999-05-31江泽民在武汉主持召开六省区国有企业改革和发展座谈会强调 朝着建立社会主义市场经济体制的目标 在深化改革中探索国有企业发展新路子\n",
      "1984-10-21中共中央关于经济体制改革的决定 （中国共产党第十二届中央委员会第三次全体会议一九八四年十月二十日通过）\n",
      "1984-11-16全国人大常委会委员连日举行学习、讨论、研究座谈会 领会经济体制改革决定的基本精神\n",
      "1984-12-15关于在经济体制改革中充分发挥共青团作用的决定 （中国共产主义青年团第十一届中央委员会第三次全体会议一九八四年十二月十四日通过）\n",
      "1982-05-07经济体制改革的重要尝试\n",
      "1986-03-17赵紫阳听取全国城市经济体制改革工作会议情况汇报后强调 发展横向经济联合可以出效益促改革\n",
      "1998-12-01划时代的体制创新——建立社会主义市场经济体制\n",
      "1989-02-05贺光辉谈经济体制改革的形势和任务 整顿治理不意味着改革“停滞”“倒退”\n",
      "1992-06-24国家体改委主任陈锦华在全国政协常委会上提出企业改革是整个经济体制改革中心环节\n",
      "1993-01-12李鹏在全国经济体改工作会上强调围绕建立社会主义市场经济体制着重从体制机制上加大改革力度\n",
      "1986-02-19密切配合经济体制改革的新形势 统计工作发挥服务和监督作用\n",
      "1997-08-25新时期的伟大历史任务——党的十四大以来我国经济体制改革取得实质性进展\n",
      "1992-09-18我国经济体制改革的攻坚之战——国家体改委主任陈锦华谈转换企业经营机制\n",
      "1993-11-10世纪之交的历史重任——上海建立社会主义市场经济体制的探索之一\n",
      "1986-06-23企业破产倒闭理论与实践讨论会认为 实行企业破产倒闭制度对经济体制改革大胆探索\n",
      "1992-10-17社会主义市场经济体制——中国经济体制改革目标的新选择\n",
      "1993-12-02李鹏总理在经济工作会议上阐述明年工作中心任务加快建立社会主义市场经济体制改革 保持我国国民经济持续快速健康发展要始终坚持两手抓、两手都要硬的方针，统筹安排好各方面的工作\n",
      "1984-12-28全总十届二次执委会决议要求认真贯彻党的十二届三中全会精神 充分发挥工会组织在经济体制改革中作用\n",
      "1987-09-24李铁映谈我国经济体制改革形势和任务 八年一系列改革取得巨大成就 明年要有重点有步骤深化改革\n",
      "1986-04-02陈丕显在介绍“七五”计划编制经过时说 以深入进行全面经济体制改革来推动国民经济和社会的发展\n",
      "1988-10-09刘国光在全国经济体制改革理论研讨会上说 我国经济理论取得一系列突破\n",
      "1987-10-30努力实现经济发展战略深化经济体制改革——党的十三大代表小组发言选编（二）\n",
      "1984-11-01青年要做经济体制改革的先锋\n",
      "1992-10-13我国经济体制改革目标——建立社会主义市场经济体制\n",
      "1988-10-10全国经济体制改革理论研讨会结束 会议提出需要深入研究的一些重大新课题\n",
      "1981-03-01姚依林指出实践证明三中全会以来经济改革方向正确效果好 要继续进行有利于调整的经济体制改革\n",
      "1985-04-12当前的经济形势和经济体制改革——一九八五年三月二十七日在第六届全国人民代表大会第三次会议上的政府工作报告\n",
      "1992-10-16明确经济体制改革目标进一步解放发展生产力——十四大代表谈建立社会主义市场经济体制\n",
      "1985-10-15南京市把改革经济体制和改进工作方法结合起来 实行目标管理 促进各业协调发展\n",
      "1984-11-16两个研究会在巢湖举行经济体制改革理论讨论会\n",
      "1985-03-30人大代表联系实际分组审议政府工作报告 经济持续稳定协调发展具有战略意义 经济体制改革展现发展前景鼓舞人心\n",
      "1992-11-07贯彻十四大精神促进社会主义市场经济体制建立加快第三产业发展会议开幕李鹏主持会议并讲话邹家华作报告\n",
      "1993-08-30经济体制与管理研究所面向全国公开招考所长\n",
      "1990-10-15国家体改委主任陈锦华答记者问 经济体制改革将向深层次推进 当前工作核心是研究建立计划经济与市场调节相结合的经济运行机制\n",
      "1987-08-17中国社会调查系统两次民意调查结果表明 群众拥护对政治体制进行改革 充分肯定经济体制改革八年多带来巨大变化\n",
      "1985-02-08探索符合实际的经济体制改革道 路宁夏组织各级领导干部深入基层调查\n",
      "2002-06-30李鹏主持全国人大常委会法制讲座时指出 制定反垄断法建立完善市场经济体制\n",
      "1993-12-23迈向新世纪的宏伟纲领——《中共中央关于建立社会主义市场经济体制若干问题的决定》诞生记\n",
      "1994-11-18周南就保持香港经济体制发表长篇演讲改变现行体制将带来严重影响\n",
      "1984-12-24加强地方政权建设 保障经济体制改革进行——地方政权建设理论讨论会综述\n",
      "1994-07-16建立社会主义市场经济体制的重要法律——有关部门领导及部分专家学者畅谈贯彻实施《公司法》（上）\n",
      "1986-01-12关于当前经济形势和经济体制改革的问题——在中央机关干部大会上的讲话（一九八六年一月六日）\n",
      "1987-06-10赵紫阳在柏林接受记者采访时说 党的十三大中心是改革问题 继续深化经济体制改革 着手进行政治体制改革\n",
      "1994-01-14《公司法》对建立市场经济体制有哪些作用国家经贸委副主任陈清泰答记者问\n",
      "1985-04-06国务院办公厅转发《全国城市经济体制改革试点工作座谈会纪要》 精心指导力争58个试点城市改革有新突破\n",
      "1992-10-24中国社科院研究生院师生座谈学习十四大文件建立社会主义市场经济体制是经济实践与理论重大突破\n",
      "1988-11-29全国计划会议和经济体制改革工作会议开幕 进一步落实十三届三中全会精神 制止经济过热需求过旺推进改革 李鹏主持会议并讲话 姚依林作报告\n",
      "1985-04-29赵紫阳在武汉考察改革情况阐述城市经济体制改革问题 充分发挥城市功能推进经济生活全面改革\n"
     ]
    }
   ],
   "source": [
    "# sample check\n",
    "\n",
    "for title in title_filter:\n",
    "    if \"经济体制\" in title:\n",
    "        print (title)"
   ]
  },
  {
   "cell_type": "code",
   "execution_count": 200,
   "metadata": {},
   "outputs": [
    {
     "name": "stdout",
     "output_type": "stream",
     "text": [
      "CPU times: user 4min 39s, sys: 6.82 s, total: 4min 46s\n",
      "Wall time: 4min 54s\n"
     ]
    }
   ],
   "source": [
    "%%time\n",
    "\n",
    "# get corpus final\n",
    "\n",
    "corpus_final=sample_all2[:0]\n",
    "\n",
    "for title in title_filter:\n",
    "    corpus_final=corpus_final.append(sample_all2[sample_all2['date_title']==title])"
   ]
  },
  {
   "cell_type": "code",
   "execution_count": 204,
   "metadata": {},
   "outputs": [
    {
     "data": {
      "text/plain": [
       "True"
      ]
     },
     "execution_count": 204,
     "metadata": {},
     "output_type": "execute_result"
    }
   ],
   "source": [
    "len(corpus_final)==len(title_filter)"
   ]
  },
  {
   "cell_type": "code",
   "execution_count": 203,
   "metadata": {},
   "outputs": [
    {
     "data": {
      "text/plain": [
       "1989-03-01著名国际问题专家宦乡逝世                                         1\n",
       "1987-12-31我国民兵在调整改革中发展                                         1\n",
       "1987-10-17改革应怎样深化？ 本报邀请部分省市的同志座谈纪要（下）                          1\n",
       "1984-03-17加强责任制 扩大自主权——交大管理改革见闻之六                              1\n",
       "1998-04-13建设一支高素质的干部队伍——学习江泽民同志关于干部队伍建设的论述                     1\n",
       "                                                              ..\n",
       "1981-09-17杭州职业中学的“危机”                                          1\n",
       "1983-04-15新机构要有新气象                                             1\n",
       "1979-12-22围绕解决经济问题深入讨论真理标准 甘肃省开展真理标准讨论补课，端正思想路线，落实经济政策，初见成效    1\n",
       "1999-05-19朱镕基在全国粮食流通体制改革工作会议上强调 继续深化粮食流通体制改革 着力促进粮食种植结构调整      1\n",
       "1985-11-24跳出就财政论财政的圈子                                          1\n",
       "Name: date_title, Length: 9691, dtype: int64"
      ]
     },
     "execution_count": 203,
     "metadata": {},
     "output_type": "execute_result"
    }
   ],
   "source": [
    "corpus_final['date_title'].value_counts()"
   ]
  },
  {
   "cell_type": "code",
   "execution_count": 208,
   "metadata": {},
   "outputs": [],
   "source": [
    "corpus_final_sort=corpus_final.sort_values(['date','issue'])"
   ]
  },
  {
   "cell_type": "code",
   "execution_count": 209,
   "metadata": {},
   "outputs": [
    {
     "data": {
      "text/html": [
       "<div>\n",
       "<style scoped>\n",
       "    .dataframe tbody tr th:only-of-type {\n",
       "        vertical-align: middle;\n",
       "    }\n",
       "\n",
       "    .dataframe tbody tr th {\n",
       "        vertical-align: top;\n",
       "    }\n",
       "\n",
       "    .dataframe thead th {\n",
       "        text-align: right;\n",
       "    }\n",
       "</style>\n",
       "<table border=\"1\" class=\"dataframe\">\n",
       "  <thead>\n",
       "    <tr style=\"text-align: right;\">\n",
       "      <th></th>\n",
       "      <th>year</th>\n",
       "      <th>month</th>\n",
       "      <th>date</th>\n",
       "      <th>issue</th>\n",
       "      <th>column</th>\n",
       "      <th>date_title</th>\n",
       "      <th>title</th>\n",
       "      <th>author</th>\n",
       "      <th>text</th>\n",
       "      <th>tokenized_sent</th>\n",
       "      <th>token_para</th>\n",
       "    </tr>\n",
       "  </thead>\n",
       "  <tbody>\n",
       "    <tr>\n",
       "      <th>64375</th>\n",
       "      <td>1965</td>\n",
       "      <td>1</td>\n",
       "      <td>1965-01-03</td>\n",
       "      <td>2</td>\n",
       "      <td>NaN</td>\n",
       "      <td>1965-01-03坚决破除迷信 改进原有设计</td>\n",
       "      <td>坚决破除迷信 改进原有设计</td>\n",
       "      <td>NaN</td>\n",
       "      <td>坚决破除迷信　改进原有设计洛阳轴承厂在严格的科学精神指导下，开展群众性的技术革新活动，轴承品...</td>\n",
       "      <td>[[坚决, 破除迷信, 改进, 原有, 设计], [洛阳, 轴承厂, 严格, 科学, 精神,...</td>\n",
       "      <td>[坚决 破除迷信 改进 原有 设计, 洛阳 轴承厂 严格 科学 精神 指导 开展 群众性 技...</td>\n",
       "    </tr>\n",
       "    <tr>\n",
       "      <th>64388</th>\n",
       "      <td>1965</td>\n",
       "      <td>1</td>\n",
       "      <td>1965-01-03</td>\n",
       "      <td>3</td>\n",
       "      <td>NaN</td>\n",
       "      <td>1965-01-03用新的斗争和新的成就迎接新的一年</td>\n",
       "      <td>用新的斗争和新的成就迎接新的一年</td>\n",
       "      <td>NaN</td>\n",
       "      <td>用新的斗争和新的成就迎接新的一年金日成首相号召朝鲜人民努力完成七年计划和加强反修斗争艾地主席...</td>\n",
       "      <td>[[斗争, 成就, 迎接, 一年, 金日成, 首相, 号召, 朝鲜, 人民, 努力完成, 七...</td>\n",
       "      <td>[斗争 成就 迎接 一年 金日成 首相 号召 朝鲜 人民 努力完成 七年 计划 加强 反修 ...</td>\n",
       "    </tr>\n",
       "    <tr>\n",
       "      <th>64446</th>\n",
       "      <td>1965</td>\n",
       "      <td>1</td>\n",
       "      <td>1965-01-05</td>\n",
       "      <td>2</td>\n",
       "      <td>社论</td>\n",
       "      <td>1965-01-05革命的大会 民主的大会 团结的大会——庆祝第三届全国人民代表大会第一次会...</td>\n",
       "      <td>革命的大会 民主的大会 团结的大会——庆祝第三届全国人民代表大会第一次会议的伟大成就</td>\n",
       "      <td>NaN</td>\n",
       "      <td>革命的大会　民主的大会　团结的大会第三届全国人民代表大会第一次会议胜利闭幕了。会议听取了周恩...</td>\n",
       "      <td>[[革命, 大会, 民主, 大会, 团结, 大会], [第三届, 全国人民代表大会, 第一次...</td>\n",
       "      <td>[革命 大会 民主 大会 团结 大会, 第三届 全国人民代表大会 第一次 会议 胜利 闭幕,...</td>\n",
       "    </tr>\n",
       "    <tr>\n",
       "      <th>64573</th>\n",
       "      <td>1965</td>\n",
       "      <td>1</td>\n",
       "      <td>1965-01-08</td>\n",
       "      <td>4</td>\n",
       "      <td>NaN</td>\n",
       "      <td>1965-01-08美帝陷入各国人民四面八方包围之中 约翰逊反革命两手挽救不了失败命运</td>\n",
       "      <td>美帝陷入各国人民四面八方包围之中 约翰逊反革命两手挽救不了失败命运</td>\n",
       "      <td>NaN</td>\n",
       "      <td>朝越坦等国舆论抨击约翰逊国情咨文以和平词藻掩饰侵略野心美帝陷入各国人民四面八方包围之中  约...</td>\n",
       "      <td>[[朝越, 坦等国, 舆论, 抨击, 约翰逊, 国情咨文, 和平, 词藻, 掩饰, 侵略, ...</td>\n",
       "      <td>[朝越 坦等国 舆论 抨击 约翰逊 国情咨文 和平 词藻 掩饰 侵略 野心, 美帝 陷入 各...</td>\n",
       "    </tr>\n",
       "    <tr>\n",
       "      <th>64584</th>\n",
       "      <td>1965</td>\n",
       "      <td>1</td>\n",
       "      <td>1965-01-09</td>\n",
       "      <td>2</td>\n",
       "      <td>短评</td>\n",
       "      <td>1965-01-09创造力的解放</td>\n",
       "      <td>创造力的解放</td>\n",
       "      <td>NaN</td>\n",
       "      <td>卢王庄公社第一年种水稻，就得到了好收成。这件事情又一次雄辩地说明：社会主义革命是社会主义生产...</td>\n",
       "      <td>[[卢王庄, 公社, 第一年, 水稻, 得到, 好收成], [这件, 事情, 一次, 雄辩,...</td>\n",
       "      <td>[卢王庄 公社 第一年 水稻 得到 好收成, 这件 事情 一次 雄辩 说明 社会主义 革命 ...</td>\n",
       "    </tr>\n",
       "    <tr>\n",
       "      <th>...</th>\n",
       "      <td>...</td>\n",
       "      <td>...</td>\n",
       "      <td>...</td>\n",
       "      <td>...</td>\n",
       "      <td>...</td>\n",
       "      <td>...</td>\n",
       "      <td>...</td>\n",
       "      <td>...</td>\n",
       "      <td>...</td>\n",
       "      <td>...</td>\n",
       "      <td>...</td>\n",
       "    </tr>\n",
       "    <tr>\n",
       "      <th>560917</th>\n",
       "      <td>2002</td>\n",
       "      <td>12</td>\n",
       "      <td>2002-12-18</td>\n",
       "      <td>1_要闻</td>\n",
       "      <td>NaN</td>\n",
       "      <td>2002-12-18李鹏在福建考察时指出人大要为发展民主政治建设政治文明作贡献</td>\n",
       "      <td>李鹏在福建考察时指出人大要为发展民主政治建设政治文明作贡献</td>\n",
       "      <td>傅旭蔡小伟</td>\n",
       "      <td>本报福州12月17日电记者傅旭、蔡小伟报道：全国人大常委会委员长李鹏近日在福建就全国人大常委...</td>\n",
       "      <td>[[本报, 福州, 12, 17, 日电, 记者, 傅旭, 蔡小伟, 报道, 全国人大常委会...</td>\n",
       "      <td>[本报 福州 12 17 日电 记者 傅旭 蔡小伟 报道 全国人大常委会 委员长 李鹏 近日...</td>\n",
       "    </tr>\n",
       "    <tr>\n",
       "      <th>560968</th>\n",
       "      <td>2002</td>\n",
       "      <td>12</td>\n",
       "      <td>2002-12-19</td>\n",
       "      <td>2_要闻</td>\n",
       "      <td>NaN</td>\n",
       "      <td>2002-12-19社区深处党旗红——福州市鼓楼区社区党建工作调查</td>\n",
       "      <td>社区深处党旗红——福州市鼓楼区社区党建工作调查</td>\n",
       "      <td>蔡小伟赵鹏</td>\n",
       "      <td>今年50多岁的老党员刘用镇，4年前从外地搬到福州市鼓楼区福屿社区开了一家饮食店。生意红火，收...</td>\n",
       "      <td>[[今年, 50, 多岁, 党员, 刘用, 年前, 外地, 福州市, 鼓楼区, 福屿, 社区...</td>\n",
       "      <td>[今年 50 多岁 党员 刘用 年前 外地 福州市 鼓楼区 福屿 社区 一家 饮食店, 生意...</td>\n",
       "    </tr>\n",
       "    <tr>\n",
       "      <th>561196</th>\n",
       "      <td>2002</td>\n",
       "      <td>12</td>\n",
       "      <td>2002-12-24</td>\n",
       "      <td>1_要闻</td>\n",
       "      <td>NaN</td>\n",
       "      <td>2002-12-24人大常委会第三十一次会议举行 李鹏主持全体会议并参加分组审议</td>\n",
       "      <td>人大常委会第三十一次会议举行 李鹏主持全体会议并参加分组审议</td>\n",
       "      <td>傅旭石国胜</td>\n",
       "      <td>本报北京12月23日讯记者傅旭、石国胜报道：九届全国人大常委会第三十一次会议今天上午举行全体...</td>\n",
       "      <td>[[本报, 北京, 12, 23, 日讯, 记者, 傅旭, 石国胜, 报道, 九届全国人大常...</td>\n",
       "      <td>[本报 北京 12 23 日讯 记者 傅旭 石国胜 报道 九届全国人大常委会 第三十一次 会...</td>\n",
       "    </tr>\n",
       "    <tr>\n",
       "      <th>561277</th>\n",
       "      <td>2002</td>\n",
       "      <td>12</td>\n",
       "      <td>2002-12-26</td>\n",
       "      <td>1_要闻</td>\n",
       "      <td>NaN</td>\n",
       "      <td>2002-12-26外出闯世界找到致富路长春：劳务输出成为农民增收增长点</td>\n",
       "      <td>外出闯世界找到致富路长春：劳务输出成为农民增收增长点</td>\n",
       "      <td>李忠春江山</td>\n",
       "      <td>本报长春12月25日电记者李忠春、江山报道：吉林省长春市把农民增收作为农村工作的主要目标，引...</td>\n",
       "      <td>[[本报, 长春, 12, 25, 日电, 记者, 李忠春, 江山, 报道, 吉林省, 长春...</td>\n",
       "      <td>[本报 长春 12 25 日电 记者 李忠春 江山 报道 吉林省 长春市 农民 增收 作为 ...</td>\n",
       "    </tr>\n",
       "    <tr>\n",
       "      <th>561407</th>\n",
       "      <td>2002</td>\n",
       "      <td>12</td>\n",
       "      <td>2002-12-29</td>\n",
       "      <td>1_要闻</td>\n",
       "      <td>NaN</td>\n",
       "      <td>2002-12-29人大常委会第三十一次会议闭幕李鹏主持并讲话表决通过民办教育促进法等</td>\n",
       "      <td>人大常委会第三十一次会议闭幕李鹏主持并讲话表决通过民办教育促进法等</td>\n",
       "      <td>傅旭石国胜</td>\n",
       "      <td>本报北京十二月二十八日讯记者傅旭、石国胜报道：九届全国人大常委会第三十一次会议于今天上午闭幕...</td>\n",
       "      <td>[[本报, 北京, 十二月, 二十八日, 记者, 傅旭, 石国胜, 报道, 九届全国人大常委...</td>\n",
       "      <td>[本报 北京 十二月 二十八日 记者 傅旭 石国胜 报道 九届全国人大常委会 第三十一次 会...</td>\n",
       "    </tr>\n",
       "  </tbody>\n",
       "</table>\n",
       "<p>9691 rows × 11 columns</p>\n",
       "</div>"
      ],
      "text/plain": [
       "        year  month        date issue column                                         date_title                                       title author                                               text                                     tokenized_sent                                         token_para\n",
       "64375   1965      1  1965-01-03     2    NaN                            1965-01-03坚决破除迷信 改进原有设计                               坚决破除迷信 改进原有设计    NaN  坚决破除迷信　改进原有设计洛阳轴承厂在严格的科学精神指导下，开展群众性的技术革新活动，轴承品...  [[坚决, 破除迷信, 改进, 原有, 设计], [洛阳, 轴承厂, 严格, 科学, 精神,...  [坚决 破除迷信 改进 原有 设计, 洛阳 轴承厂 严格 科学 精神 指导 开展 群众性 技...\n",
       "64388   1965      1  1965-01-03     3    NaN                         1965-01-03用新的斗争和新的成就迎接新的一年                            用新的斗争和新的成就迎接新的一年    NaN  用新的斗争和新的成就迎接新的一年金日成首相号召朝鲜人民努力完成七年计划和加强反修斗争艾地主席...  [[斗争, 成就, 迎接, 一年, 金日成, 首相, 号召, 朝鲜, 人民, 努力完成, 七...  [斗争 成就 迎接 一年 金日成 首相 号召 朝鲜 人民 努力完成 七年 计划 加强 反修 ...\n",
       "64446   1965      1  1965-01-05     2     社论  1965-01-05革命的大会 民主的大会 团结的大会——庆祝第三届全国人民代表大会第一次会...  革命的大会 民主的大会 团结的大会——庆祝第三届全国人民代表大会第一次会议的伟大成就    NaN  革命的大会　民主的大会　团结的大会第三届全国人民代表大会第一次会议胜利闭幕了。会议听取了周恩...  [[革命, 大会, 民主, 大会, 团结, 大会], [第三届, 全国人民代表大会, 第一次...  [革命 大会 民主 大会 团结 大会, 第三届 全国人民代表大会 第一次 会议 胜利 闭幕,...\n",
       "64573   1965      1  1965-01-08     4    NaN        1965-01-08美帝陷入各国人民四面八方包围之中 约翰逊反革命两手挽救不了失败命运           美帝陷入各国人民四面八方包围之中 约翰逊反革命两手挽救不了失败命运    NaN  朝越坦等国舆论抨击约翰逊国情咨文以和平词藻掩饰侵略野心美帝陷入各国人民四面八方包围之中  约...  [[朝越, 坦等国, 舆论, 抨击, 约翰逊, 国情咨文, 和平, 词藻, 掩饰, 侵略, ...  [朝越 坦等国 舆论 抨击 约翰逊 国情咨文 和平 词藻 掩饰 侵略 野心, 美帝 陷入 各...\n",
       "64584   1965      1  1965-01-09     2     短评                                   1965-01-09创造力的解放                                      创造力的解放    NaN  卢王庄公社第一年种水稻，就得到了好收成。这件事情又一次雄辩地说明：社会主义革命是社会主义生产...  [[卢王庄, 公社, 第一年, 水稻, 得到, 好收成], [这件, 事情, 一次, 雄辩,...  [卢王庄 公社 第一年 水稻 得到 好收成, 这件 事情 一次 雄辩 说明 社会主义 革命 ...\n",
       "...      ...    ...         ...   ...    ...                                                ...                                         ...    ...                                                ...                                                ...                                                ...\n",
       "560917  2002     12  2002-12-18  1_要闻    NaN            2002-12-18李鹏在福建考察时指出人大要为发展民主政治建设政治文明作贡献               李鹏在福建考察时指出人大要为发展民主政治建设政治文明作贡献  傅旭蔡小伟  本报福州12月17日电记者傅旭、蔡小伟报道：全国人大常委会委员长李鹏近日在福建就全国人大常委...  [[本报, 福州, 12, 17, 日电, 记者, 傅旭, 蔡小伟, 报道, 全国人大常委会...  [本报 福州 12 17 日电 记者 傅旭 蔡小伟 报道 全国人大常委会 委员长 李鹏 近日...\n",
       "560968  2002     12  2002-12-19  2_要闻    NaN                  2002-12-19社区深处党旗红——福州市鼓楼区社区党建工作调查                     社区深处党旗红——福州市鼓楼区社区党建工作调查  蔡小伟赵鹏  今年50多岁的老党员刘用镇，4年前从外地搬到福州市鼓楼区福屿社区开了一家饮食店。生意红火，收...  [[今年, 50, 多岁, 党员, 刘用, 年前, 外地, 福州市, 鼓楼区, 福屿, 社区...  [今年 50 多岁 党员 刘用 年前 外地 福州市 鼓楼区 福屿 社区 一家 饮食店, 生意...\n",
       "561196  2002     12  2002-12-24  1_要闻    NaN           2002-12-24人大常委会第三十一次会议举行 李鹏主持全体会议并参加分组审议              人大常委会第三十一次会议举行 李鹏主持全体会议并参加分组审议  傅旭石国胜  本报北京12月23日讯记者傅旭、石国胜报道：九届全国人大常委会第三十一次会议今天上午举行全体...  [[本报, 北京, 12, 23, 日讯, 记者, 傅旭, 石国胜, 报道, 九届全国人大常...  [本报 北京 12 23 日讯 记者 傅旭 石国胜 报道 九届全国人大常委会 第三十一次 会...\n",
       "561277  2002     12  2002-12-26  1_要闻    NaN               2002-12-26外出闯世界找到致富路长春：劳务输出成为农民增收增长点                  外出闯世界找到致富路长春：劳务输出成为农民增收增长点  李忠春江山  本报长春12月25日电记者李忠春、江山报道：吉林省长春市把农民增收作为农村工作的主要目标，引...  [[本报, 长春, 12, 25, 日电, 记者, 李忠春, 江山, 报道, 吉林省, 长春...  [本报 长春 12 25 日电 记者 李忠春 江山 报道 吉林省 长春市 农民 增收 作为 ...\n",
       "561407  2002     12  2002-12-29  1_要闻    NaN        2002-12-29人大常委会第三十一次会议闭幕李鹏主持并讲话表决通过民办教育促进法等           人大常委会第三十一次会议闭幕李鹏主持并讲话表决通过民办教育促进法等  傅旭石国胜  本报北京十二月二十八日讯记者傅旭、石国胜报道：九届全国人大常委会第三十一次会议于今天上午闭幕...  [[本报, 北京, 十二月, 二十八日, 记者, 傅旭, 石国胜, 报道, 九届全国人大常委...  [本报 北京 十二月 二十八日 记者 傅旭 石国胜 报道 九届全国人大常委会 第三十一次 会...\n",
       "\n",
       "[9691 rows x 11 columns]"
      ]
     },
     "execution_count": 209,
     "metadata": {},
     "output_type": "execute_result"
    }
   ],
   "source": [
    "corpus_final_sort"
   ]
  },
  {
   "cell_type": "markdown",
   "metadata": {},
   "source": [
    "### time distribution check"
   ]
  },
  {
   "cell_type": "code",
   "execution_count": 223,
   "metadata": {},
   "outputs": [],
   "source": [
    "# time distribution\n",
    "\n",
    "year_dict_final={}\n",
    "year_dict_raw={}\n",
    "\n",
    "for year in range(1965,2003):\n",
    "    year_dict_final[str(year)]=len(corpus_final_sort[corpus_final_sort['year']==year])/len(corpus_final_sort)\n",
    "    year_dict_raw[str(year)]=len(sample_all2[sample_all2['year']==year])/len(sample_all2)"
   ]
  },
  {
   "cell_type": "code",
   "execution_count": 228,
   "metadata": {},
   "outputs": [
    {
     "data": {
      "text/plain": [
       "<matplotlib.legend.Legend at 0x57af3c610>"
      ]
     },
     "execution_count": 228,
     "metadata": {},
     "output_type": "execute_result"
    },
    {
     "data": {
      "image/png": "[encoded data removed]",
      "text/plain": [
       "<Figure size 1080x576 with 1 Axes>"
      ]
     },
     "metadata": {
      "needs_background": "light"
     },
     "output_type": "display_data"
    }
   ],
   "source": [
    "# plot time dist\n",
    "\n",
    "plt.figure(figsize=(15,8))\n",
    "ax=plt.gca()\n",
    "ax.plot(list(year_dict_final.keys()),list(year_dict_final.values()),label='filtered')\n",
    "ax.plot(list(year_dict_raw.keys()),list(year_dict_raw.values()),label='raw')\n",
    "plt.xticks(rotation=70)\n",
    "ax.legend()"
   ]
  },
  {
   "cell_type": "code",
   "execution_count": 231,
   "metadata": {},
   "outputs": [
    {
     "data": {
      "text/plain": [
       "0.9999999999999998"
      ]
     },
     "execution_count": 231,
     "metadata": {},
     "output_type": "execute_result"
    }
   ],
   "source": [
    "sum(list(year_dict_final.values()))"
   ]
  },
  {
   "cell_type": "code",
   "execution_count": 232,
   "metadata": {},
   "outputs": [
    {
     "data": {
      "text/plain": [
       "1.0000000000000002"
      ]
     },
     "execution_count": 232,
     "metadata": {},
     "output_type": "execute_result"
    }
   ],
   "source": [
    "sum(list(year_dict_raw.values()))"
   ]
  },
  {
   "cell_type": "markdown",
   "metadata": {},
   "source": [
    "## output final corpus and sample loading methods"
   ]
  },
  {
   "cell_type": "code",
   "execution_count": 233,
   "metadata": {},
   "outputs": [
    {
     "data": {
      "text/plain": [
       "9691"
      ]
     },
     "execution_count": 233,
     "metadata": {},
     "output_type": "execute_result"
    }
   ],
   "source": [
    "# option 1\n",
    "\n",
    "len(corpus_final_sort)"
   ]
  },
  {
   "cell_type": "code",
   "execution_count": 234,
   "metadata": {},
   "outputs": [],
   "source": [
    "corpus_final_sort.to_csv('final_corpus_rmrb.csv')\n",
    "\n",
    "# see \"load corpus\" section at the beginning to load corpus (particularly for string2list)-shown below\n",
    "# csv available on BOX"
   ]
  },
  {
   "cell_type": "code",
   "execution_count": 235,
   "metadata": {},
   "outputs": [],
   "source": [
    "# sample loading\n",
    "\n",
    "sample_loading_df=pd.read_csv('final_corpus_rmrb.csv')"
   ]
  },
  {
   "cell_type": "code",
   "execution_count": 236,
   "metadata": {},
   "outputs": [
    {
     "data": {
      "text/html": [
       "<div>\n",
       "<style scoped>\n",
       "    .dataframe tbody tr th:only-of-type {\n",
       "        vertical-align: middle;\n",
       "    }\n",
       "\n",
       "    .dataframe tbody tr th {\n",
       "        vertical-align: top;\n",
       "    }\n",
       "\n",
       "    .dataframe thead th {\n",
       "        text-align: right;\n",
       "    }\n",
       "</style>\n",
       "<table border=\"1\" class=\"dataframe\">\n",
       "  <thead>\n",
       "    <tr style=\"text-align: right;\">\n",
       "      <th></th>\n",
       "      <th>Unnamed: 0</th>\n",
       "      <th>year</th>\n",
       "      <th>month</th>\n",
       "      <th>date</th>\n",
       "      <th>issue</th>\n",
       "      <th>column</th>\n",
       "      <th>date_title</th>\n",
       "      <th>title</th>\n",
       "      <th>author</th>\n",
       "      <th>text</th>\n",
       "      <th>tokenized_sent</th>\n",
       "      <th>token_para</th>\n",
       "    </tr>\n",
       "  </thead>\n",
       "  <tbody>\n",
       "    <tr>\n",
       "      <th>0</th>\n",
       "      <td>64375</td>\n",
       "      <td>1965</td>\n",
       "      <td>1</td>\n",
       "      <td>1965-01-03</td>\n",
       "      <td>2</td>\n",
       "      <td>NaN</td>\n",
       "      <td>1965-01-03坚决破除迷信 改进原有设计</td>\n",
       "      <td>坚决破除迷信 改进原有设计</td>\n",
       "      <td>NaN</td>\n",
       "      <td>坚决破除迷信　改进原有设计洛阳轴承厂在严格的科学精神指导下，开展群众性的技术革新活动，轴承品...</td>\n",
       "      <td>[['坚决', '破除迷信', '改进', '原有', '设计'], ['洛阳', '轴承厂...</td>\n",
       "      <td>['坚决 破除迷信 改进 原有 设计', '洛阳 轴承厂 严格 科学 精神 指导 开展 群众...</td>\n",
       "    </tr>\n",
       "    <tr>\n",
       "      <th>1</th>\n",
       "      <td>64388</td>\n",
       "      <td>1965</td>\n",
       "      <td>1</td>\n",
       "      <td>1965-01-03</td>\n",
       "      <td>3</td>\n",
       "      <td>NaN</td>\n",
       "      <td>1965-01-03用新的斗争和新的成就迎接新的一年</td>\n",
       "      <td>用新的斗争和新的成就迎接新的一年</td>\n",
       "      <td>NaN</td>\n",
       "      <td>用新的斗争和新的成就迎接新的一年金日成首相号召朝鲜人民努力完成七年计划和加强反修斗争艾地主席...</td>\n",
       "      <td>[['斗争', '成就', '迎接', '一年', '金日成', '首相', '号召', '...</td>\n",
       "      <td>['斗争 成就 迎接 一年 金日成 首相 号召 朝鲜 人民 努力完成 七年 计划 加强 反修...</td>\n",
       "    </tr>\n",
       "    <tr>\n",
       "      <th>2</th>\n",
       "      <td>64446</td>\n",
       "      <td>1965</td>\n",
       "      <td>1</td>\n",
       "      <td>1965-01-05</td>\n",
       "      <td>2</td>\n",
       "      <td>社论</td>\n",
       "      <td>1965-01-05革命的大会 民主的大会 团结的大会——庆祝第三届全国人民代表大会第一次会...</td>\n",
       "      <td>革命的大会 民主的大会 团结的大会——庆祝第三届全国人民代表大会第一次会议的伟大成就</td>\n",
       "      <td>NaN</td>\n",
       "      <td>革命的大会　民主的大会　团结的大会第三届全国人民代表大会第一次会议胜利闭幕了。会议听取了周恩...</td>\n",
       "      <td>[['革命', '大会', '民主', '大会', '团结', '大会'], ['第三届',...</td>\n",
       "      <td>['革命 大会 民主 大会 团结 大会', '第三届 全国人民代表大会 第一次 会议 胜利 ...</td>\n",
       "    </tr>\n",
       "    <tr>\n",
       "      <th>3</th>\n",
       "      <td>64573</td>\n",
       "      <td>1965</td>\n",
       "      <td>1</td>\n",
       "      <td>1965-01-08</td>\n",
       "      <td>4</td>\n",
       "      <td>NaN</td>\n",
       "      <td>1965-01-08美帝陷入各国人民四面八方包围之中 约翰逊反革命两手挽救不了失败命运</td>\n",
       "      <td>美帝陷入各国人民四面八方包围之中 约翰逊反革命两手挽救不了失败命运</td>\n",
       "      <td>NaN</td>\n",
       "      <td>朝越坦等国舆论抨击约翰逊国情咨文以和平词藻掩饰侵略野心美帝陷入各国人民四面八方包围之中  约...</td>\n",
       "      <td>[['朝越', '坦等国', '舆论', '抨击', '约翰逊', '国情咨文', '和平'...</td>\n",
       "      <td>['朝越 坦等国 舆论 抨击 约翰逊 国情咨文 和平 词藻 掩饰 侵略 野心', '美帝 陷...</td>\n",
       "    </tr>\n",
       "    <tr>\n",
       "      <th>4</th>\n",
       "      <td>64584</td>\n",
       "      <td>1965</td>\n",
       "      <td>1</td>\n",
       "      <td>1965-01-09</td>\n",
       "      <td>2</td>\n",
       "      <td>短评</td>\n",
       "      <td>1965-01-09创造力的解放</td>\n",
       "      <td>创造力的解放</td>\n",
       "      <td>NaN</td>\n",
       "      <td>卢王庄公社第一年种水稻，就得到了好收成。这件事情又一次雄辩地说明：社会主义革命是社会主义生产...</td>\n",
       "      <td>[['卢王庄', '公社', '第一年', '水稻', '得到', '好收成'], ['这件...</td>\n",
       "      <td>['卢王庄 公社 第一年 水稻 得到 好收成', '这件 事情 一次 雄辩 说明 社会主义 ...</td>\n",
       "    </tr>\n",
       "  </tbody>\n",
       "</table>\n",
       "</div>"
      ],
      "text/plain": [
       "   Unnamed: 0  year  month        date issue column                                         date_title                                       title author                                               text                                     tokenized_sent                                         token_para\n",
       "0       64375  1965      1  1965-01-03     2    NaN                            1965-01-03坚决破除迷信 改进原有设计                               坚决破除迷信 改进原有设计    NaN  坚决破除迷信　改进原有设计洛阳轴承厂在严格的科学精神指导下，开展群众性的技术革新活动，轴承品...  [['坚决', '破除迷信', '改进', '原有', '设计'], ['洛阳', '轴承厂...  ['坚决 破除迷信 改进 原有 设计', '洛阳 轴承厂 严格 科学 精神 指导 开展 群众...\n",
       "1       64388  1965      1  1965-01-03     3    NaN                         1965-01-03用新的斗争和新的成就迎接新的一年                            用新的斗争和新的成就迎接新的一年    NaN  用新的斗争和新的成就迎接新的一年金日成首相号召朝鲜人民努力完成七年计划和加强反修斗争艾地主席...  [['斗争', '成就', '迎接', '一年', '金日成', '首相', '号召', '...  ['斗争 成就 迎接 一年 金日成 首相 号召 朝鲜 人民 努力完成 七年 计划 加强 反修...\n",
       "2       64446  1965      1  1965-01-05     2     社论  1965-01-05革命的大会 民主的大会 团结的大会——庆祝第三届全国人民代表大会第一次会...  革命的大会 民主的大会 团结的大会——庆祝第三届全国人民代表大会第一次会议的伟大成就    NaN  革命的大会　民主的大会　团结的大会第三届全国人民代表大会第一次会议胜利闭幕了。会议听取了周恩...  [['革命', '大会', '民主', '大会', '团结', '大会'], ['第三届',...  ['革命 大会 民主 大会 团结 大会', '第三届 全国人民代表大会 第一次 会议 胜利 ...\n",
       "3       64573  1965      1  1965-01-08     4    NaN        1965-01-08美帝陷入各国人民四面八方包围之中 约翰逊反革命两手挽救不了失败命运           美帝陷入各国人民四面八方包围之中 约翰逊反革命两手挽救不了失败命运    NaN  朝越坦等国舆论抨击约翰逊国情咨文以和平词藻掩饰侵略野心美帝陷入各国人民四面八方包围之中  约...  [['朝越', '坦等国', '舆论', '抨击', '约翰逊', '国情咨文', '和平'...  ['朝越 坦等国 舆论 抨击 约翰逊 国情咨文 和平 词藻 掩饰 侵略 野心', '美帝 陷...\n",
       "4       64584  1965      1  1965-01-09     2     短评                                   1965-01-09创造力的解放                                      创造力的解放    NaN  卢王庄公社第一年种水稻，就得到了好收成。这件事情又一次雄辩地说明：社会主义革命是社会主义生产...  [['卢王庄', '公社', '第一年', '水稻', '得到', '好收成'], ['这件...  ['卢王庄 公社 第一年 水稻 得到 好收成', '这件 事情 一次 雄辩 说明 社会主义 ..."
      ]
     },
     "execution_count": 236,
     "metadata": {},
     "output_type": "execute_result"
    }
   ],
   "source": [
    "sample_loading_df.head()"
   ]
  },
  {
   "cell_type": "code",
   "execution_count": 237,
   "metadata": {},
   "outputs": [],
   "source": [
    "sample_loading_df=sample_loading_df.drop(['Unnamed: 0'], axis=1)"
   ]
  },
  {
   "cell_type": "code",
   "execution_count": 239,
   "metadata": {},
   "outputs": [],
   "source": [
    "# transfer string back to list\n",
    "\n",
    "tokenized_sent_str2=sample_loading_df['tokenized_sent'].values"
   ]
  },
  {
   "cell_type": "code",
   "execution_count": 240,
   "metadata": {},
   "outputs": [],
   "source": [
    "token_sent_clean2=[]\n",
    "for doc in tokenized_sent_str2:\n",
    "    #print(doc)\n",
    "    token_sent_clean2.append([[y.strip().strip(string.punctuation) for y in x.split(',') if len(y)>0] \n",
    "                             for x in doc.lstrip('[').rstrip(']').split(']') if len(x)>0])"
   ]
  },
  {
   "cell_type": "code",
   "execution_count": 241,
   "metadata": {},
   "outputs": [],
   "source": [
    "sample_loading_df=sample_loading_df.drop(['tokenized_sent'],axis=1)\n",
    "sample_loading_df.insert(10,'tokenized_sent',token_sent_clean2,True)"
   ]
  },
  {
   "cell_type": "code",
   "execution_count": 242,
   "metadata": {},
   "outputs": [],
   "source": [
    "tokenized_para_str2=sample_loading_df['token_para'].values"
   ]
  },
  {
   "cell_type": "code",
   "execution_count": 243,
   "metadata": {},
   "outputs": [],
   "source": [
    "token_para_clean2=[]\n",
    "for doc in tokenized_para_str2:\n",
    "    #print(doc)\n",
    "    token_para_clean2.append([x.strip().strip(\"'\") \n",
    "                             for x in doc.lstrip('[').rstrip(']').split(',') if len(x)>0])"
   ]
  },
  {
   "cell_type": "code",
   "execution_count": 244,
   "metadata": {},
   "outputs": [],
   "source": [
    "sample_loading_df=sample_loading_df.drop(['token_para'],axis=1)\n",
    "sample_loading_df.insert(9, 'token_para',token_para_clean2,True)"
   ]
  },
  {
   "cell_type": "code",
   "execution_count": 248,
   "metadata": {},
   "outputs": [
    {
     "data": {
      "text/plain": [
       "['坚决 破除迷信 改进 原有 设计',\n",
       " '洛阳 轴承厂 严格 科学 精神 指导 开展 群众性 技术革新 活动 轴承 品种 较原 设计 增加三倍 以上 产品 精度 普遍 前年 提高 一级 光洁度 提高 一大',\n",
       " '新华社 郑州 二日 洛阳 轴承厂 破除 对原 设计 迷信 发动 职工群众 技术革新 增加 品种 提高质量',\n",
       " '目前 这个 生产 轴承 品种 较原 设计 增加三倍 以上',\n",
       " '按照 原来 设计 这个 只能 生产 大型 轴承 现在 生产 一百多种 冶金 石油 工业用 特大型 轴承',\n",
       " '设计 这个 最好 产品 精密 轴承 现在 生产 很多 精密 轴承 耐高温 耐腐蚀 特殊 性能 轴承',\n",
       " '去年 这个 产品 精度 普遍 前年 提高 一级 光洁度 提高 一大',\n",
       " '洛阳 轴承厂 国外 设计 现代化 大型 工厂',\n",
       " '反映 过去 有些 思想 懒惰 认为 这样 工厂 技术 先进 机械化 自动化 程度 只要 按照 设计 要求 掌握 技术 进行 生产 不错 技术革新 反而 可能 搞坏',\n",
       " '但是 近几年来 这个 领导 职工群众 生产实践 感到 这个 确有 许多 需要 改进 地方 于是 领导 决定 严格 科学 精神 指导 开展 技术革新 活动']"
      ]
     },
     "execution_count": 248,
     "metadata": {},
     "output_type": "execute_result"
    }
   ],
   "source": [
    "sample_loading_df[:1]['token_para'][0][:10]"
   ]
  },
  {
   "cell_type": "code",
   "execution_count": 254,
   "metadata": {},
   "outputs": [
    {
     "data": {
      "text/plain": [
       "[['坚决', '破除迷信', '改进', '原有', '设计'],\n",
       " ['洛阳',\n",
       "  '轴承厂',\n",
       "  '严格',\n",
       "  '科学',\n",
       "  '精神',\n",
       "  '指导',\n",
       "  '开展',\n",
       "  '群众性',\n",
       "  '技术革新',\n",
       "  '活动',\n",
       "  '轴承',\n",
       "  '品种',\n",
       "  '较原',\n",
       "  '设计',\n",
       "  '增加三倍',\n",
       "  '以上',\n",
       "  '产品',\n",
       "  '精度',\n",
       "  '普遍',\n",
       "  '前年',\n",
       "  '提高',\n",
       "  '一级',\n",
       "  '光洁度',\n",
       "  '提高',\n",
       "  '一大']]"
      ]
     },
     "execution_count": 254,
     "metadata": {},
     "output_type": "execute_result"
    }
   ],
   "source": [
    "sample_loading_df[:1]['tokenized_sent'][0][:2]"
   ]
  },
  {
   "cell_type": "code",
   "execution_count": 263,
   "metadata": {},
   "outputs": [
    {
     "data": {
      "text/plain": [
       "9691"
      ]
     },
     "execution_count": 263,
     "metadata": {},
     "output_type": "execute_result"
    }
   ],
   "source": [
    "# option 2\n",
    "\n",
    "# it requires adding the date_title col to ensure uniqueness of title (see \"adding date_title\" above)\n",
    "\n",
    "len(corpus_final_sort['date_title'].values)"
   ]
  },
  {
   "cell_type": "code",
   "execution_count": 267,
   "metadata": {},
   "outputs": [],
   "source": [
    "with open(\"output_datetitle_filtered.txt\", \"w\") as text_file:\n",
    "    for title in corpus_final_sort['date_title'].values:\n",
    "        text_file.write(title+'\\n')"
   ]
  },
  {
   "cell_type": "code",
   "execution_count": 271,
   "metadata": {},
   "outputs": [],
   "source": [
    "# sample loading\n",
    "\n",
    "# it requires the pre_loading of the whole corpus\n",
    "\n",
    "sample_loading_titles=[]\n",
    "\n",
    "with open(\"output_datetitle_filtered.txt\", \"r\") as text_file:\n",
    "    for line in text_file:\n",
    "        sample_loading_titles.append(line[:-1]) # rm \\n"
   ]
  },
  {
   "cell_type": "code",
   "execution_count": 272,
   "metadata": {},
   "outputs": [
    {
     "data": {
      "text/plain": [
       "9691"
      ]
     },
     "execution_count": 272,
     "metadata": {},
     "output_type": "execute_result"
    }
   ],
   "source": [
    "len(sample_loading_titles)"
   ]
  },
  {
   "cell_type": "code",
   "execution_count": 273,
   "metadata": {},
   "outputs": [
    {
     "data": {
      "text/plain": [
       "['1965-01-03坚决破除迷信 改进原有设计',\n",
       " '1965-01-03用新的斗争和新的成就迎接新的一年',\n",
       " '1965-01-05革命的大会 民主的大会 团结的大会——庆祝第三届全国人民代表大会第一次会议的伟大成就',\n",
       " '1965-01-08美帝陷入各国人民四面八方包围之中 约翰逊反革命两手挽救不了失败命运',\n",
       " '1965-01-09创造力的解放',\n",
       " '1965-01-09艾地主席号召印度尼西亚人民完成两项民族任务 粉碎美帝文化侵略 打倒官僚资本家 强调必须确立以纳沙贡为核心的革命民族团结',\n",
       " '1965-01-09西哈努克亲王说柬埔寨拒绝美援后比以前更健康 柬埔寨抗美勇气为别国树立了榜样',\n",
       " '1965-01-09经济实力的消长改变了帝国主义阵营内部力量的均势 美国同西欧之间经济矛盾进一步激化',\n",
       " '1965-01-09各国公众和舆论要求巴西当局释放中国人员 对中国人员的审判是对新兴力量犯下罪行 世界进步人民高举正义旗帜反对美帝阴谋',\n",
       " '1965-01-14法国决定抛售美元使美国十分恼火 美国财政部发表声明企图安定人心遏止黄金风潮 法报指出法手中握有王牌随时可以用来对付美国']"
      ]
     },
     "execution_count": 273,
     "metadata": {},
     "output_type": "execute_result"
    }
   ],
   "source": [
    "sample_loading_titles[:10]"
   ]
  },
  {
   "cell_type": "code",
   "execution_count": 278,
   "metadata": {},
   "outputs": [
    {
     "name": "stdout",
     "output_type": "stream",
     "text": [
      "CPU times: user 4min 3s, sys: 374 ms, total: 4min 3s\n",
      "Wall time: 4min 4s\n"
     ]
    }
   ],
   "source": [
    "%%time\n",
    "\n",
    "sample_loading_titles_df=sample_all2[:0] # sample_all2 as raw corpus\n",
    "\n",
    "for datetitle in sample_loading_titles:\n",
    "    sample_loading_titles_df=sample_loading_titles_df.append(sample_all2[sample_all2['date_title']==datetitle])"
   ]
  },
  {
   "cell_type": "code",
   "execution_count": 279,
   "metadata": {},
   "outputs": [
    {
     "data": {
      "text/plain": [
       "9691"
      ]
     },
     "execution_count": 279,
     "metadata": {},
     "output_type": "execute_result"
    }
   ],
   "source": [
    "len(sample_loading_titles_df)"
   ]
  },
  {
   "cell_type": "code",
   "execution_count": 280,
   "metadata": {},
   "outputs": [
    {
     "data": {
      "text/html": [
       "<div>\n",
       "<style scoped>\n",
       "    .dataframe tbody tr th:only-of-type {\n",
       "        vertical-align: middle;\n",
       "    }\n",
       "\n",
       "    .dataframe tbody tr th {\n",
       "        vertical-align: top;\n",
       "    }\n",
       "\n",
       "    .dataframe thead th {\n",
       "        text-align: right;\n",
       "    }\n",
       "</style>\n",
       "<table border=\"1\" class=\"dataframe\">\n",
       "  <thead>\n",
       "    <tr style=\"text-align: right;\">\n",
       "      <th></th>\n",
       "      <th>year</th>\n",
       "      <th>month</th>\n",
       "      <th>date</th>\n",
       "      <th>issue</th>\n",
       "      <th>column</th>\n",
       "      <th>date_title</th>\n",
       "      <th>title</th>\n",
       "      <th>author</th>\n",
       "      <th>text</th>\n",
       "      <th>tokenized_sent</th>\n",
       "      <th>token_para</th>\n",
       "    </tr>\n",
       "  </thead>\n",
       "  <tbody>\n",
       "    <tr>\n",
       "      <th>64375</th>\n",
       "      <td>1965</td>\n",
       "      <td>1</td>\n",
       "      <td>1965-01-03</td>\n",
       "      <td>2</td>\n",
       "      <td>NaN</td>\n",
       "      <td>1965-01-03坚决破除迷信 改进原有设计</td>\n",
       "      <td>坚决破除迷信 改进原有设计</td>\n",
       "      <td>NaN</td>\n",
       "      <td>坚决破除迷信　改进原有设计洛阳轴承厂在严格的科学精神指导下，开展群众性的技术革新活动，轴承品...</td>\n",
       "      <td>[[坚决, 破除迷信, 改进, 原有, 设计], [洛阳, 轴承厂, 严格, 科学, 精神,...</td>\n",
       "      <td>[坚决 破除迷信 改进 原有 设计, 洛阳 轴承厂 严格 科学 精神 指导 开展 群众性 技...</td>\n",
       "    </tr>\n",
       "    <tr>\n",
       "      <th>64388</th>\n",
       "      <td>1965</td>\n",
       "      <td>1</td>\n",
       "      <td>1965-01-03</td>\n",
       "      <td>3</td>\n",
       "      <td>NaN</td>\n",
       "      <td>1965-01-03用新的斗争和新的成就迎接新的一年</td>\n",
       "      <td>用新的斗争和新的成就迎接新的一年</td>\n",
       "      <td>NaN</td>\n",
       "      <td>用新的斗争和新的成就迎接新的一年金日成首相号召朝鲜人民努力完成七年计划和加强反修斗争艾地主席...</td>\n",
       "      <td>[[斗争, 成就, 迎接, 一年, 金日成, 首相, 号召, 朝鲜, 人民, 努力完成, 七...</td>\n",
       "      <td>[斗争 成就 迎接 一年 金日成 首相 号召 朝鲜 人民 努力完成 七年 计划 加强 反修 ...</td>\n",
       "    </tr>\n",
       "    <tr>\n",
       "      <th>64446</th>\n",
       "      <td>1965</td>\n",
       "      <td>1</td>\n",
       "      <td>1965-01-05</td>\n",
       "      <td>2</td>\n",
       "      <td>社论</td>\n",
       "      <td>1965-01-05革命的大会 民主的大会 团结的大会——庆祝第三届全国人民代表大会第一次会...</td>\n",
       "      <td>革命的大会 民主的大会 团结的大会——庆祝第三届全国人民代表大会第一次会议的伟大成就</td>\n",
       "      <td>NaN</td>\n",
       "      <td>革命的大会　民主的大会　团结的大会第三届全国人民代表大会第一次会议胜利闭幕了。会议听取了周恩...</td>\n",
       "      <td>[[革命, 大会, 民主, 大会, 团结, 大会], [第三届, 全国人民代表大会, 第一次...</td>\n",
       "      <td>[革命 大会 民主 大会 团结 大会, 第三届 全国人民代表大会 第一次 会议 胜利 闭幕,...</td>\n",
       "    </tr>\n",
       "    <tr>\n",
       "      <th>64573</th>\n",
       "      <td>1965</td>\n",
       "      <td>1</td>\n",
       "      <td>1965-01-08</td>\n",
       "      <td>4</td>\n",
       "      <td>NaN</td>\n",
       "      <td>1965-01-08美帝陷入各国人民四面八方包围之中 约翰逊反革命两手挽救不了失败命运</td>\n",
       "      <td>美帝陷入各国人民四面八方包围之中 约翰逊反革命两手挽救不了失败命运</td>\n",
       "      <td>NaN</td>\n",
       "      <td>朝越坦等国舆论抨击约翰逊国情咨文以和平词藻掩饰侵略野心美帝陷入各国人民四面八方包围之中  约...</td>\n",
       "      <td>[[朝越, 坦等国, 舆论, 抨击, 约翰逊, 国情咨文, 和平, 词藻, 掩饰, 侵略, ...</td>\n",
       "      <td>[朝越 坦等国 舆论 抨击 约翰逊 国情咨文 和平 词藻 掩饰 侵略 野心, 美帝 陷入 各...</td>\n",
       "    </tr>\n",
       "    <tr>\n",
       "      <th>64584</th>\n",
       "      <td>1965</td>\n",
       "      <td>1</td>\n",
       "      <td>1965-01-09</td>\n",
       "      <td>2</td>\n",
       "      <td>短评</td>\n",
       "      <td>1965-01-09创造力的解放</td>\n",
       "      <td>创造力的解放</td>\n",
       "      <td>NaN</td>\n",
       "      <td>卢王庄公社第一年种水稻，就得到了好收成。这件事情又一次雄辩地说明：社会主义革命是社会主义生产...</td>\n",
       "      <td>[[卢王庄, 公社, 第一年, 水稻, 得到, 好收成], [这件, 事情, 一次, 雄辩,...</td>\n",
       "      <td>[卢王庄 公社 第一年 水稻 得到 好收成, 这件 事情 一次 雄辩 说明 社会主义 革命 ...</td>\n",
       "    </tr>\n",
       "  </tbody>\n",
       "</table>\n",
       "</div>"
      ],
      "text/plain": [
       "       year  month        date issue column                                         date_title                                       title author                                               text                                     tokenized_sent                                         token_para\n",
       "64375  1965      1  1965-01-03     2    NaN                            1965-01-03坚决破除迷信 改进原有设计                               坚决破除迷信 改进原有设计    NaN  坚决破除迷信　改进原有设计洛阳轴承厂在严格的科学精神指导下，开展群众性的技术革新活动，轴承品...  [[坚决, 破除迷信, 改进, 原有, 设计], [洛阳, 轴承厂, 严格, 科学, 精神,...  [坚决 破除迷信 改进 原有 设计, 洛阳 轴承厂 严格 科学 精神 指导 开展 群众性 技...\n",
       "64388  1965      1  1965-01-03     3    NaN                         1965-01-03用新的斗争和新的成就迎接新的一年                            用新的斗争和新的成就迎接新的一年    NaN  用新的斗争和新的成就迎接新的一年金日成首相号召朝鲜人民努力完成七年计划和加强反修斗争艾地主席...  [[斗争, 成就, 迎接, 一年, 金日成, 首相, 号召, 朝鲜, 人民, 努力完成, 七...  [斗争 成就 迎接 一年 金日成 首相 号召 朝鲜 人民 努力完成 七年 计划 加强 反修 ...\n",
       "64446  1965      1  1965-01-05     2     社论  1965-01-05革命的大会 民主的大会 团结的大会——庆祝第三届全国人民代表大会第一次会...  革命的大会 民主的大会 团结的大会——庆祝第三届全国人民代表大会第一次会议的伟大成就    NaN  革命的大会　民主的大会　团结的大会第三届全国人民代表大会第一次会议胜利闭幕了。会议听取了周恩...  [[革命, 大会, 民主, 大会, 团结, 大会], [第三届, 全国人民代表大会, 第一次...  [革命 大会 民主 大会 团结 大会, 第三届 全国人民代表大会 第一次 会议 胜利 闭幕,...\n",
       "64573  1965      1  1965-01-08     4    NaN        1965-01-08美帝陷入各国人民四面八方包围之中 约翰逊反革命两手挽救不了失败命运           美帝陷入各国人民四面八方包围之中 约翰逊反革命两手挽救不了失败命运    NaN  朝越坦等国舆论抨击约翰逊国情咨文以和平词藻掩饰侵略野心美帝陷入各国人民四面八方包围之中  约...  [[朝越, 坦等国, 舆论, 抨击, 约翰逊, 国情咨文, 和平, 词藻, 掩饰, 侵略, ...  [朝越 坦等国 舆论 抨击 约翰逊 国情咨文 和平 词藻 掩饰 侵略 野心, 美帝 陷入 各...\n",
       "64584  1965      1  1965-01-09     2     短评                                   1965-01-09创造力的解放                                      创造力的解放    NaN  卢王庄公社第一年种水稻，就得到了好收成。这件事情又一次雄辩地说明：社会主义革命是社会主义生产...  [[卢王庄, 公社, 第一年, 水稻, 得到, 好收成], [这件, 事情, 一次, 雄辩,...  [卢王庄 公社 第一年 水稻 得到 好收成, 这件 事情 一次 雄辩 说明 社会主义 革命 ..."
      ]
     },
     "execution_count": 280,
     "metadata": {},
     "output_type": "execute_result"
    }
   ],
   "source": [
    "sample_loading_titles_df.head()"
   ]
  },
  {
   "cell_type": "code",
   "execution_count": 4,
   "metadata": {},
   "outputs": [
    {
     "name": "stdout",
     "output_type": "stream",
     "text": [
      "CPU times: user 1.91 s, sys: 415 ms, total: 2.33 s\n",
      "Wall time: 2.33 s\n"
     ]
    }
   ],
   "source": [
    "%%time\n",
    "\n",
    "# sample loading models\n",
    "\n",
    "sample_d2v = gensim.models.word2vec.Word2Vec.load('rmD2V')"
   ]
  },
  {
   "cell_type": "code",
   "execution_count": 5,
   "metadata": {},
   "outputs": [
    {
     "data": {
      "text/plain": [
       "array([ 0.1390343 , -0.04184093,  0.20951532,  0.08464912, -0.02633805,\n",
       "       -0.3240081 , -0.08124724, -0.18342079,  0.18068203,  0.01235944,\n",
       "        0.21951292,  0.04588672,  0.4114881 , -0.38541275,  0.4054298 ,\n",
       "       -0.1226418 , -0.00150532,  0.0074193 ,  0.12879644,  0.29127347,\n",
       "       -0.09779221, -0.1276845 ,  0.15429698,  0.3276099 ,  0.07633323,\n",
       "       -0.11210741,  0.08943482, -0.15572542, -0.14702825,  0.05651556,\n",
       "        0.15699483, -0.20961007,  0.02354704,  0.24540584, -0.19799396,\n",
       "        0.10389581,  0.12611862,  0.13575055,  0.2294488 ,  0.07824612,\n",
       "       -0.15885654,  0.07462155,  0.13403511,  0.24623802, -0.21551512,\n",
       "        0.10353684,  0.11034467,  0.04615293, -0.09779307,  0.04260863,\n",
       "        0.13664238,  0.13452247,  0.05553785, -0.3185732 ,  0.0717543 ,\n",
       "        0.23060913, -0.42409918, -0.13239972, -0.17354128,  0.00685339,\n",
       "        0.11220478, -0.07598538,  0.00786897, -0.09047474, -0.10854724,\n",
       "       -0.08250108,  0.160467  ,  0.25674373, -0.05683688, -0.10003345,\n",
       "       -0.22615393, -0.02822406, -0.37544465,  0.4692972 ,  0.2393731 ,\n",
       "        0.2145525 , -0.3706288 , -0.01881174, -0.09844526,  0.19066599,\n",
       "        0.14295834, -0.13361655,  0.15529996, -0.39445212, -0.1168506 ,\n",
       "       -0.3661307 ,  0.1477467 , -0.21677057,  0.13408935,  0.06993748,\n",
       "       -0.07981411, -0.14941616, -0.464906  ,  0.37460563, -0.15821207,\n",
       "        0.16121691,  0.03249271,  0.042336  , -0.12501068, -0.07772198],\n",
       "      dtype=float32)"
      ]
     },
     "execution_count": 5,
     "metadata": {},
     "output_type": "execute_result"
    }
   ],
   "source": [
    "sample_d2v.docvecs[19]"
   ]
  },
  {
   "cell_type": "code",
   "execution_count": 7,
   "metadata": {},
   "outputs": [
    {
     "data": {
      "text/plain": [
       "array([-0.2886183 ,  0.82047886,  1.5868014 ,  0.9601841 ,  0.68216187,\n",
       "        1.3617811 ,  3.1735983 , -0.8263085 ,  0.27197364,  1.0266342 ,\n",
       "       -0.3462706 , -0.9655181 , -2.8298173 ,  0.90870476,  0.99788415,\n",
       "       -1.1183252 ,  1.8899156 ,  0.92084295,  0.9723655 , -2.9304955 ,\n",
       "        1.7666119 ,  0.47797465, -0.6381282 ,  0.7529383 , -1.295348  ,\n",
       "       -4.1088753 ,  0.61286974,  0.7788254 , -1.8349595 , -0.6028864 ,\n",
       "        0.07394097,  0.94317484, -0.5407687 ,  0.16959631, -1.5808766 ,\n",
       "        1.1400219 , -0.0648832 , -2.1679869 , -0.3616697 , -0.7454695 ,\n",
       "        0.4145047 , -0.14465374,  0.9014171 ,  3.1625247 , -3.0370965 ,\n",
       "       -0.5514436 , -0.51505303,  1.9184579 , -3.2404754 , -2.29703   ,\n",
       "       -0.04783804,  0.35031527,  2.8489053 ,  1.7328421 , -1.284171  ,\n",
       "        0.9532832 , -1.3551726 , -0.09934222,  0.07061705,  1.6481503 ,\n",
       "        0.4637063 ,  2.4076352 , -0.6880851 , -0.9293533 , -3.218049  ,\n",
       "        2.6491942 ,  1.3527428 ,  2.0499802 ,  1.4535805 ,  3.0713751 ,\n",
       "        0.86458385,  3.868709  , -0.97151303, -1.8298289 ,  0.54164463,\n",
       "        1.0137929 , -0.06796459,  2.8790724 , -0.02897634, -0.47924468,\n",
       "        0.8888618 ,  2.0508103 , -1.9344275 ,  1.4824688 ,  0.85892886,\n",
       "        0.14675744, -1.7848411 ,  0.6861489 , -0.82716364, -3.5013833 ,\n",
       "        0.8895526 , -1.2280072 , -0.48332587, -0.6315287 , -0.46204942,\n",
       "        1.1616387 ,  0.7155405 , -0.26607677,  0.27696058,  1.115974  ],\n",
       "      dtype=float32)"
      ]
     },
     "execution_count": 7,
     "metadata": {},
     "output_type": "execute_result"
    }
   ],
   "source": [
    "sample_d2v['经济']"
   ]
  }
 ],
 "metadata": {
  "kernelspec": {
   "display_name": "Python 3",
   "language": "python",
   "name": "python3"
  },
  "language_info": {
   "codemirror_mode": {
    "name": "ipython",
    "version": 3
   },
   "file_extension": ".py",
   "mimetype": "text/x-python",
   "name": "python",
   "nbconvert_exporter": "python",
   "pygments_lexer": "ipython3",
   "version": "3.7.7"
  }
 },
 "nbformat": 4,
 "nbformat_minor": 4
}
