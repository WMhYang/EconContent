{
 "cells": [
  {
   "cell_type": "markdown",
   "metadata": {},
   "source": [
    "## Project for rmrb - Part #[2]\n",
    "\n",
    "### Tokenize the corpus"
   ]
  },
  {
   "cell_type": "markdown",
   "metadata": {},
   "source": [
    "For more information about the `jieba` package, please refer to https://github.com/fxsjy/jieba.\n",
    "\n",
    "Install relevant packages first"
   ]
  },
  {
   "cell_type": "code",
   "execution_count": 1,
   "metadata": {},
   "outputs": [
    {
     "name": "stdout",
     "output_type": "stream",
     "text": [
      "Requirement already satisfied: jieba in /Users/linghuiwu/opt/anaconda3/lib/python3.7/site-packages (0.42.1)\n",
      "Note: you may need to restart the kernel to use updated packages.\n"
     ]
    }
   ],
   "source": [
    "pip install jieba"
   ]
  },
  {
   "cell_type": "code",
   "execution_count": 2,
   "metadata": {},
   "outputs": [
    {
     "name": "stdout",
     "output_type": "stream",
     "text": [
      "Requirement already satisfied: paddlepaddle-tiny==1.6.1 in /Users/linghuiwu/opt/anaconda3/lib/python3.7/site-packages (1.6.1)\n",
      "Requirement already satisfied: protobuf>=3.1.0 in /Users/linghuiwu/opt/anaconda3/lib/python3.7/site-packages (from paddlepaddle-tiny==1.6.1) (3.11.3)\n",
      "Requirement already satisfied: objgraph in /Users/linghuiwu/opt/anaconda3/lib/python3.7/site-packages (from paddlepaddle-tiny==1.6.1) (3.4.1)\n",
      "Requirement already satisfied: requests>=2.0.0 in /Users/linghuiwu/opt/anaconda3/lib/python3.7/site-packages (from paddlepaddle-tiny==1.6.1) (2.22.0)\n",
      "Requirement already satisfied: decorator in /Users/linghuiwu/opt/anaconda3/lib/python3.7/site-packages (from paddlepaddle-tiny==1.6.1) (4.4.1)\n",
      "Requirement already satisfied: six in /Users/linghuiwu/opt/anaconda3/lib/python3.7/site-packages (from paddlepaddle-tiny==1.6.1) (1.14.0)\n",
      "Requirement already satisfied: graphviz in /Users/linghuiwu/opt/anaconda3/lib/python3.7/site-packages (from paddlepaddle-tiny==1.6.1) (0.14)\n",
      "Requirement already satisfied: numpy>=1.12; python_version >= \"3.5\" in /Users/linghuiwu/opt/anaconda3/lib/python3.7/site-packages (from paddlepaddle-tiny==1.6.1) (1.18.1)\n",
      "Requirement already satisfied: setuptools in /Users/linghuiwu/opt/anaconda3/lib/python3.7/site-packages (from protobuf>=3.1.0->paddlepaddle-tiny==1.6.1) (46.0.0.post20200309)\n",
      "Requirement already satisfied: idna<2.9,>=2.5 in /Users/linghuiwu/opt/anaconda3/lib/python3.7/site-packages (from requests>=2.0.0->paddlepaddle-tiny==1.6.1) (2.8)\n",
      "Requirement already satisfied: certifi>=2017.4.17 in /Users/linghuiwu/opt/anaconda3/lib/python3.7/site-packages (from requests>=2.0.0->paddlepaddle-tiny==1.6.1) (2019.11.28)\n",
      "Requirement already satisfied: urllib3!=1.25.0,!=1.25.1,<1.26,>=1.21.1 in /Users/linghuiwu/opt/anaconda3/lib/python3.7/site-packages (from requests>=2.0.0->paddlepaddle-tiny==1.6.1) (1.25.8)\n",
      "Requirement already satisfied: chardet<3.1.0,>=3.0.2 in /Users/linghuiwu/opt/anaconda3/lib/python3.7/site-packages (from requests>=2.0.0->paddlepaddle-tiny==1.6.1) (3.0.4)\n",
      "Note: you may need to restart the kernel to use updated packages.\n"
     ]
    }
   ],
   "source": [
    "pip install paddlepaddle-tiny==1.6.1"
   ]
  },
  {
   "cell_type": "code",
   "execution_count": 3,
   "metadata": {},
   "outputs": [],
   "source": [
    "import jieba\n",
    "import pandas as pd\n",
    "import numpy as np"
   ]
  },
  {
   "cell_type": "code",
   "execution_count": 7,
   "metadata": {},
   "outputs": [
    {
     "name": "stdout",
     "output_type": "stream",
     "text": [
      "Who is using the notebook? Linghui\n"
     ]
    }
   ],
   "source": [
    "# Load People's Daily corpus\n",
    "user = input(\"Who is using the notebook? \")\n",
    "if user == \"Linghui\":\n",
    "    rmrb = pd.read_csv(\"/Users/linghuiwu/uchicago/courseworks/soci40133/rmrb/rmrb_corpus.csv\", index_col=0)"
   ]
  },
  {
   "cell_type": "code",
   "execution_count": 8,
   "metadata": {},
   "outputs": [
    {
     "name": "stderr",
     "output_type": "stream",
     "text": [
      "Paddle enabled successfully......\n"
     ]
    }
   ],
   "source": [
    "# initiate \"paddle\"\n",
    "jieba.enable_paddle()"
   ]
  },
  {
   "cell_type": "code",
   "execution_count": 9,
   "metadata": {},
   "outputs": [],
   "source": [
    "# Return a list in the \"tokenized\" column\n",
    "rmrb[\"tokenized\"] = rmrb[\"text\"].apply(lambda x: jieba.lcut(x, cut_all=False))\n",
    "\n",
    "# Return a generator in the \"tokenized\" column\n",
    "# rmrb[\"tokenized\"] = rmrb[\"text\"].apply(lambda x: jieba.cut(x, cut_all=False))"
   ]
  },
  {
   "cell_type": "code",
   "execution_count": 10,
   "metadata": {},
   "outputs": [
    {
     "data": {
      "text/plain": [
       "2000"
      ]
     },
     "execution_count": 10,
     "metadata": {},
     "output_type": "execute_result"
    }
   ],
   "source": [
    "len(rmrb)"
   ]
  },
  {
   "cell_type": "code",
   "execution_count": 13,
   "metadata": {
    "scrolled": true
   },
   "outputs": [
    {
     "data": {
      "text/html": [
       "<div>\n",
       "<style scoped>\n",
       "    .dataframe tbody tr th:only-of-type {\n",
       "        vertical-align: middle;\n",
       "    }\n",
       "\n",
       "    .dataframe tbody tr th {\n",
       "        vertical-align: top;\n",
       "    }\n",
       "\n",
       "    .dataframe thead th {\n",
       "        text-align: right;\n",
       "    }\n",
       "</style>\n",
       "<table border=\"1\" class=\"dataframe\">\n",
       "  <thead>\n",
       "    <tr style=\"text-align: right;\">\n",
       "      <th></th>\n",
       "      <th>year</th>\n",
       "      <th>month</th>\n",
       "      <th>date</th>\n",
       "      <th>issue</th>\n",
       "      <th>zhuan_lan</th>\n",
       "      <th>title</th>\n",
       "      <th>author</th>\n",
       "      <th>text</th>\n",
       "      <th>tokenized</th>\n",
       "    </tr>\n",
       "  </thead>\n",
       "  <tbody>\n",
       "    <tr>\n",
       "      <th>643244</th>\n",
       "      <td>1984</td>\n",
       "      <td>9</td>\n",
       "      <td>1984-09-20</td>\n",
       "      <td>7</td>\n",
       "      <td>耳闻目睹</td>\n",
       "      <td>尽快修好这座桥(图片)</td>\n",
       "      <td>解纯朴</td>\n",
       "      <td>['山东禹城至范县公路的三十四至三十五公里的里程碑之间,有一座修了一半的公路桥.据了解,桥没...</td>\n",
       "      <td>[[, ', 山东, 禹城, 至范县, 公路, 的, 三十四, 至, 三十五公里, 的, 里...</td>\n",
       "    </tr>\n",
       "    <tr>\n",
       "      <th>644274</th>\n",
       "      <td>1984</td>\n",
       "      <td>9</td>\n",
       "      <td>1984-09-20</td>\n",
       "      <td>7</td>\n",
       "      <td>大家谈</td>\n",
       "      <td>对待报纸批评应当闻过则喜</td>\n",
       "      <td>曲志敏</td>\n",
       "      <td>['你报7月7日第五版刊登题为《一次看不上报纸的旅游》的读者来信,反映在山东曲阜等地旅游时看...</td>\n",
       "      <td>[[, ', 你, 报, 7, 月, 7, 日, 第五版, 刊登, 题为, 《, 一次, 看...</td>\n",
       "    </tr>\n",
       "    <tr>\n",
       "      <th>641962</th>\n",
       "      <td>1984</td>\n",
       "      <td>9</td>\n",
       "      <td>1984-09-20</td>\n",
       "      <td>8</td>\n",
       "      <td>NaN</td>\n",
       "      <td>黎明-戈壁滩-地平线</td>\n",
       "      <td>刘虹</td>\n",
       "      <td>['黎明-戈壁滩-地平线.记忆与憧憬交叉的路口,死亡与新生并存的空间,仍有西天残月撇着冷笑的...</td>\n",
       "      <td>[[, ', 黎明, -, 戈壁滩, -, 地平线, ., 记忆, 与, 憧憬, 交叉, 的...</td>\n",
       "    </tr>\n",
       "    <tr>\n",
       "      <th>642612</th>\n",
       "      <td>1984</td>\n",
       "      <td>9</td>\n",
       "      <td>1984-09-20</td>\n",
       "      <td>8</td>\n",
       "      <td>NaN</td>\n",
       "      <td>投鼠忌器之类</td>\n",
       "      <td>冯英子</td>\n",
       "      <td>['某大学的一个\"造反派\",十年动乱中,写了不少颠倒黑白\\\\混淆是非的\"文章\",因而很得张春...</td>\n",
       "      <td>[[, ', 某大学, 的, 一个, \", 造反派, \", ,, 十年动乱, 中, ,, 写...</td>\n",
       "    </tr>\n",
       "    <tr>\n",
       "      <th>643698</th>\n",
       "      <td>1984</td>\n",
       "      <td>9</td>\n",
       "      <td>1984-09-20</td>\n",
       "      <td>8</td>\n",
       "      <td>大地</td>\n",
       "      <td>谁更懂得对国土的感情?-南行随想之三</td>\n",
       "      <td>邵燕祥</td>\n",
       "      <td>['是袁庚和他的那些进行\"冒险的改革尝试\"的同志们呢,还是那些指责袁庚引进外资\\\\兴办合营企...</td>\n",
       "      <td>[[, ', 是, 袁庚, 和, 他, 的, 那些, 进行, \", 冒险, 的, 改革, 尝...</td>\n",
       "    </tr>\n",
       "    <tr>\n",
       "      <th>643790</th>\n",
       "      <td>1984</td>\n",
       "      <td>9</td>\n",
       "      <td>1984-09-20</td>\n",
       "      <td>8</td>\n",
       "      <td>春潮曲</td>\n",
       "      <td>山和路</td>\n",
       "      <td>吴淮生</td>\n",
       "      <td>['我住在山麓,是银川市新区的一部分.门前是一道突兀而起的高山,那便是著名的贺兰山.', '...</td>\n",
       "      <td>[[, ', 我, 住, 在, 山麓, ,, 是, 银川市, 新区, 的, 一部分, ., ...</td>\n",
       "    </tr>\n",
       "    <tr>\n",
       "      <th>641937</th>\n",
       "      <td>1984</td>\n",
       "      <td>9</td>\n",
       "      <td>1984-09-21</td>\n",
       "      <td>1</td>\n",
       "      <td>NaN</td>\n",
       "      <td>在全国航海模型\\潜水赛比赛中_周建民浦海清邱亚帝超世界纪录和最好成绩</td>\n",
       "      <td>孙永盛</td>\n",
       "      <td>['1984年全国航海模型比赛组委会今天宣布,上海选手周建民和浦海清昨天在天津举行的1984...</td>\n",
       "      <td>[[, ', 1984, 年, 全国, 航海模型, 比赛, 组委会, 今天, 宣布, ,, ...</td>\n",
       "    </tr>\n",
       "    <tr>\n",
       "      <th>641964</th>\n",
       "      <td>1984</td>\n",
       "      <td>9</td>\n",
       "      <td>1984-09-21</td>\n",
       "      <td>1</td>\n",
       "      <td>NaN</td>\n",
       "      <td>建设部系统设计改革打破两个\"大锅饭\"体制_勘察设计工作走向企业化_社会化全民所有制为主,集体...</td>\n",
       "      <td>肖体焕</td>\n",
       "      <td>['城乡建设环境保护部系统勘察设计单位,坚持端掉两个\"大锅饭\",扩大改革试点,逐步向企业化\\...</td>\n",
       "      <td>[[, ', 城乡建设, 环境保护部, 系统, 勘察, 设计, 单位, ,, 坚持, 端掉,...</td>\n",
       "    </tr>\n",
       "    <tr>\n",
       "      <th>642261</th>\n",
       "      <td>1984</td>\n",
       "      <td>9</td>\n",
       "      <td>1984-09-21</td>\n",
       "      <td>1</td>\n",
       "      <td>NaN</td>\n",
       "      <td>昏迷九十八天的病人被救活</td>\n",
       "      <td>马振东_蒋和平</td>\n",
       "      <td>['一位昏迷了九十八天的原发性脑干伤病人,九月六日在第二军医大学附属长征医院醒过来.这是长征...</td>\n",
       "      <td>[[, ', 一位, 昏迷, 了, 九十八, 天, 的, 原发性, 脑干, 伤病, 人, ,...</td>\n",
       "    </tr>\n",
       "    <tr>\n",
       "      <th>642385</th>\n",
       "      <td>1984</td>\n",
       "      <td>9</td>\n",
       "      <td>1984-09-21</td>\n",
       "      <td>1</td>\n",
       "      <td>NaN</td>\n",
       "      <td>拉萨建成卫星地面站</td>\n",
       "      <td>邱钢毅</td>\n",
       "      <td>['电子工业部援藏重点建设项目-拉萨卫星通信地面站建成并提前完成试收任务.九月十八日十九时,...</td>\n",
       "      <td>[[, ', 电子, 工业部, 援藏, 重点, 建设项目, -, 拉萨, 卫星通信, 地面站...</td>\n",
       "    </tr>\n",
       "    <tr>\n",
       "      <th>642471</th>\n",
       "      <td>1984</td>\n",
       "      <td>9</td>\n",
       "      <td>1984-09-21</td>\n",
       "      <td>1</td>\n",
       "      <td>NaN</td>\n",
       "      <td>设计是工程建设的灵魂</td>\n",
       "      <td>本报评论员</td>\n",
       "      <td>['设计是工程建设的灵魂.基本建设项目能否节约投资,缩短工期,采用先进技术,设计起着关键性的...</td>\n",
       "      <td>[[, ', 设计, 是, 工程建设, 的, 灵魂, ., 基本建设, 项目, 能否, 节约...</td>\n",
       "    </tr>\n",
       "    <tr>\n",
       "      <th>642818</th>\n",
       "      <td>1984</td>\n",
       "      <td>9</td>\n",
       "      <td>1984-09-21</td>\n",
       "      <td>1</td>\n",
       "      <td>NaN</td>\n",
       "      <td>李先念会见阿根廷政府代表团</td>\n",
       "      <td>NaN</td>\n",
       "      <td>['国家主席李先念指出,中国要与阿根廷和拉丁美洲其他国家长期友好下去.', '他说,只要遵守...</td>\n",
       "      <td>[[, ', 国家, 主席, 李先念, 指出, ,, 中国, 要, 与, 阿根廷, 和, 拉...</td>\n",
       "    </tr>\n",
       "    <tr>\n",
       "      <th>642953</th>\n",
       "      <td>1984</td>\n",
       "      <td>9</td>\n",
       "      <td>1984-09-21</td>\n",
       "      <td>1</td>\n",
       "      <td>NaN</td>\n",
       "      <td>六届全国人大常委会第七次会议闭会_会议通过森林法和药品管理法_还通过了关于批准中波两国政府领...</td>\n",
       "      <td>NaN</td>\n",
       "      <td>['六届全国人大常委会第七次会议今天下午在人民大会堂闭会.会议通过了《中华人民共和国森林法》...</td>\n",
       "      <td>[[, ', 六届, 全国人大常委会, 第七次, 会议, 今天下午, 在, 人民大会堂, 闭...</td>\n",
       "    </tr>\n",
       "    <tr>\n",
       "      <th>643114</th>\n",
       "      <td>1984</td>\n",
       "      <td>9</td>\n",
       "      <td>1984-09-21</td>\n",
       "      <td>1</td>\n",
       "      <td>NaN</td>\n",
       "      <td>顽强拚搏\\通力协作\\实行改革的成果_北京三元立交桥提前通车_万里\\胡启立和北京市负责人参加通车典礼</td>\n",
       "      <td>翟启运</td>\n",
       "      <td>['9月20日下午,我国目前最大的北京市三元立交桥(牛王庙立交桥)正式建成通车.', '三元...</td>\n",
       "      <td>[[, ', 9, 月, 20, 日, 下午, ,, 我国, 目前, 最大, 的, 北京市,...</td>\n",
       "    </tr>\n",
       "    <tr>\n",
       "      <th>643216</th>\n",
       "      <td>1984</td>\n",
       "      <td>9</td>\n",
       "      <td>1984-09-21</td>\n",
       "      <td>1</td>\n",
       "      <td>NaN</td>\n",
       "      <td>北京西护城河岸边新添休息场所_滨河公园初步建成北园国庆前开放</td>\n",
       "      <td>NaN</td>\n",
       "      <td>['垂柳依依的北京市西护城河岸边,占地十万多平方米的滨河公园初步建成.国庆前夕,滨河公园北园...</td>\n",
       "      <td>[[, ', 垂柳, 依依, 的, 北京市, 西, 护城河, 岸边, ,, 占地, 十, 万...</td>\n",
       "    </tr>\n",
       "  </tbody>\n",
       "</table>\n",
       "</div>"
      ],
      "text/plain": [
       "        year  month        date  issue zhuan_lan  \\\n",
       "643244  1984      9  1984-09-20      7      耳闻目睹   \n",
       "644274  1984      9  1984-09-20      7       大家谈   \n",
       "641962  1984      9  1984-09-20      8       NaN   \n",
       "642612  1984      9  1984-09-20      8       NaN   \n",
       "643698  1984      9  1984-09-20      8        大地   \n",
       "643790  1984      9  1984-09-20      8       春潮曲   \n",
       "641937  1984      9  1984-09-21      1       NaN   \n",
       "641964  1984      9  1984-09-21      1       NaN   \n",
       "642261  1984      9  1984-09-21      1       NaN   \n",
       "642385  1984      9  1984-09-21      1       NaN   \n",
       "642471  1984      9  1984-09-21      1       NaN   \n",
       "642818  1984      9  1984-09-21      1       NaN   \n",
       "642953  1984      9  1984-09-21      1       NaN   \n",
       "643114  1984      9  1984-09-21      1       NaN   \n",
       "643216  1984      9  1984-09-21      1       NaN   \n",
       "\n",
       "                                                    title   author  \\\n",
       "643244                                        尽快修好这座桥(图片)      解纯朴   \n",
       "644274                                       对待报纸批评应当闻过则喜      曲志敏   \n",
       "641962                                         黎明-戈壁滩-地平线       刘虹   \n",
       "642612                                             投鼠忌器之类      冯英子   \n",
       "643698                                 谁更懂得对国土的感情?-南行随想之三      邵燕祥   \n",
       "643790                                                山和路      吴淮生   \n",
       "641937                 在全国航海模型\\潜水赛比赛中_周建民浦海清邱亚帝超世界纪录和最好成绩      孙永盛   \n",
       "641964  建设部系统设计改革打破两个\"大锅饭\"体制_勘察设计工作走向企业化_社会化全民所有制为主,集体...      肖体焕   \n",
       "642261                                       昏迷九十八天的病人被救活  马振东_蒋和平   \n",
       "642385                                          拉萨建成卫星地面站      邱钢毅   \n",
       "642471                                         设计是工程建设的灵魂    本报评论员   \n",
       "642818                                      李先念会见阿根廷政府代表团      NaN   \n",
       "642953  六届全国人大常委会第七次会议闭会_会议通过森林法和药品管理法_还通过了关于批准中波两国政府领...      NaN   \n",
       "643114  顽强拚搏\\通力协作\\实行改革的成果_北京三元立交桥提前通车_万里\\胡启立和北京市负责人参加通车典礼      翟启运   \n",
       "643216                     北京西护城河岸边新添休息场所_滨河公园初步建成北园国庆前开放      NaN   \n",
       "\n",
       "                                                     text  \\\n",
       "643244  ['山东禹城至范县公路的三十四至三十五公里的里程碑之间,有一座修了一半的公路桥.据了解,桥没...   \n",
       "644274  ['你报7月7日第五版刊登题为《一次看不上报纸的旅游》的读者来信,反映在山东曲阜等地旅游时看...   \n",
       "641962  ['黎明-戈壁滩-地平线.记忆与憧憬交叉的路口,死亡与新生并存的空间,仍有西天残月撇着冷笑的...   \n",
       "642612  ['某大学的一个\"造反派\",十年动乱中,写了不少颠倒黑白\\\\混淆是非的\"文章\",因而很得张春...   \n",
       "643698  ['是袁庚和他的那些进行\"冒险的改革尝试\"的同志们呢,还是那些指责袁庚引进外资\\\\兴办合营企...   \n",
       "643790  ['我住在山麓,是银川市新区的一部分.门前是一道突兀而起的高山,那便是著名的贺兰山.', '...   \n",
       "641937  ['1984年全国航海模型比赛组委会今天宣布,上海选手周建民和浦海清昨天在天津举行的1984...   \n",
       "641964  ['城乡建设环境保护部系统勘察设计单位,坚持端掉两个\"大锅饭\",扩大改革试点,逐步向企业化\\...   \n",
       "642261  ['一位昏迷了九十八天的原发性脑干伤病人,九月六日在第二军医大学附属长征医院醒过来.这是长征...   \n",
       "642385  ['电子工业部援藏重点建设项目-拉萨卫星通信地面站建成并提前完成试收任务.九月十八日十九时,...   \n",
       "642471  ['设计是工程建设的灵魂.基本建设项目能否节约投资,缩短工期,采用先进技术,设计起着关键性的...   \n",
       "642818  ['国家主席李先念指出,中国要与阿根廷和拉丁美洲其他国家长期友好下去.', '他说,只要遵守...   \n",
       "642953  ['六届全国人大常委会第七次会议今天下午在人民大会堂闭会.会议通过了《中华人民共和国森林法》...   \n",
       "643114  ['9月20日下午,我国目前最大的北京市三元立交桥(牛王庙立交桥)正式建成通车.', '三元...   \n",
       "643216  ['垂柳依依的北京市西护城河岸边,占地十万多平方米的滨河公园初步建成.国庆前夕,滨河公园北园...   \n",
       "\n",
       "                                                tokenized  \n",
       "643244  [[, ', 山东, 禹城, 至范县, 公路, 的, 三十四, 至, 三十五公里, 的, 里...  \n",
       "644274  [[, ', 你, 报, 7, 月, 7, 日, 第五版, 刊登, 题为, 《, 一次, 看...  \n",
       "641962  [[, ', 黎明, -, 戈壁滩, -, 地平线, ., 记忆, 与, 憧憬, 交叉, 的...  \n",
       "642612  [[, ', 某大学, 的, 一个, \", 造反派, \", ,, 十年动乱, 中, ,, 写...  \n",
       "643698  [[, ', 是, 袁庚, 和, 他, 的, 那些, 进行, \", 冒险, 的, 改革, 尝...  \n",
       "643790  [[, ', 我, 住, 在, 山麓, ,, 是, 银川市, 新区, 的, 一部分, ., ...  \n",
       "641937  [[, ', 1984, 年, 全国, 航海模型, 比赛, 组委会, 今天, 宣布, ,, ...  \n",
       "641964  [[, ', 城乡建设, 环境保护部, 系统, 勘察, 设计, 单位, ,, 坚持, 端掉,...  \n",
       "642261  [[, ', 一位, 昏迷, 了, 九十八, 天, 的, 原发性, 脑干, 伤病, 人, ,...  \n",
       "642385  [[, ', 电子, 工业部, 援藏, 重点, 建设项目, -, 拉萨, 卫星通信, 地面站...  \n",
       "642471  [[, ', 设计, 是, 工程建设, 的, 灵魂, ., 基本建设, 项目, 能否, 节约...  \n",
       "642818  [[, ', 国家, 主席, 李先念, 指出, ,, 中国, 要, 与, 阿根廷, 和, 拉...  \n",
       "642953  [[, ', 六届, 全国人大常委会, 第七次, 会议, 今天下午, 在, 人民大会堂, 闭...  \n",
       "643114  [[, ', 9, 月, 20, 日, 下午, ,, 我国, 目前, 最大, 的, 北京市,...  \n",
       "643216  [[, ', 垂柳, 依依, 的, 北京市, 西, 护城河, 岸边, ,, 占地, 十, 万...  "
      ]
     },
     "execution_count": 13,
     "metadata": {},
     "output_type": "execute_result"
    }
   ],
   "source": [
    "rmrb.head(15)"
   ]
  },
  {
   "cell_type": "code",
   "execution_count": 12,
   "metadata": {
    "scrolled": true
   },
   "outputs": [],
   "source": [
    "# Save the tokenized corpus\n",
    "if user == \"Linghui\":\n",
    "    rmrb.to_csv(\"/Users/linghuiwu/uchicago/courseworks/soci40133/rmrb/rmrb_corpus_tokenized.csv\")"
   ]
  },
  {
   "cell_type": "markdown",
   "metadata": {},
   "source": [
    "**Further Notice**\n",
    "\n",
    "- Here I only used a sample of 2000 pieces of news for test. The tokenization of the whole corpus is super computationally intensive.\n",
    "\n",
    "- The computational linguistic lab at Peking University developed \"人民日报切分/标注语料库\", which seems helpful."
   ]
  }
 ],
 "metadata": {
  "kernelspec": {
   "display_name": "Python 3",
   "language": "python",
   "name": "python3"
  },
  "language_info": {
   "codemirror_mode": {
    "name": "ipython",
    "version": 3
   },
   "file_extension": ".py",
   "mimetype": "text/x-python",
   "name": "python",
   "nbconvert_exporter": "python",
   "pygments_lexer": "ipython3",
   "version": "3.7.6"
  }
 },
 "nbformat": 4,
 "nbformat_minor": 4
}
